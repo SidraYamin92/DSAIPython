{
 "cells": [
  {
   "cell_type": "code",
   "execution_count": null,
   "id": "d919bbc8-6654-488a-a9c4-625490217710",
   "metadata": {},
   "outputs": [
    {
     "name": "stdout",
     "output_type": "stream",
     "text": [
      "\n",
      "ATM System:\n",
      "1. Display Balance\n",
      "2. Deposit Amount\n",
      "3. Withdraw Money\n",
      "4. Exit\n"
     ]
    }
   ],
   "source": [
    "def default_balance():\n",
    "    balance = 0.0\n",
    "\n",
    "    def profile():\n",
    "        print(\"\\nATM System:\")\n",
    "        print(\"1. Display Balance\")\n",
    "        print(\"2. Deposit Amount\")\n",
    "        print(\"3. Withdraw Money\")\n",
    "        print(\"4. Exit\")\n",
    "    \n",
    "    while True:\n",
    "        profile()\n",
    "        Choice = input(\"Enter your choice (1-4):\")\n",
    "    \n",
    "        if Choice == \"1\":\n",
    "            print(f\"Your Current Balance is: ${balance:.2f}\")\n",
    "        elif Choice == \"2\":\n",
    "            try:\n",
    "                deposit_amount = float(input(\"Enter the amount to deposit:\"))\n",
    "                if deposit_amount > 0:\n",
    "                    balance += deposit_amount\n",
    "                    print(f\"Deposited Amount: ${deposit_amount:.2f} Successfully\")\n",
    "                    print(f\"Updated Balance: ${balance:.2f}\")\n",
    "                else:\n",
    "                    print(\"Error: Deposit Amount must be positive\")\n",
    "            except ValueError:\n",
    "                print(\"Invalid Input, Please Enter a Valid Amount\")\n",
    "        elif Choice == \"3\":\n",
    "            try:\n",
    "                withdraw_amount = float(input(\"Enter Amount to Withdraw:\"))\n",
    "                if withdraw_amount > 0:\n",
    "                    if withdraw_amount <= balance:\n",
    "                        balance -= withdraw_amount\n",
    "                        print(f\"Withdrawn Amount: ${withdraw_amount:.2f} Successfully\")\n",
    "                        print(f\"Updated Balance: ${balance:.2f}\")\n",
    "                    else:\n",
    "                        print(\"Error: Insufficient Funds\")\n",
    "                else:\n",
    "                    print(\"Error: Withdrawal Amount must be positive\")\n",
    "            except ValueError:\n",
    "                print(\"Invalid Input, Please Enter a Valid Amount\")\n",
    "        elif Choice == \"4\":\n",
    "            print(\"Thank you for Using Our ATM Machine\")\n",
    "            break\n",
    "        else:\n",
    "            print(\"Invalid choice: Please select a valid option: 1-4\")\n",
    "\n",
    "default_balance()\n"
   ]
  },
  {
   "cell_type": "code",
   "execution_count": null,
   "id": "94dd6d67-9ce9-4806-9d24-00eef27693fd",
   "metadata": {},
   "outputs": [],
   "source": []
  }
 ],
 "metadata": {
  "kernelspec": {
   "display_name": "Python 3 (ipykernel)",
   "language": "python",
   "name": "python3"
  },
  "language_info": {
   "codemirror_mode": {
    "name": "ipython",
    "version": 3
   },
   "file_extension": ".py",
   "mimetype": "text/x-python",
   "name": "python",
   "nbconvert_exporter": "python",
   "pygments_lexer": "ipython3",
   "version": "3.13.0"
  }
 },
 "nbformat": 4,
 "nbformat_minor": 5
}
