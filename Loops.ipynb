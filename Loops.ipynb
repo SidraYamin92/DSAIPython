{
 "cells": [
  {
   "cell_type": "code",
   "execution_count": 1,
   "id": "97be9c05-df5e-40e7-a6fb-c3f33941c362",
   "metadata": {},
   "outputs": [
    {
     "name": "stdin",
     "output_type": "stream",
     "text": [
      "Guess the number 1\n"
     ]
    },
    {
     "name": "stdout",
     "output_type": "stream",
     "text": [
      "Guess higher number\n"
     ]
    },
    {
     "name": "stdin",
     "output_type": "stream",
     "text": [
      "Guess the number 2\n"
     ]
    },
    {
     "name": "stdout",
     "output_type": "stream",
     "text": [
      "Guess higher number\n"
     ]
    },
    {
     "name": "stdin",
     "output_type": "stream",
     "text": [
      "Guess the number 3\n"
     ]
    },
    {
     "name": "stdout",
     "output_type": "stream",
     "text": [
      "Guess higher number\n"
     ]
    },
    {
     "name": "stdin",
     "output_type": "stream",
     "text": [
      "Guess the number 56\n"
     ]
    },
    {
     "name": "stdout",
     "output_type": "stream",
     "text": [
      "Guess Lower\n"
     ]
    },
    {
     "name": "stdin",
     "output_type": "stream",
     "text": [
      "Guess the number 89\n"
     ]
    },
    {
     "name": "stdout",
     "output_type": "stream",
     "text": [
      "Guess Lower\n"
     ]
    },
    {
     "name": "stdin",
     "output_type": "stream",
     "text": [
      "Guess the number 50\n"
     ]
    },
    {
     "name": "stdout",
     "output_type": "stream",
     "text": [
      "Guess Lower\n"
     ]
    },
    {
     "name": "stdin",
     "output_type": "stream",
     "text": [
      "Guess the number 40\n"
     ]
    },
    {
     "name": "stdout",
     "output_type": "stream",
     "text": [
      "Guess Lower\n"
     ]
    },
    {
     "name": "stdin",
     "output_type": "stream",
     "text": [
      "Guess the number 30\n"
     ]
    },
    {
     "name": "stdout",
     "output_type": "stream",
     "text": [
      "Guess Lower\n"
     ]
    },
    {
     "name": "stdin",
     "output_type": "stream",
     "text": [
      "Guess the number 20\n"
     ]
    },
    {
     "name": "stdout",
     "output_type": "stream",
     "text": [
      "Guess Lower\n"
     ]
    },
    {
     "name": "stdin",
     "output_type": "stream",
     "text": [
      "Guess the number 15\n"
     ]
    },
    {
     "name": "stdout",
     "output_type": "stream",
     "text": [
      "Guess Lower\n"
     ]
    },
    {
     "name": "stdin",
     "output_type": "stream",
     "text": [
      "Guess the number 10\n"
     ]
    },
    {
     "name": "stdout",
     "output_type": "stream",
     "text": [
      "Guess higher number\n"
     ]
    },
    {
     "name": "stdin",
     "output_type": "stream",
     "text": [
      "Guess the number 11\n"
     ]
    },
    {
     "name": "stdout",
     "output_type": "stream",
     "text": [
      "Guess higher number\n"
     ]
    },
    {
     "name": "stdin",
     "output_type": "stream",
     "text": [
      "Guess the number 12\n"
     ]
    },
    {
     "name": "stdout",
     "output_type": "stream",
     "text": [
      "Guess higher number\n"
     ]
    },
    {
     "name": "stdin",
     "output_type": "stream",
     "text": [
      "Guess the number 13\n"
     ]
    },
    {
     "name": "stdout",
     "output_type": "stream",
     "text": [
      "Correct Guess\n",
      "Number of Turns taken by user 14\n"
     ]
    }
   ],
   "source": [
    "# Guess Game : The game will generate a guess number and we have to guess it within limited counts.\n",
    "#random.randint will help in generating a random number\n",
    "import random\n",
    "jackpot = random.randint(1,100)\n",
    "guess_num = int(input(\"Guess the number\"))\n",
    "\n",
    "counter=1\n",
    "while guess_num != jackpot:\n",
    "    if guess_num < jackpot:\n",
    "        print(\"Guess higher number\")\n",
    "    else:\n",
    "        print(\"Guess Lower\")\n",
    "    guess_num = int(input(\"Guess the number\"))\n",
    "    counter=counter+1\n",
    "else:\n",
    "    print(\"Correct Guess\") \n",
    "    print(\"Number of Turns taken by user\", counter)\n",
    "\n",
    "\n",
    "\n"
   ]
  },
  {
   "cell_type": "markdown",
   "id": "26004d25-c472-44df-b9ab-308260367288",
   "metadata": {},
   "source": [
    "# for Loop"
   ]
  },
  {
   "cell_type": "code",
   "execution_count": 11,
   "id": "d846b746-6986-4c0e-a885-8824a2935b43",
   "metadata": {},
   "outputs": [
    {
     "name": "stdout",
     "output_type": "stream",
     "text": [
      "1\n",
      "3\n",
      "5\n",
      "7\n",
      "9\n"
     ]
    }
   ],
   "source": [
    "#step is the third parameter\n",
    "for num in range(1,10,2):\n",
    "    print(num)"
   ]
  },
  {
   "cell_type": "code",
   "execution_count": 14,
   "id": "a022c8a1-9e75-4aeb-b02d-c18d1e6ece61",
   "metadata": {},
   "outputs": [
    {
     "name": "stdout",
     "output_type": "stream",
     "text": [
      "Apple\n",
      "CHerry\n",
      "Banana\n"
     ]
    }
   ],
   "source": [
    "fruits=['Apple', 'CHerry', 'Banana']\n",
    "for num in fruits:\n",
    "        print (num)"
   ]
  },
  {
   "cell_type": "code",
   "execution_count": 15,
   "id": "afa0a0c7-1a9a-4551-af93-d5876dee1f3d",
   "metadata": {},
   "outputs": [
    {
     "name": "stdout",
     "output_type": "stream",
     "text": [
      "brand ford\n",
      "model mustang\n",
      "year 1964\n"
     ]
    }
   ],
   "source": [
    "data={\"brand\" : \"ford\", \"model\": \"mustang\", \"year\": 1964}\n",
    "for item in data:\n",
    "    print(item,data[item])"
   ]
  },
  {
   "cell_type": "code",
   "execution_count": 66,
   "id": "b27d2393-1abf-46e3-967f-aa8cf7f8eb20",
   "metadata": {},
   "outputs": [
    {
     "name": "stdout",
     "output_type": "stream",
     "text": [
      "10 10000\n",
      "9 9091\n",
      "8 8265\n",
      "7 7514\n",
      "6 6831\n",
      "5 6210\n",
      "4 5645\n",
      "3 5132\n",
      "2 4665\n",
      "1 4241\n"
     ]
    }
   ],
   "source": [
    "#Program - The current population of a town is 10000. The population of the town is increasing at the rate of 10% per year. You have to write a program to find out the population at the end of each of the last 10 years.\n",
    "\n",
    "current_population=10000\n",
    "\n",
    "for years in range (10,0,-1):\n",
    "    print(years, current_population)\n",
    "    current_population=round(current_population/1.1)\n",
    "    \n",
    "   \n"
   ]
  },
  {
   "cell_type": "markdown",
   "id": "d9a0ac4e-9bca-4b19-ada7-e7bfe7bc76cb",
   "metadata": {},
   "source": [
    "# Nested Loop"
   ]
  },
  {
   "cell_type": "code",
   "execution_count": 2,
   "id": "cd7c01a5-3236-4482-9f10-2d692f3479fb",
   "metadata": {},
   "outputs": [],
   "source": [
    "# Nested Loop : Loop within a  . Initialization, increment and decreament. \n",
    "\n",
    "#for i in range (1,5):\n",
    "    #for j in range(1,5):\n",
    "     #   for k in range (1,5):\n",
    "      #      for l in range (1,5):\n",
    "       #          for m in range (1,5):\n",
    "        #             for n in range (1,5):\n",
    "         #                 for o in range (1,5):\n",
    "          #                     for p in range (1,5):\n",
    "           #                         for q in range (1,5):\n",
    "            #                           print(i,j,k,l,m,n,o,p,q)"
   ]
  },
  {
   "cell_type": "code",
   "execution_count": 85,
   "id": "21fa3487-a7a9-4706-b199-1e0870af871e",
   "metadata": {},
   "outputs": [
    {
     "name": "stdin",
     "output_type": "stream",
     "text": [
      "Enter number of rows for pattern 4\n"
     ]
    },
    {
     "name": "stdout",
     "output_type": "stream",
     "text": [
      "*\n",
      "**\n",
      "***\n",
      "****\n"
     ]
    }
   ],
   "source": [
    "### to remove \\n we have used end='' operator, it will show the content in the same line instead of the next line. \n",
    "#### patern 1\n",
    "# *      \n",
    "# **   \n",
    "# ***  \n",
    "# ****\n",
    "rows = int(input(\"Enter number of rows for pattern\"))\n",
    "for i in range (1, rows+1):\n",
    "    for j in range (1, i+1):\n",
    "        print('*',end='')\n",
    "    print()\n"
   ]
  },
  {
   "cell_type": "code",
   "execution_count": 82,
   "id": "7036c7c8-dea8-4245-9637-856725b804ca",
   "metadata": {},
   "outputs": [
    {
     "name": "stdin",
     "output_type": "stream",
     "text": [
      "Enter number of rows for pattern 5\n"
     ]
    },
    {
     "name": "stdout",
     "output_type": "stream",
     "text": [
      "*****\n",
      "****\n",
      "***\n",
      "**\n",
      "*\n"
     ]
    }
   ],
   "source": [
    "new = int(input(\"Enter number of rows for pattern\"))\n",
    "for k in range (new, 0, -1):\n",
    "    for l in range (1, k+1):\n",
    "        print('*',end='')\n",
    "    print()\n"
   ]
  },
  {
   "cell_type": "code",
   "execution_count": 84,
   "id": "52af635f-7013-4517-aebe-fb61c15bcc34",
   "metadata": {},
   "outputs": [
    {
     "name": "stdin",
     "output_type": "stream",
     "text": [
      "Enter number of rows for pattern 4\n"
     ]
    },
    {
     "name": "stdout",
     "output_type": "stream",
     "text": [
      "*\n",
      "**\n",
      "***\n",
      "****\n",
      "****\n",
      "***\n",
      "**\n",
      "*\n"
     ]
    }
   ],
   "source": [
    "rows = int(input(\"Enter number of rows for pattern\"))\n",
    "for i in range (1, rows+1):\n",
    "    for j in range (1, i+1):\n",
    "        print('*',end='')\n",
    "    print()\n",
    "for k in range (rows, 0, -1):\n",
    "    for l in range (1, k+1):\n",
    "        print('*',end='')\n",
    "    print()"
   ]
  },
  {
   "cell_type": "code",
   "execution_count": 16,
   "id": "f5af493d-c5fc-41ab-99c8-222d8e6c81cb",
   "metadata": {},
   "outputs": [
    {
     "name": "stdin",
     "output_type": "stream",
     "text": [
      "enter number of rows 5\n"
     ]
    },
    {
     "name": "stdout",
     "output_type": "stream",
     "text": [
      "1\n",
      "12\n",
      "123\n",
      "1234\n",
      "12345\n"
     ]
    }
   ],
   "source": [
    "#Pattern 2\n",
    "rows=int(input('enter number of rows'))\n",
    "for i in range(1,rows+1):\n",
    "    for j in range(1,i+1):\n",
    "        print(j,end=\"\")\n",
    "    for k in range(1-i,0,-1):\n",
    "        print(k,end=\"\")\n",
    "    print()"
   ]
  },
  {
   "cell_type": "code",
   "execution_count": 21,
   "id": "65286401-e6c4-44d8-8b96-59b3dee7681b",
   "metadata": {},
   "outputs": [
    {
     "name": "stdin",
     "output_type": "stream",
     "text": [
      "enter number of rows 9\n"
     ]
    },
    {
     "name": "stdout",
     "output_type": "stream",
     "text": [
      "1\n",
      "12\n",
      "123\n",
      "1234\n",
      "12345\n",
      "123456\n",
      "1234567\n",
      "12345678\n",
      "123456789\n"
     ]
    }
   ],
   "source": [
    "rows=int(input('enter number of rows'))\n",
    "for i in range(1,rows+1):\n",
    "    for j in range(1,i+1):\n",
    "        print(j,end=\"\")\n",
    "    for k in range(1-i,0,-1):\n",
    "        print(k,end=\"\")\n",
    "    print()"
   ]
  }
 ],
 "metadata": {
  "kernelspec": {
   "display_name": "Python 3 (ipykernel)",
   "language": "python",
   "name": "python3"
  },
  "language_info": {
   "codemirror_mode": {
    "name": "ipython",
    "version": 3
   },
   "file_extension": ".py",
   "mimetype": "text/x-python",
   "name": "python",
   "nbconvert_exporter": "python",
   "pygments_lexer": "ipython3",
   "version": "3.13.0"
  }
 },
 "nbformat": 4,
 "nbformat_minor": 5
}
