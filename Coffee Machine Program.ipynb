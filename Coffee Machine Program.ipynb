{
 "cells": [
  {
   "cell_type": "code",
   "execution_count": null,
   "id": "e45b1a76-785a-4a94-8458-2f3e822185e2",
   "metadata": {},
   "outputs": [
    {
     "name": "stdin",
     "output_type": "stream",
     "text": [
      " 1\n"
     ]
    },
    {
     "name": "stdout",
     "output_type": "stream",
     "text": [
      "Please insert coins:\n"
     ]
    },
    {
     "name": "stdin",
     "output_type": "stream",
     "text": [
      "How many quarters?  50\n",
      "How many dimes?  2\n",
      "How many nickels?  1\n",
      "How many pennies?  3\n"
     ]
    },
    {
     "name": "stdout",
     "output_type": "stream",
     "text": [
      "Here is $10.28 in change.\n",
      "Here is your Espresso. Enjoy!\n"
     ]
    },
    {
     "name": "stdin",
     "output_type": "stream",
     "text": [
      " 2\n"
     ]
    },
    {
     "name": "stdout",
     "output_type": "stream",
     "text": [
      "Please insert coins:\n"
     ]
    },
    {
     "name": "stdin",
     "output_type": "stream",
     "text": [
      "How many quarters?  12\n",
      "How many dimes?  12\n",
      "How many nickels?  12\n",
      "How many pennies?  12\n"
     ]
    },
    {
     "name": "stdout",
     "output_type": "stream",
     "text": [
      "Here is $3.42 in change.\n",
      "Here is your Latte. Enjoy!\n"
     ]
    },
    {
     "name": "stdin",
     "output_type": "stream",
     "text": [
      " 2\n"
     ]
    },
    {
     "name": "stdout",
     "output_type": "stream",
     "text": [
      "Please insert coins:\n"
     ]
    },
    {
     "name": "stdin",
     "output_type": "stream",
     "text": [
      "How many quarters?  1\n",
      "How many dimes?  2\n",
      "How many nickels?  3\n",
      "How many pennies?  4\n"
     ]
    },
    {
     "name": "stdout",
     "output_type": "stream",
     "text": [
      "Sorry, that's not enough money. Money refunded.\n"
     ]
    },
    {
     "name": "stdin",
     "output_type": "stream",
     "text": [
      " 2\n"
     ]
    },
    {
     "name": "stdout",
     "output_type": "stream",
     "text": [
      "Please insert coins:\n"
     ]
    },
    {
     "name": "stdin",
     "output_type": "stream",
     "text": [
      "How many quarters?  2\n",
      "How many dimes?  2\n",
      "How many nickels?  2\n",
      "How many pennies?  2\n"
     ]
    },
    {
     "name": "stdout",
     "output_type": "stream",
     "text": [
      "Sorry, that's not enough money. Money refunded.\n"
     ]
    },
    {
     "name": "stdin",
     "output_type": "stream",
     "text": [
      " 23\n"
     ]
    },
    {
     "name": "stdout",
     "output_type": "stream",
     "text": [
      "Invalid input. Please try again.\n"
     ]
    },
    {
     "name": "stdin",
     "output_type": "stream",
     "text": [
      " 35\n"
     ]
    },
    {
     "name": "stdout",
     "output_type": "stream",
     "text": [
      "Invalid input. Please try again.\n"
     ]
    },
    {
     "name": "stdin",
     "output_type": "stream",
     "text": [
      " 13\n"
     ]
    },
    {
     "name": "stdout",
     "output_type": "stream",
     "text": [
      "Invalid input. Please try again.\n"
     ]
    },
    {
     "name": "stdin",
     "output_type": "stream",
     "text": [
      " 13\n"
     ]
    },
    {
     "name": "stdout",
     "output_type": "stream",
     "text": [
      "Invalid input. Please try again.\n"
     ]
    },
    {
     "name": "stdin",
     "output_type": "stream",
     "text": [
      " 1\n"
     ]
    },
    {
     "name": "stdout",
     "output_type": "stream",
     "text": [
      "Please insert coins:\n"
     ]
    },
    {
     "name": "stdin",
     "output_type": "stream",
     "text": [
      "How many quarters?  12\n",
      "How many dimes?  12\n",
      "How many nickels?  12\n",
      "How many pennies?  12\n"
     ]
    },
    {
     "name": "stdout",
     "output_type": "stream",
     "text": [
      "Here is $2.42 in change.\n",
      "Here is your Espresso. Enjoy!\n"
     ]
    },
    {
     "name": "stdin",
     "output_type": "stream",
     "text": [
      " 1\n"
     ]
    },
    {
     "name": "stdout",
     "output_type": "stream",
     "text": [
      "Sorry, there is not enough Water.\n"
     ]
    },
    {
     "name": "stdin",
     "output_type": "stream",
     "text": [
      " 1\n"
     ]
    },
    {
     "name": "stdout",
     "output_type": "stream",
     "text": [
      "Sorry, there is not enough Water.\n"
     ]
    },
    {
     "name": "stdin",
     "output_type": "stream",
     "text": [
      " 123\n"
     ]
    },
    {
     "name": "stdout",
     "output_type": "stream",
     "text": [
      "Invalid input. Please try again.\n"
     ]
    },
    {
     "name": "stdin",
     "output_type": "stream",
     "text": [
      " 1\n"
     ]
    },
    {
     "name": "stdout",
     "output_type": "stream",
     "text": [
      "Sorry, there is not enough Water.\n"
     ]
    }
   ],
   "source": [
    "Current_Resources = {\n",
    "    \"Water\": 500,\n",
    "    \"Milk\": 200,\n",
    "    \"Coffee\": 206,\n",
    "    \"Money\": 0,\n",
    "}\n",
    "\n",
    "Coffee_List = {\n",
    "    \"Latte\": {\n",
    "        \"ingredients\": {\n",
    "            \"Water\": 50,\n",
    "            \"Milk\": 10,\n",
    "            \"Coffee\": 36\n",
    "        },\n",
    "        \"Cost\": 1.5\n",
    "    },\n",
    "    \"Espresso\": {\n",
    "        \"ingredients\": {\n",
    "            \"Water\": 200,\n",
    "            \"Milk\": 30,\n",
    "            \"Coffee\": 46\n",
    "        },\n",
    "        \"Cost\": 2.5\n",
    "    },\n",
    "    \"Cappuccino\": {\n",
    "        \"ingredients\": {\n",
    "            \"Water\": 250,\n",
    "            \"Milk\": 40,\n",
    "            \"Coffee\": 25\n",
    "        },\n",
    "        \"Cost\": 3.5\n",
    "    }\n",
    "}\n",
    "\n",
    "\n",
    "def process_coins():\n",
    "    print(\"Please insert coins:\")\n",
    "    quarters = int(input(\"How many quarters? \")) * 0.25\n",
    "    dimes = int(input(\"How many dimes? \")) * 0.10\n",
    "    nickels = int(input(\"How many nickels? \")) * 0.05\n",
    "    pennies = int(input(\"How many pennies? \")) * 0.01\n",
    "    return quarters + dimes + nickels + pennies\n",
    "\n",
    "\n",
    "def transaction_successful(payment, cost):\n",
    "    if payment >= cost:\n",
    "        change = round(payment - cost, 2)\n",
    "        if change > 0:\n",
    "            print(f\"Here is ${change} in change.\")\n",
    "        Current_Resources[\"Money\"] += cost\n",
    "        return True\n",
    "    else:\n",
    "        print(\"Sorry, that's not enough money. Money refunded.\")\n",
    "        return False\n",
    "\n",
    "\n",
    "def is_resources_sufficient(order_ingredients):\n",
    "    for item in order_ingredients:\n",
    "        if order_ingredients[item] > Current_Resources[item]:\n",
    "            print(f\"Sorry, there is not enough {item}.\")\n",
    "            return False\n",
    "    return True\n",
    "\n",
    "\n",
    "def make_coffee(drink_name, order_ingredients):\n",
    "    for item in order_ingredients:\n",
    "        Current_Resources[item] -= order_ingredients[item]\n",
    "    print(f\"Here is your {drink_name}. Enjoy!\")\n",
    "\n",
    "\n",
    "is_on = True\n",
    "while is_on:\n",
    "    User_Input = input(\n",
    "    ).strip()\n",
    "\n",
    "    if User_Input.lower() == \"off\":\n",
    "        is_on = False\n",
    "    elif User_Input.lower() == \"report\":\n",
    "        print(f\"Water: {Current_Resources['Water']}ml\")\n",
    "        print(f\"Milk: {Current_Resources['Milk']}ml\")\n",
    "        print(f\"Coffee: {Current_Resources['Coffee']}g\")\n",
    "        print(f\"Money: ${Current_Resources['Money']}\")\n",
    "    elif User_Input in [\"1\", \"2\", \"3\"]:\n",
    "        coffee_choice = None\n",
    "        if User_Input == \"1\":\n",
    "            coffee_choice = \"Espresso\"\n",
    "        elif User_Input == \"2\":\n",
    "            coffee_choice = \"Latte\"\n",
    "        elif User_Input == \"3\":\n",
    "            coffee_choice = \"Cappuccino\"\n",
    "\n",
    "        drink = Coffee_List[coffee_choice]\n",
    "\n",
    "        if is_resources_sufficient(drink[\"ingredients\"]):\n",
    "            payment = process_coins()\n",
    "            if transaction_successful(payment, drink[\"Cost\"]):\n",
    "                make_coffee(coffee_choice, drink[\"ingredients\"])\n",
    "    else:\n",
    "        print(\"Invalid input. Please try again.\")\n"
   ]
  },
  {
   "cell_type": "code",
   "execution_count": null,
   "id": "ede223a7-e2fd-4734-85d2-8b030e86d8fe",
   "metadata": {},
   "outputs": [],
   "source": [
    "\n"
   ]
  }
 ],
 "metadata": {
  "kernelspec": {
   "display_name": "Python 3 (ipykernel)",
   "language": "python",
   "name": "python3"
  },
  "language_info": {
   "codemirror_mode": {
    "name": "ipython",
    "version": 3
   },
   "file_extension": ".py",
   "mimetype": "text/x-python",
   "name": "python",
   "nbconvert_exporter": "python",
   "pygments_lexer": "ipython3",
   "version": "3.13.0"
  }
 },
 "nbformat": 4,
 "nbformat_minor": 5
}
