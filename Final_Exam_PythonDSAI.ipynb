{
 "cells": [
  {
   "cell_type": "markdown",
   "id": "041066a4-a733-4ca1-91a3-63c9d753815b",
   "metadata": {},
   "source": [
    "### Question 1"
   ]
  },
  {
   "cell_type": "code",
   "execution_count": 1,
   "id": "cfd03d87-fc49-4a63-a748-5e19944effc2",
   "metadata": {},
   "outputs": [
    {
     "name": "stdin",
     "output_type": "stream",
     "text": [
      "enter your number here 6\n"
     ]
    },
    {
     "name": "stdout",
     "output_type": "stream",
     "text": [
      "Its an even number\n"
     ]
    }
   ],
   "source": [
    "def evennum(num):\n",
    "    if type(num)==int:\n",
    "        if num%2 == 0:\n",
    "            print(\"Its an even number\")\n",
    "        else:\n",
    "            print(\"Its an odd number\")\n",
    "    else:\n",
    "        print(\"enter a valid number\")\n",
    "\n",
    "num=int(input(\"enter your number here\"))\n",
    "\n",
    "evennum(num)"
   ]
  },
  {
   "cell_type": "code",
   "execution_count": 2,
   "id": "eddddbd1-b855-4d69-90c2-e791a65e8882",
   "metadata": {},
   "outputs": [
    {
     "name": "stdin",
     "output_type": "stream",
     "text": [
      "Enter Your radius of the circle 30\n"
     ]
    },
    {
     "name": "stdout",
     "output_type": "stream",
     "text": [
      "The area of the circle is: 1926.0\n",
      "The circumference of the circle is: 128.4\n"
     ]
    }
   ],
   "source": [
    "   \n",
    "def calculate_area(radius):\n",
    "    return 2.14*radius **2 \n",
    "\n",
    "def calculate_circumference(radius):\n",
    "    return 2 * 2.14 * radius\n",
    "\n",
    "radius=  float(input(\"Enter Your radius of the circle\"))\n",
    " \n",
    "area = calculate_area(radius)\n",
    "circumference = calculate_circumference(radius)\n",
    "\n",
    "print(f\"The area of the circle is: {area}\")\n",
    "print(f\"The circumference of the circle is: {circumference}\")\n",
    "\n"
   ]
  },
  {
   "cell_type": "code",
   "execution_count": 3,
   "id": "96350a65-28d4-42ad-a788-81fc3fe50908",
   "metadata": {},
   "outputs": [
    {
     "data": {
      "text/plain": [
       "[10, 20, 30, 40, 50, 60]"
      ]
     },
     "execution_count": 3,
     "metadata": {},
     "output_type": "execute_result"
    }
   ],
   "source": [
    "numbers = [10, 20, 30, 40, 50]\n",
    "numbers.append(60)\n",
    "numbers"
   ]
  },
  {
   "cell_type": "code",
   "execution_count": 4,
   "id": "a7dd9080-33e7-43d0-8211-429dd16f2202",
   "metadata": {},
   "outputs": [
    {
     "data": {
      "text/plain": [
       "20"
      ]
     },
     "execution_count": 4,
     "metadata": {},
     "output_type": "execute_result"
    }
   ],
   "source": [
    "numbers.pop(1)"
   ]
  },
  {
   "cell_type": "code",
   "execution_count": 5,
   "id": "998a959d-8cc0-4842-bd9a-9a716f531022",
   "metadata": {},
   "outputs": [
    {
     "data": {
      "text/plain": [
       "[10, 30, 40, 50, 60]"
      ]
     },
     "execution_count": 5,
     "metadata": {},
     "output_type": "execute_result"
    }
   ],
   "source": [
    "numbers"
   ]
  },
  {
   "cell_type": "code",
   "execution_count": 6,
   "id": "912bb698-2df4-4769-acf8-39dca08d98e2",
   "metadata": {},
   "outputs": [
    {
     "data": {
      "text/plain": [
       "[10, 30, 80, 40, 50, 60]"
      ]
     },
     "execution_count": 6,
     "metadata": {},
     "output_type": "execute_result"
    }
   ],
   "source": [
    "numbers.insert(2,80)\n",
    "numbers"
   ]
  },
  {
   "cell_type": "markdown",
   "id": "36663614-3e64-4a0d-a779-d5fba5042df8",
   "metadata": {},
   "source": [
    "### Question 2"
   ]
  },
  {
   "cell_type": "code",
   "execution_count": 7,
   "id": "3b2435a1-ba80-4f10-bb76-265dda449af4",
   "metadata": {},
   "outputs": [
    {
     "name": "stdin",
     "output_type": "stream",
     "text": [
      " 1\n"
     ]
    },
    {
     "name": "stdout",
     "output_type": "stream",
     "text": [
      "Please insert coins:\n"
     ]
    },
    {
     "name": "stdin",
     "output_type": "stream",
     "text": [
      "How many quarters?  10\n",
      "How many dimes?  30\n",
      "How many nickels?  40\n",
      "How many pennies?  50\n"
     ]
    },
    {
     "name": "stdout",
     "output_type": "stream",
     "text": [
      "Here is $3.5 in change.\n",
      "Here is your Espresso. Enjoy!\n"
     ]
    },
    {
     "name": "stdin",
     "output_type": "stream",
     "text": [
      " off\n"
     ]
    }
   ],
   "source": [
    "Current_Resources = {\n",
    "    \"Sugar\": 50,\n",
    "    \"Milk\": 300,\n",
    "    \"Coffee\": 250,\n",
    "    \"Money\": 0,\n",
    "    \"Plastic cups\": 5\n",
    "}\n",
    "\n",
    "Coffee_List = {\n",
    "    \"Latte\": {\n",
    "        \"ingredients\": {\n",
    "            \"Sugar\": 30,\n",
    "            \"Milk\": 20,\n",
    "            \"Coffee\": 40,\n",
    "            \"Plastic cups\": 1\n",
    "        },\n",
    "        \"Cost\": 3.5\n",
    "    },\n",
    "    \"Espresso\": {\n",
    "        \"ingredients\": {\n",
    "            \"Sugar\": 20,\n",
    "            \"Milk\": 40,\n",
    "            \"Coffee\": 50,\n",
    "            \"Plastic cups\": 1\n",
    "        },\n",
    "        \"Cost\": 4.5\n",
    "    },\n",
    "    \"Cappuccino\": {\n",
    "        \"ingredients\": {\n",
    "            \"Sugar\": 10,\n",
    "            \"Milk\": 50,\n",
    "            \"Coffee\": 35,\n",
    "            \"Plastic cups\": 1\n",
    "        },\n",
    "        \"Cost\": 4.0\n",
    "    }\n",
    "}\n",
    "\n",
    "\n",
    "def process_coins():\n",
    "    print(\"Please insert coins:\")\n",
    "    quarters = int(input(\"How many quarters? \")) * 0.25\n",
    "    dimes = int(input(\"How many dimes? \")) * 0.10\n",
    "    nickels = int(input(\"How many nickels? \")) * 0.05\n",
    "    pennies = int(input(\"How many pennies? \")) * 0.01\n",
    "    return quarters + dimes + nickels + pennies\n",
    "\n",
    "\n",
    "def transaction_successful(payment, cost):\n",
    "    if payment >= cost:\n",
    "        change = round(payment - cost, 2)\n",
    "        if change > 0:\n",
    "            print(f\"Here is ${change} in change.\")\n",
    "        Current_Resources[\"Money\"] += cost\n",
    "        return True\n",
    "    else:\n",
    "        print(\"Sorry, that's not enough money. Money refunded.\")\n",
    "        return False\n",
    "\n",
    "\n",
    "def is_resources_sufficient(order_ingredients):\n",
    "    for item in order_ingredients:\n",
    "        if order_ingredients[item] > Current_Resources[item]:\n",
    "            print(f\"Sorry, there is not enough {item}.\")\n",
    "            return False\n",
    "    return True\n",
    "\n",
    "\n",
    "\n",
    "def make_coffee(drink_name, order_ingredients):\n",
    "    for item in order_ingredients:\n",
    "        Current_Resources[item] -= order_ingredients[item]\n",
    "    print(f\"Here is your {drink_name}. Enjoy!\")\n",
    "\n",
    "\n",
    "is_on = True\n",
    "while is_on:\n",
    "    User_Input = input(    ).strip()\n",
    "\n",
    "    if User_Input.lower() == \"off\":\n",
    "        is_on = False\n",
    "    elif User_Input in [\"1\", \"2\", \"3\"]:\n",
    "        coffee_choice = None\n",
    "        if User_Input == \"1\":\n",
    "            coffee_choice = \"Espresso\"\n",
    "        elif User_Input == \"2\":\n",
    "            coffee_choice = \"Latte\"\n",
    "        elif User_Input == \"3\":\n",
    "            coffee_choice = \"Cappuccino\"\n",
    "\n",
    "        drink = Coffee_List[coffee_choice]\n",
    "\n",
    "        if is_resources_sufficient(drink[\"ingredients\"]):\n",
    "            payment = process_coins()\n",
    "            if transaction_successful(payment, drink[\"Cost\"]):\n",
    "                make_coffee(coffee_choice, drink[\"ingredients\"])\n",
    "    else:\n",
    "        print(\"Invalid input. Please try again.\")"
   ]
  },
  {
   "cell_type": "code",
   "execution_count": 8,
   "id": "78b2e9f6-b55a-4d52-bc15-f540e587d83e",
   "metadata": {},
   "outputs": [
    {
     "name": "stdout",
     "output_type": "stream",
     "text": [
      "The area of the rectangle is: 90\n",
      "The perimeter of the rectangle is: 42\n"
     ]
    }
   ],
   "source": [
    "def calculate_area(length, width):\n",
    "    return length * width\n",
    "\n",
    "def calculate_perimeter(length, width):\n",
    "    return 2 * (length + width)\n",
    "\n",
    "length = 15\n",
    "width = 6\n",
    "\n",
    "area = calculate_area(length, width)\n",
    "perimeter = calculate_perimeter(length, width)\n",
    "\n",
    "print(f\"The area of the rectangle is: {area}\")\n",
    "print(f\"The perimeter of the rectangle is: {perimeter}\")"
   ]
  },
  {
   "cell_type": "markdown",
   "id": "19ac406e-2792-4848-8c5a-923feab4c3c2",
   "metadata": {},
   "source": [
    "### Question 3"
   ]
  },
  {
   "cell_type": "code",
   "execution_count": 9,
   "id": "a971d75d-1558-47e5-9a82-c49b66ace788",
   "metadata": {},
   "outputs": [
    {
     "name": "stdin",
     "output_type": "stream",
     "text": [
      "Enter a string:  @\n"
     ]
    },
    {
     "name": "stdout",
     "output_type": "stream",
     "text": [
      "\"@\" is a palindrome.\n"
     ]
    }
   ],
   "source": [
    "def is_palindrome(t):\n",
    "    t = t.replace(\" \", \"\").lower()\n",
    "    return t == t[::-1]\n",
    "\n",
    "string = input(\"Enter a string: \")\n",
    "\n",
    "if is_palindrome(string):\n",
    "    print(f'\"{string}\" is a palindrome.')\n",
    "else:\n",
    "    print(f'\"{string}\" is not a palindrome.')\n"
   ]
  },
  {
   "cell_type": "code",
   "execution_count": 10,
   "id": "791c347e-68d8-42f1-845e-1a26afa33983",
   "metadata": {},
   "outputs": [
    {
     "name": "stdin",
     "output_type": "stream",
     "text": [
      "Type your username:  sidrayamin\n",
      "Enter your Password:  1234\n"
     ]
    },
    {
     "name": "stdout",
     "output_type": "stream",
     "text": [
      "Incorrect password. Try Again\n"
     ]
    },
    {
     "name": "stdin",
     "output_type": "stream",
     "text": [
      "Enter password again 1234\n"
     ]
    },
    {
     "name": "stdout",
     "output_type": "stream",
     "text": [
      "Acess Denied\n"
     ]
    }
   ],
   "source": [
    "correct_username = \"sidrayamin\"\n",
    "correct_password = \"12345\"\n",
    "\n",
    "username=input('Type your username: ')\n",
    "password=input('Enter your Password: ')\n",
    "\n",
    "if username == correct_username and password == correct_password:\n",
    "    print('Welcome to Email')\n",
    "elif username != correct_username and password == correct_password:\n",
    "    print('Incorrect Email. Try Again') \n",
    "elif username==correct_username and password != correct_password:\n",
    "    print('Incorrect password. Try Again')\n",
    "    password==input('Enter password again')\n",
    "    if password=='12345' :\n",
    "        print(\"Now welcome after one attempt\")\n",
    "    print(\"Acess Denied\")\n",
    "    \n",
    "      \n",
    "else:\n",
    "    print('incorrect username or password')\n",
    "          \n",
    "    "
   ]
  },
  {
   "cell_type": "markdown",
   "id": "4cad3efb-0892-40ad-8c8b-748cb2fb1975",
   "metadata": {},
   "source": [
    "### Question 4"
   ]
  },
  {
   "cell_type": "code",
   "execution_count": 11,
   "id": "5324213b-bd55-483f-9071-645bb87d2895",
   "metadata": {},
   "outputs": [
    {
     "name": "stdout",
     "output_type": "stream",
     "text": [
      "Name: Student 1, Score: 90, Percentage: 90.00%, Grade: A\n",
      "Name: Student 2, Score: 82, Percentage: 82.00%, Grade: B\n",
      "Name: Student 3, Score: 65, Percentage: 65.00%, Grade: D\n",
      "Name: Student 4, Score: 55, Percentage: 55.00%, Grade: F\n",
      "Name: Student 5, Score: 75, Percentage: 75.00%, Grade: C\n"
     ]
    }
   ],
   "source": [
    "def calculate_grade(score):\n",
    "    if 90 <= score <=100:\n",
    "        return 'A'\n",
    "    elif 80 <= score <= 89:\n",
    "        return 'B'\n",
    "    elif 70 <= score <= 79:\n",
    "        return 'C'\n",
    "    elif 60 <= score <= 69:\n",
    "        return 'D'\n",
    "    else:\n",
    "        return 'F'\n",
    "    \n",
    "    \n",
    "def calculate_percentage(score, total_marks):\n",
    "    return (score / total_marks) * 100\n",
    "\n",
    "def grade_students(students, total_marks):\n",
    "    graded_students = []\n",
    "    for student, score in students.items():\n",
    "        grade = calculate_grade(score)\n",
    "        percentage = calculate_percentage(score, total_marks)\n",
    "        graded_students.append({\n",
    "            'name': student,\n",
    "            'score': score,\n",
    "            'percentage': percentage,\n",
    "            'grade': grade\n",
    "        })\n",
    "    return graded_students\n",
    "\n",
    "\n",
    "students = {\n",
    "    \"Student 1\": 90,\n",
    "    \"Student 2\": 82,\n",
    "    \"Student 3\": 65,\n",
    "    \"Student 4\": 55,\n",
    "    \"Student 5\": 75\n",
    "}    \n",
    "    \n",
    "total_marks = 100\n",
    "\n",
    "graded_students = grade_students(students, total_marks)\n",
    "\n",
    "for student in graded_students:\n",
    "    print(f\"Name: {student['name']}, Score: {student['score']}, Percentage: {student['percentage']:.2f}%, Grade: {student['grade']}\")\n",
    "\n",
    "\n"
   ]
  },
  {
   "cell_type": "code",
   "execution_count": 12,
   "id": "2155977c-1f9a-414f-b111-54d43a3d0e8d",
   "metadata": {},
   "outputs": [
    {
     "name": "stdin",
     "output_type": "stream",
     "text": [
      "Enter number of rows for pattern:  6\n"
     ]
    },
    {
     "name": "stdout",
     "output_type": "stream",
     "text": [
      "     *\n",
      "    ***\n",
      "   *****\n",
      "  *******\n",
      " *********\n",
      "***********\n",
      " *********\n",
      "  *******\n",
      "   *****\n",
      "    ***\n",
      "     *\n"
     ]
    }
   ],
   "source": [
    "rows = int(input(\"Enter number of rows for pattern: \"))\n",
    "\n",
    "for i in range(1, rows + 1):\n",
    "    for j in range(rows - i):\n",
    "        print(' ', end='')\n",
    "    for k in range(2 * i - 1):\n",
    "        print('*', end='')\n",
    "    print()\n",
    "\n",
    "for i in range(rows - 1, 0, -1):\n",
    "    for j in range(rows - i):\n",
    "        print(' ', end='')\n",
    "    for k in range(2 * i - 1):\n",
    "        print('*', end='')\n",
    "    print()\n"
   ]
  },
  {
   "cell_type": "markdown",
   "id": "c73cdf07-2476-492c-ad70-fd8cca735754",
   "metadata": {},
   "source": [
    "### Question 5"
   ]
  },
  {
   "cell_type": "code",
   "execution_count": 13,
   "id": "629e5377-77ed-449b-90f4-da078584538a",
   "metadata": {},
   "outputs": [
    {
     "name": "stdout",
     "output_type": "stream",
     "text": [
      "The product of the values in the dictionary is: 24\n"
     ]
    }
   ],
   "source": [
    "def multiply_dict_values(my_dict):\n",
    "    product = 1\n",
    "    \n",
    "    if not my_dict:\n",
    "        return product\n",
    "    \n",
    "    for value in my_dict.values():\n",
    "        product *= value\n",
    "    \n",
    "    return product\n",
    "\n",
    "my_dict = {\"a\": 2, \"b\": 3, \"c\": 4}\n",
    "result = multiply_dict_values(my_dict)\n",
    "print(f\"The product of the values in the dictionary is: {result}\")\n"
   ]
  },
  {
   "cell_type": "code",
   "execution_count": 22,
   "id": "e0b9ae5d-e5dd-41c1-9651-676c82401de1",
   "metadata": {},
   "outputs": [
    {
     "name": "stdout",
     "output_type": "stream",
     "text": [
      "Requirement already satisfied: pandas in c:\\users\\hp\\appdata\\local\\programs\\python\\python313\\lib\\site-packages (2.2.3)\n",
      "Requirement already satisfied: numpy>=1.26.0 in c:\\users\\hp\\appdata\\local\\programs\\python\\python313\\lib\\site-packages (from pandas) (2.1.3)\n",
      "Requirement already satisfied: python-dateutil>=2.8.2 in c:\\users\\hp\\appdata\\local\\programs\\python\\python313\\lib\\site-packages (from pandas) (2.9.0.post0)\n",
      "Requirement already satisfied: pytz>=2020.1 in c:\\users\\hp\\appdata\\local\\programs\\python\\python313\\lib\\site-packages (from pandas) (2024.2)\n",
      "Requirement already satisfied: tzdata>=2022.7 in c:\\users\\hp\\appdata\\local\\programs\\python\\python313\\lib\\site-packages (from pandas) (2024.2)\n",
      "Requirement already satisfied: six>=1.5 in c:\\users\\hp\\appdata\\local\\programs\\python\\python313\\lib\\site-packages (from python-dateutil>=2.8.2->pandas) (1.16.0)\n"
     ]
    }
   ],
   "source": [
    "!pip install pandas\n",
    "import numpy as np\n",
    "import pandas as pd"
   ]
  },
  {
   "cell_type": "code",
   "execution_count": 23,
   "id": "39ddc166-ddb2-45cc-96a9-bfac24389a97",
   "metadata": {},
   "outputs": [],
   "source": [
    "data = {\n",
    "    \"Product_ID\": [101, 102, 103, 104, 105, 106, 107, 108, 109, 110],\n",
    "    \"Product_Name\": [\"Widget A\", \"Widget B\", \"Widget C\", \"Widget D\", \"Widget E\",\n",
    "                     \"Widget F\", \"Widget G\", \"Widget H\", \"Widget I\", \"Widget J\"],\n",
    "    \"Category\": [\"Electronics\", \"Electronics\", \"Furniture\", \"Furniture\", \"Electronics\",\n",
    "                 \"Furniture\", \"Electronics\", \"Electronics\", \"Furniture\", \"Furniture\"],\n",
    "    \"Units_Sold\": [150, 120, 90, 60, 200, 30, 110, 140, 75, 50],\n",
    "    \"Revenue\": [1500, 2400, 2700, 1800, 4000, 1200, 2200, 2800, 1500, 1000],\n",
    "    \"Region\": [\"North\", \"South\", \"East\", \"West\", \"North\", \"South\", \"East\", \"West\",\n",
    "               \"North\", \"South\"],\n",
    "    \"Sales_Person\": [\"Alice\", \"Bob\", \"Charlie\", \"David\", \"Eve\", \"Frank\", \"Grace\",\n",
    "                     \"Hannah\", \"Ian\", \"Jack\"],\n",
    "    \"Date_of_Sale\": pd.to_datetime([\"2024-11-01\", \"2024-11-02\", \"2024-11-03\",\n",
    "                                    \"2024-11-04\", \"2024-11-05\", \"2024-11-06\",\n",
    "                                    \"2024-11-07\", \"2024-11-08\", \"2024-11-09\",\n",
    "                                    \"2024-11-10\"])\n",
    "}\n"
   ]
  },
  {
   "cell_type": "code",
   "execution_count": 21,
   "id": "92fda213-0454-44a3-a37e-98419eb3c741",
   "metadata": {},
   "outputs": [
    {
     "data": {
      "text/html": [
       "<div>\n",
       "<style scoped>\n",
       "    .dataframe tbody tr th:only-of-type {\n",
       "        vertical-align: middle;\n",
       "    }\n",
       "\n",
       "    .dataframe tbody tr th {\n",
       "        vertical-align: top;\n",
       "    }\n",
       "\n",
       "    .dataframe thead th {\n",
       "        text-align: right;\n",
       "    }\n",
       "</style>\n",
       "<table border=\"1\" class=\"dataframe\">\n",
       "  <thead>\n",
       "    <tr style=\"text-align: right;\">\n",
       "      <th></th>\n",
       "      <th>Product_ID</th>\n",
       "      <th>Product_Name</th>\n",
       "      <th>Category</th>\n",
       "      <th>Units_Sold</th>\n",
       "      <th>Revenue</th>\n",
       "      <th>Region</th>\n",
       "      <th>Sales_Person</th>\n",
       "      <th>Date_of_Sale</th>\n",
       "    </tr>\n",
       "  </thead>\n",
       "  <tbody>\n",
       "    <tr>\n",
       "      <th>0</th>\n",
       "      <td>101</td>\n",
       "      <td>Widget A</td>\n",
       "      <td>Electronics</td>\n",
       "      <td>150</td>\n",
       "      <td>1500</td>\n",
       "      <td>North</td>\n",
       "      <td>Alice</td>\n",
       "      <td>2024-11-01</td>\n",
       "    </tr>\n",
       "    <tr>\n",
       "      <th>1</th>\n",
       "      <td>102</td>\n",
       "      <td>Widget B</td>\n",
       "      <td>Electronics</td>\n",
       "      <td>120</td>\n",
       "      <td>2400</td>\n",
       "      <td>South</td>\n",
       "      <td>Bob</td>\n",
       "      <td>2024-11-02</td>\n",
       "    </tr>\n",
       "    <tr>\n",
       "      <th>2</th>\n",
       "      <td>103</td>\n",
       "      <td>Widget C</td>\n",
       "      <td>Furniture</td>\n",
       "      <td>90</td>\n",
       "      <td>2700</td>\n",
       "      <td>East</td>\n",
       "      <td>Charlie</td>\n",
       "      <td>2024-11-03</td>\n",
       "    </tr>\n",
       "    <tr>\n",
       "      <th>3</th>\n",
       "      <td>104</td>\n",
       "      <td>Widget D</td>\n",
       "      <td>Furniture</td>\n",
       "      <td>60</td>\n",
       "      <td>1800</td>\n",
       "      <td>West</td>\n",
       "      <td>David</td>\n",
       "      <td>2024-11-04</td>\n",
       "    </tr>\n",
       "    <tr>\n",
       "      <th>4</th>\n",
       "      <td>105</td>\n",
       "      <td>Widget E</td>\n",
       "      <td>Electronics</td>\n",
       "      <td>200</td>\n",
       "      <td>4000</td>\n",
       "      <td>North</td>\n",
       "      <td>Eve</td>\n",
       "      <td>2024-11-05</td>\n",
       "    </tr>\n",
       "    <tr>\n",
       "      <th>5</th>\n",
       "      <td>106</td>\n",
       "      <td>Widget F</td>\n",
       "      <td>Furniture</td>\n",
       "      <td>30</td>\n",
       "      <td>1200</td>\n",
       "      <td>South</td>\n",
       "      <td>Frank</td>\n",
       "      <td>2024-11-06</td>\n",
       "    </tr>\n",
       "    <tr>\n",
       "      <th>6</th>\n",
       "      <td>107</td>\n",
       "      <td>Widget G</td>\n",
       "      <td>Electronics</td>\n",
       "      <td>110</td>\n",
       "      <td>2200</td>\n",
       "      <td>East</td>\n",
       "      <td>Grace</td>\n",
       "      <td>2024-11-07</td>\n",
       "    </tr>\n",
       "    <tr>\n",
       "      <th>7</th>\n",
       "      <td>108</td>\n",
       "      <td>Widget H</td>\n",
       "      <td>Electronics</td>\n",
       "      <td>140</td>\n",
       "      <td>2800</td>\n",
       "      <td>West</td>\n",
       "      <td>Hannah</td>\n",
       "      <td>2024-11-08</td>\n",
       "    </tr>\n",
       "    <tr>\n",
       "      <th>8</th>\n",
       "      <td>109</td>\n",
       "      <td>Widget I</td>\n",
       "      <td>Furniture</td>\n",
       "      <td>75</td>\n",
       "      <td>1500</td>\n",
       "      <td>North</td>\n",
       "      <td>Ian</td>\n",
       "      <td>2024-11-09</td>\n",
       "    </tr>\n",
       "    <tr>\n",
       "      <th>9</th>\n",
       "      <td>110</td>\n",
       "      <td>Widget J</td>\n",
       "      <td>Furniture</td>\n",
       "      <td>50</td>\n",
       "      <td>1000</td>\n",
       "      <td>South</td>\n",
       "      <td>Jack</td>\n",
       "      <td>2024-11-10</td>\n",
       "    </tr>\n",
       "  </tbody>\n",
       "</table>\n",
       "</div>"
      ],
      "text/plain": [
       "   Product_ID Product_Name     Category  Units_Sold  Revenue Region  \\\n",
       "0         101     Widget A  Electronics         150     1500  North   \n",
       "1         102     Widget B  Electronics         120     2400  South   \n",
       "2         103     Widget C    Furniture          90     2700   East   \n",
       "3         104     Widget D    Furniture          60     1800   West   \n",
       "4         105     Widget E  Electronics         200     4000  North   \n",
       "5         106     Widget F    Furniture          30     1200  South   \n",
       "6         107     Widget G  Electronics         110     2200   East   \n",
       "7         108     Widget H  Electronics         140     2800   West   \n",
       "8         109     Widget I    Furniture          75     1500  North   \n",
       "9         110     Widget J    Furniture          50     1000  South   \n",
       "\n",
       "  Sales_Person Date_of_Sale  \n",
       "0        Alice   2024-11-01  \n",
       "1          Bob   2024-11-02  \n",
       "2      Charlie   2024-11-03  \n",
       "3        David   2024-11-04  \n",
       "4          Eve   2024-11-05  \n",
       "5        Frank   2024-11-06  \n",
       "6        Grace   2024-11-07  \n",
       "7       Hannah   2024-11-08  \n",
       "8          Ian   2024-11-09  \n",
       "9         Jack   2024-11-10  "
      ]
     },
     "execution_count": 21,
     "metadata": {},
     "output_type": "execute_result"
    }
   ],
   "source": [
    "df= pd.DataFrame(data)\n",
    "df\n"
   ]
  },
  {
   "cell_type": "code",
   "execution_count": 25,
   "id": "dc1f735a-c3d1-41ce-bcd4-6bbc5c93c403",
   "metadata": {},
   "outputs": [
    {
     "name": "stdout",
     "output_type": "stream",
     "text": [
      "Total revenue generated from all product sales: 21100\n",
      "\n",
      "Number of units sold for each product:\n",
      "  Product_Name  Units_Sold\n",
      "0     Widget A         150\n",
      "1     Widget B         120\n",
      "2     Widget C          90\n",
      "3     Widget D          60\n",
      "4     Widget E         200\n",
      "5     Widget F          30\n",
      "6     Widget G         110\n",
      "7     Widget H         140\n",
      "8     Widget I          75\n",
      "9     Widget J          50\n",
      "\n",
      "Average number of units sold per product: 102.50\n",
      "\n",
      "Product that generated the highest revenue: Widget E\n",
      "\n",
      "Total number of units sold in each region:\n",
      "Region\n",
      "East     200\n",
      "North    425\n",
      "South    200\n",
      "West     200\n",
      "Name: Units_Sold, dtype: int64\n",
      "\n",
      "Salesperson with the highest total sales (by revenue): Eve\n",
      "\n",
      "Average revenue generated per sale: 2110.00\n",
      "\n",
      "Number of products sold in the 'Furniture' category: 305\n",
      "\n",
      "Distribution of sales across different sales regions:\n",
      "Region\n",
      "North    3\n",
      "South    3\n",
      "East     2\n",
      "West     2\n",
      "Name: count, dtype: int64\n",
      "\n",
      "Revenue trend over the dates of sale:\n",
      "Date_of_Sale\n",
      "2024-11-01    1500\n",
      "2024-11-02    2400\n",
      "2024-11-03    2700\n",
      "2024-11-04    1800\n",
      "2024-11-05    4000\n",
      "2024-11-06    1200\n",
      "2024-11-07    2200\n",
      "2024-11-08    2800\n",
      "2024-11-09    1500\n",
      "2024-11-10    1000\n",
      "Name: Revenue, dtype: int64\n"
     ]
    }
   ],
   "source": [
    "\n",
    "total_revenue = df[\"Revenue\"].sum()\n",
    "\n",
    "units_sold_per_product = df[[\"Product_Name\", \"Units_Sold\"]]\n",
    "\n",
    "average_units_sold = df[\"Units_Sold\"].mean()\n",
    "\n",
    "highest_revenue_product = df.loc[df[\"Revenue\"].idxmax(), \"Product_Name\"]\n",
    "\n",
    "units_sold_per_region = df.groupby(\"Region\")[\"Units_Sold\"].sum()\n",
    "\n",
    "highest_sales_person = df.groupby(\"Sales_Person\")[\"Revenue\"].sum().idxmax()\n",
    "\n",
    "average_revenue_per_sale = df[\"Revenue\"].mean()\n",
    "furniture_products_sold = df[df[\"Category\"] == \"Furniture\"][\"Units_Sold\"].sum()\n",
    "\n",
    "sales_distribution = df[\"Region\"].value_counts()\n",
    "\n",
    "revenue_trend = df.groupby(\"Date_of_Sale\")[\"Revenue\"].sum()\n",
    "\n",
    "print(f\"Total revenue generated from all product sales: {total_revenue}\")\n",
    "print(\"\\nNumber of units sold for each product:\")\n",
    "print(units_sold_per_product)\n",
    "print(f\"\\nAverage number of units sold per product: {average_units_sold:.2f}\")\n",
    "print(f\"\\nProduct that generated the highest revenue: {highest_revenue_product}\")\n",
    "print(\"\\nTotal number of units sold in each region:\")\n",
    "print(units_sold_per_region)\n",
    "print(f\"\\nSalesperson with the highest total sales (by revenue): {highest_sales_person}\")\n",
    "print(f\"\\nAverage revenue generated per sale: {average_revenue_per_sale:.2f}\")\n",
    "print(f\"\\nNumber of products sold in the 'Furniture' category: {furniture_products_sold}\")\n",
    "print(\"\\nDistribution of sales across different sales regions:\")\n",
    "print(sales_distribution)\n",
    "print(\"\\nRevenue trend over the dates of sale:\")\n",
    "print(revenue_trend)\n"
   ]
  },
  {
   "cell_type": "code",
   "execution_count": null,
   "id": "a35103ee-6f44-420c-b92e-196f60569aa4",
   "metadata": {},
   "outputs": [],
   "source": []
  }
 ],
 "metadata": {
  "kernelspec": {
   "display_name": "Python 3 (ipykernel)",
   "language": "python",
   "name": "python3"
  },
  "language_info": {
   "codemirror_mode": {
    "name": "ipython",
    "version": 3
   },
   "file_extension": ".py",
   "mimetype": "text/x-python",
   "name": "python",
   "nbconvert_exporter": "python",
   "pygments_lexer": "ipython3",
   "version": "3.13.0"
  }
 },
 "nbformat": 4,
 "nbformat_minor": 5
}
