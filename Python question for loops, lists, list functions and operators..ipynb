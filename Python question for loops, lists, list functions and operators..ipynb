{
 "cells": [
  {
   "cell_type": "raw",
   "id": "be4ae7be-067d-42c1-af29-5dd9c90cf5aa",
   "metadata": {},
   "source": [
    "1. Write a Python program to print the numbers from 1 to 10 using a for loop.\n",
    "2. Create a list containing the numbers 1 to 5. Then, using a for loop, print each element of the list.\n",
    "3. Write a program that takes a list of numbers and returns the sum of all the numbers in the list.\n",
    "4. Given a list of strings, write a program to concatenate all the strings into one.\n",
    "5. Write a program that takes a list of numbers and returns the largest number in the list.\n",
    "6. Create a list containing the numbers 1 to 10. Using a for loop, square each number in the list and print the result.\n",
    "7. Write a program that takes a list of numbers and returns a new list containing only the even numbers from the original list.\n",
    "8. Given two lists of numbers, write a program to combine the lists element-wise (i.e., element-wise addition).\n",
    "9. Write a program that takes a list of strings and returns a new list containing the lengths of each string.\n",
    "10. Create a list of numbers from 1 to 10. Using list slicing and a for loop, print every second element of the list.\n"
   ]
  },
  {
   "cell_type": "code",
   "execution_count": 2,
   "id": "452adddf-316e-4968-acca-452aea82f45c",
   "metadata": {},
   "outputs": [
    {
     "name": "stdout",
     "output_type": "stream",
     "text": [
      "1\n",
      "2\n",
      "3\n",
      "4\n",
      "5\n",
      "6\n",
      "7\n",
      "8\n",
      "9\n",
      "10\n"
     ]
    }
   ],
   "source": [
    "for num in range(1,11):\n",
    "    print(num)"
   ]
  },
  {
   "cell_type": "code",
   "execution_count": 3,
   "id": "000c0373-ce3b-458d-9a39-c730c9432b7a",
   "metadata": {},
   "outputs": [
    {
     "name": "stdout",
     "output_type": "stream",
     "text": [
      "1\n",
      "2\n",
      "3\n",
      "4\n",
      "5\n"
     ]
    }
   ],
   "source": [
    "list1= [1,2,3,4,5]\n",
    "for num in list1:\n",
    "    print(num)\n",
    "\n",
    "        "
   ]
  },
  {
   "cell_type": "code",
   "execution_count": 4,
   "id": "e971339b-88c4-469f-b950-dd250c6df4e3",
   "metadata": {},
   "outputs": [
    {
     "name": "stdout",
     "output_type": "stream",
     "text": [
      "Sum: 15\n"
     ]
    }
   ],
   "source": [
    "def sum_of_list (list2):\n",
    "    return sum(list2)\n",
    "    \n",
    "list2=[1,2,3,4,5]\n",
    "print(\"Sum:\", sum_of_list(list2))\n",
    "    "
   ]
  },
  {
   "cell_type": "code",
   "execution_count": 8,
   "id": "d23646a1-8e6c-4b62-a6fe-c9f1237bff0e",
   "metadata": {},
   "outputs": [
    {
     "name": "stdout",
     "output_type": "stream",
     "text": [
      "Hi I am Sidra Yamin\n"
     ]
    }
   ],
   "source": [
    "def concatenate_strings(strings):\n",
    "    return ''.join(strings)\n",
    "strings= [\"Hi\",\" \", \"I\",\" \", \"am\",\" \", \"Sidra\", \" \", \"Yamin\"]\n",
    "print(concatenate_strings(strings))\n"
   ]
  },
  {
   "cell_type": "code",
   "execution_count": 9,
   "id": "e69559b4-6cca-4e08-bb51-cfe1253d4795",
   "metadata": {},
   "outputs": [
    {
     "name": "stdout",
     "output_type": "stream",
     "text": [
      "150\n"
     ]
    }
   ],
   "source": [
    "def find_max(numbers):\n",
    "    return max(numbers)\n",
    "\n",
    "numbers = [1,5,6,16,99,150]\n",
    "print(find_max(numbers))"
   ]
  },
  {
   "cell_type": "code",
   "execution_count": 10,
   "id": "7084375d-c514-4806-90b2-769e41199d10",
   "metadata": {},
   "outputs": [
    {
     "name": "stdout",
     "output_type": "stream",
     "text": [
      "1\n",
      "4\n",
      "9\n",
      "16\n",
      "25\n",
      "36\n",
      "49\n",
      "64\n",
      "81\n",
      "100\n"
     ]
    }
   ],
   "source": [
    "numbers2= [1,2,3,4,5,6,7,8,9,10]\n",
    "for num in numbers2:\n",
    "    print (num**2)\n",
    "    "
   ]
  },
  {
   "cell_type": "code",
   "execution_count": 12,
   "id": "b9759b1a-48f5-40c4-aa66-2d343451c9bf",
   "metadata": {},
   "outputs": [
    {
     "name": "stdout",
     "output_type": "stream",
     "text": [
      "Even numbers: [2, 4, 6, 8, 10]\n"
     ]
    }
   ],
   "source": [
    "def even_num(num):\n",
    "    return num % 2 == 0  \n",
    "\n",
    "numbers = [1, 2, 3, 4, 5, 6, 7, 8, 9, 10]\n",
    "\n",
    "even_numbers = [num for num in numbers if even_num(num)]\n",
    "\n",
    "print(\"Even numbers:\", even_numbers)"
   ]
  },
  {
   "cell_type": "code",
   "execution_count": 13,
   "id": "c0b8c508-9a20-4c84-9614-dd578f5c41c1",
   "metadata": {},
   "outputs": [
    {
     "name": "stdout",
     "output_type": "stream",
     "text": [
      "Number1: [1, 2, 3, 4, 5]\n",
      "Number2: [5, 6, 7, 8, 9]\n",
      "[1, 2, 3, 4, 5, 5, 6, 7, 8, 9]\n"
     ]
    }
   ],
   "source": [
    "def add(num1, num2):\n",
    "    print(\"Number1:\",num1)\n",
    "    print(\"Number2:\",num2)\n",
    "    Addition = num1 + num2\n",
    "    return Addition\n",
    "\n",
    "num1 = [1,2,3,4,5]\n",
    "num2 = [5,6,7,8,9]\n",
    "\n",
    "res = add(num1, num2)\n",
    "print(res)"
   ]
  },
  {
   "cell_type": "code",
   "execution_count": 18,
   "id": "2fa59fe0-3165-4cbe-beb5-3d24076ba43c",
   "metadata": {},
   "outputs": [
    {
     "name": "stdout",
     "output_type": "stream",
     "text": [
      "Element-wise sum: [5, 7, 9]\n"
     ]
    }
   ],
   "source": [
    "def add_lists(list1, list2):\n",
    "    return [a + b for a, b in zip(list1, list2)]\n",
    "\n",
    "list1 = [1, 2, 3]\n",
    "list2 = [4, 5, 6]\n",
    "print(\"Element-wise sum:\", add_lists(list1, list2))\n"
   ]
  },
  {
   "cell_type": "code",
   "execution_count": 19,
   "id": "1db7c64d-2e4b-48e0-a9f0-ddeda59543c9",
   "metadata": {},
   "outputs": [
    {
     "name": "stdout",
     "output_type": "stream",
     "text": [
      "Lengths: [5, 6, 6]\n"
     ]
    }
   ],
   "source": [
    "def string_length(strings):\n",
    "    return [len(s) for s in strings]\n",
    "\n",
    "strings = [\"apple\", \"banana\", \"cherry\"]\n",
    "print(\"Lengths:\", string_length(strings))\n"
   ]
  },
  {
   "cell_type": "code",
   "execution_count": 20,
   "id": "ec673342-bd3b-47f8-8bf3-96d3e4c2df73",
   "metadata": {},
   "outputs": [
    {
     "name": "stdout",
     "output_type": "stream",
     "text": [
      "1\n",
      "3\n",
      "5\n",
      "7\n",
      "9\n"
     ]
    }
   ],
   "source": [
    "numbers = list(range(1, 11))\n",
    "for num in numbers[::2]:\n",
    "    print(num)"
   ]
  },
  {
   "cell_type": "code",
   "execution_count": null,
   "id": "e3a115a1-3067-4f8d-82ef-26ac931b7c45",
   "metadata": {},
   "outputs": [],
   "source": []
  }
 ],
 "metadata": {
  "kernelspec": {
   "display_name": "Python 3 (ipykernel)",
   "language": "python",
   "name": "python3"
  },
  "language_info": {
   "codemirror_mode": {
    "name": "ipython",
    "version": 3
   },
   "file_extension": ".py",
   "mimetype": "text/x-python",
   "name": "python",
   "nbconvert_exporter": "python",
   "pygments_lexer": "ipython3",
   "version": "3.13.0"
  }
 },
 "nbformat": 4,
 "nbformat_minor": 5
}
