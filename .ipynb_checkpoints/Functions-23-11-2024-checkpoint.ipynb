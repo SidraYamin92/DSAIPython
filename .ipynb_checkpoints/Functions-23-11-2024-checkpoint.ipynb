{
 "cells": [
  {
   "cell_type": "code",
   "execution_count": 1,
   "id": "fe635502-fbdc-4ebd-bab7-87f0443efc45",
   "metadata": {},
   "outputs": [
    {
     "name": "stdout",
     "output_type": "stream",
     "text": [
      "['Grapes', 'Orange']\n",
      "strawberry\n",
      "banana\n"
     ]
    }
   ],
   "source": [
    "list=['banana','strawberry',['Grapes','Orange']]\n",
    "n=len(list)\n",
    "for i in range(n,0,-1):\n",
    "    print(list[i-1])"
   ]
  },
  {
   "cell_type": "code",
   "execution_count": 2,
   "id": "b9618f81-91a1-44a5-bab4-e6d5a1fe2ea3",
   "metadata": {},
   "outputs": [
    {
     "name": "stdin",
     "output_type": "stream",
     "text": [
      "Enter your birthyear 1882\n",
      "Enter your currentyear 23\n"
     ]
    },
    {
     "name": "stdout",
     "output_type": "stream",
     "text": [
      "Birth Year: 23\n",
      "current year: 1882\n",
      "-1859\n"
     ]
    }
   ],
   "source": [
    "def sub(num1, num2):\n",
    "    print(\"Birth Year:\",num1)\n",
    "    print(\"current year:\",num2)\n",
    "    Subtraction = num1 - num2\n",
    "    return Subtraction\n",
    "\n",
    "num1 = int(input('Enter your birthyear'))\n",
    "num2 = int(input('Enter your currentyear'))\n",
    "\n",
    "res = sub(num2, num1)\n",
    "print(res)\n",
    "        "
   ]
  },
  {
   "cell_type": "code",
   "execution_count": 3,
   "id": "87779cf9-28ed-4b9e-902a-7fab29cc5a78",
   "metadata": {},
   "outputs": [],
   "source": [
    "def welcome():\n",
    "    print(\"Good Morning Ali, Have a nice day\")\n",
    "    "
   ]
  },
  {
   "cell_type": "code",
   "execution_count": 4,
   "id": "1adf88b7-4814-46eb-a888-29674d007081",
   "metadata": {},
   "outputs": [
    {
     "name": "stdout",
     "output_type": "stream",
     "text": [
      "Good Morning Ali, Have a nice day\n"
     ]
    }
   ],
   "source": [
    "welcome()"
   ]
  },
  {
   "cell_type": "code",
   "execution_count": 5,
   "id": "8801d949-ea62-46e4-9f24-7082048a1511",
   "metadata": {},
   "outputs": [],
   "source": [
    "def welcome(name):\n",
    "    print(\"Good Morning\",name, \"Have a nice day\")"
   ]
  },
  {
   "cell_type": "code",
   "execution_count": 6,
   "id": "88fdd082-672a-411b-b71f-00636a2aaa5f",
   "metadata": {},
   "outputs": [
    {
     "name": "stdout",
     "output_type": "stream",
     "text": [
      "Good Morning Sidra Have a nice day\n"
     ]
    }
   ],
   "source": [
    "welcome(\"Sidra\")"
   ]
  },
  {
   "cell_type": "code",
   "execution_count": 7,
   "id": "4bcaab45-ed95-40aa-9035-2e2706ced8b7",
   "metadata": {},
   "outputs": [
    {
     "name": "stdin",
     "output_type": "stream",
     "text": [
      "Enter Your Name: Sidra\n"
     ]
    },
    {
     "name": "stdout",
     "output_type": "stream",
     "text": [
      "Good Morning Sidra Have a nice day\n"
     ]
    }
   ],
   "source": [
    "def welcome(name):\n",
    "    print(\"Good Morning\",name, \"Have a nice day\")\n",
    "name=input(\"Enter Your Name:\")\n",
    "welcome(name)"
   ]
  },
  {
   "cell_type": "code",
   "execution_count": 8,
   "id": "caf501ae-62df-482a-b0ee-60eeb3646c3d",
   "metadata": {},
   "outputs": [
    {
     "name": "stdin",
     "output_type": "stream",
     "text": [
      "Enter your Number1 32\n",
      "Enter your Number2 23\n"
     ]
    },
    {
     "name": "stdout",
     "output_type": "stream",
     "text": [
      "Number1: 32\n",
      "Number2: 23\n",
      "55\n"
     ]
    }
   ],
   "source": [
    "def add(num1, num2):\n",
    "    print(\"Number1:\",num1)\n",
    "    print(\"Number2:\",num2)\n",
    "    Addition = num1 + num2\n",
    "    return Addition\n",
    "\n",
    "num1 = int(input('Enter your Number1'))\n",
    "num2 = int(input('Enter your Number2'))\n",
    "\n",
    "res = add(num1, num2)\n",
    "print(res)\n",
    "        "
   ]
  },
  {
   "cell_type": "code",
   "execution_count": 25,
   "id": "519ac1c4-a339-4763-b0b4-988cdff01b24",
   "metadata": {},
   "outputs": [
    {
     "name": "stdin",
     "output_type": "stream",
     "text": [
      "enter your number here 34\n"
     ]
    },
    {
     "name": "stdout",
     "output_type": "stream",
     "text": [
      "Its an even number\n"
     ]
    }
   ],
   "source": [
    "def even_num(num):\n",
    "    if num%2 == 0:\n",
    "        print(\"Its an even number\")\n",
    "    else:\n",
    "        print(\"Its an odd number\")\n",
    "num=int(input(\"enter your number here\"))\n",
    "even_num(num)\n"
   ]
  },
  {
   "cell_type": "code",
   "execution_count": 29,
   "id": "f1af599f-3da7-4586-8186-cb8e6e47c4e4",
   "metadata": {},
   "outputs": [
    {
     "name": "stdin",
     "output_type": "stream",
     "text": [
      "enter your number here 12\n"
     ]
    },
    {
     "name": "stdout",
     "output_type": "stream",
     "text": [
      "Its an even number\n"
     ]
    }
   ],
   "source": [
    "def evennum(num):\n",
    "    if type(num)==int:\n",
    "        if num%2 == 0:\n",
    "            print(\"Its an even number\")\n",
    "        else:\n",
    "            print(\"Its an odd number\")\n",
    "    else:\n",
    "        print(\"enter a valid number\")\n",
    "\n",
    "num=int(input(\"enter your number here\"))\n",
    "\n",
    "evennum(num)"
   ]
  },
  {
   "cell_type": "code",
   "execution_count": 40,
   "id": "60074baf-8474-4b73-8af6-71d5ec8e0b1d",
   "metadata": {},
   "outputs": [
    {
     "name": "stdin",
     "output_type": "stream",
     "text": [
      "Radius 34\n"
     ]
    },
    {
     "data": {
      "text/plain": [
       "('Area is:', 3632.152, 'Circumference:', 213.656)"
      ]
     },
     "execution_count": 40,
     "metadata": {},
     "output_type": "execute_result"
    }
   ],
   "source": [
    "#globally declared will be replace by the local value. \n",
    "def Area():\n",
    "    pi=3.142\n",
    "    Area=(pi*r**2)\n",
    "    Circumfrnce= 2*pi*r\n",
    "    return 'Area is:',Area, 'Circumference:',Circumfrnce\n",
    "r=float(input(\"Radius\"))\n",
    "Area()\n"
   ]
  },
  {
   "cell_type": "code",
   "execution_count": 1,
   "id": "38f2409b-3881-4528-a8c3-fa26edea7e1f",
   "metadata": {},
   "outputs": [
    {
     "name": "stdout",
     "output_type": "stream",
     "text": [
      "Print Original list: [2, 3, 4, 5]\n"
     ]
    },
    {
     "data": {
      "text/plain": [
       "[4, 9, 16, 25]"
      ]
     },
     "execution_count": 1,
     "metadata": {},
     "output_type": "execute_result"
    }
   ],
   "source": [
    "def list_sqaure(num_list):\n",
    "    temp_list=[]\n",
    "    for num in num_list:\n",
    "        temp_list.append(num**2)\n",
    "    return temp_list\n",
    "num_list=[2,3,4,5,]\n",
    "print(\"Print Original list:\", num_list)\n",
    "list_sqaure(num_list)\n",
    "        "
   ]
  },
  {
   "cell_type": "code",
   "execution_count": 2,
   "id": "a8c9a8f8-9365-49f2-8c28-d018763be182",
   "metadata": {},
   "outputs": [
    {
     "ename": "_IncompleteInputError",
     "evalue": "incomplete input (1131816790.py, line 2)",
     "output_type": "error",
     "traceback": [
      "\u001b[1;36m  Cell \u001b[1;32mIn[2], line 2\u001b[1;36m\u001b[0m\n\u001b[1;33m    for i in range(len(\u001b[0m\n\u001b[1;37m                       ^\u001b[0m\n\u001b[1;31m_IncompleteInputError\u001b[0m\u001b[1;31m:\u001b[0m incomplete input\n"
     ]
    }
   ],
   "source": [
    "def list_sqaure(nume_list):\n",
    "    for i in range(len("
   ]
  },
  {
   "cell_type": "code",
   "execution_count": 27,
   "id": "873ea8fa-ae50-40ad-9213-07b2a32c470d",
   "metadata": {},
   "outputs": [
    {
     "name": "stdout",
     "output_type": "stream",
     "text": [
      "Print Original list: [2, 3, 4, 5]\n"
     ]
    },
    {
     "data": {
      "text/plain": [
       "14"
      ]
     },
     "execution_count": 27,
     "metadata": {},
     "output_type": "execute_result"
    }
   ],
   "source": [
    "def list_sum1(num_list1):\n",
    "    total= 0\n",
    "    for num1 in num_list1:\n",
    "        total += num1\n",
    "    return total\n",
    "num_list1=[2,3,4,5,]\n",
    "print(\"Print Original list:\", num_list1)\n",
    "list_sum1(num_list1)\n",
    "        "
   ]
  },
  {
   "cell_type": "code",
   "execution_count": 26,
   "id": "cecb73d8-6927-4677-b696-4a99a514eeb8",
   "metadata": {},
   "outputs": [
    {
     "name": "stdout",
     "output_type": "stream",
     "text": [
      "Print Original list: [2, 3, 4, 5]\n"
     ]
    },
    {
     "data": {
      "text/plain": [
       "14"
      ]
     },
     "execution_count": 26,
     "metadata": {},
     "output_type": "execute_result"
    }
   ],
   "source": [
    "def list_sum(num_list2):\n",
    "    total = 0\n",
    "    for i in num_list2:\n",
    "        total +=i\n",
    "    return total\n",
    "num_list2=[2,3,4,5]\n",
    "print(\"Print Original list:\", num_list2)\n",
    "list_sum(num_list2)"
   ]
  },
  {
   "cell_type": "code",
   "execution_count": 31,
   "id": "662f6ebb-d9a9-4671-8916-b2113a5c0dff",
   "metadata": {},
   "outputs": [
    {
     "name": "stdout",
     "output_type": "stream",
     "text": [
      "Print Original list: (5, 6, 7, 8)\n"
     ]
    },
    {
     "data": {
      "text/plain": [
       "1680"
      ]
     },
     "execution_count": 31,
     "metadata": {},
     "output_type": "execute_result"
    }
   ],
   "source": [
    "def list_sum(tuple_list):\n",
    "    prod= 1\n",
    "    for i in tuple_list:\n",
    "        prod*=i\n",
    "    return prod\n",
    "tuple_list=(5,6,7,8)\n",
    "print(\"Print Original list:\", tuple_list)\n",
    "list_sum(tuple_list)"
   ]
  },
  {
   "cell_type": "code",
   "execution_count": 46,
   "id": "573e956e-5417-498d-be9d-c3e7e9083710",
   "metadata": {},
   "outputs": [
    {
     "name": "stdin",
     "output_type": "stream",
     "text": [
      "Enter your number here:  hello\n"
     ]
    },
    {
     "name": "stdout",
     "output_type": "stream",
     "text": [
      "That's not a valid number. Please enter a valid integer.\n"
     ]
    }
   ],
   "source": [
    "def evennum(num):\n",
    "    if num % 2 == 0:\n",
    "        print(\"It's an even number\")\n",
    "    else:\n",
    "        print(\"It's an odd number\")\n",
    "\n",
    "    if isinstance(num, int):\n",
    "        print(\"Perfect\")\n",
    "    else:\n",
    "        print(\"Enter a valid number\")\n",
    "\n",
    "user_input = input(\"Enter your number here: \")\n",
    "\n",
    "try:\n",
    "    num = int(user_input) \n",
    "    evennum(num)  \n",
    "except ValueError:\n",
    "    print(\"That's not a valid number. Please enter a valid integer.\")\n"
   ]
  },
  {
   "cell_type": "code",
   "execution_count": 48,
   "id": "f23573ee-3c91-471f-99c9-6eac3fe6a8bd",
   "metadata": {},
   "outputs": [
    {
     "name": "stdout",
     "output_type": "stream",
     "text": [
      "10 is even\n",
      "11 is odd\n",
      "12 is even\n",
      "13 is odd\n",
      "14 is even\n",
      "15 is odd\n",
      "16 is even\n",
      "17 is odd\n",
      "18 is even\n",
      "19 is odd\n"
     ]
    }
   ],
   "source": [
    "for i in range(10,20):\n",
    "    if i % 2 ==0:\n",
    "        print(f\"{i} is even\")\n",
    "    else:\n",
    "        print(f\"{i} is odd\")\n",
    "    \n",
    "\n",
    "    "
   ]
  },
  {
   "cell_type": "code",
   "execution_count": 52,
   "id": "22c17f69-e225-436a-9055-00e30034ef97",
   "metadata": {},
   "outputs": [
    {
     "ename": "NameError",
     "evalue": "name 'is_valid_even' is not defined",
     "output_type": "error",
     "traceback": [
      "\u001b[1;31m---------------------------------------------------------------------------\u001b[0m",
      "\u001b[1;31mNameError\u001b[0m                                 Traceback (most recent call last)",
      "Cell \u001b[1;32mIn[52], line 2\u001b[0m\n\u001b[0;32m      1\u001b[0m \u001b[38;5;28;01mfor\u001b[39;00m i \u001b[38;5;129;01min\u001b[39;00m \u001b[38;5;28mrange\u001b[39m(\u001b[38;5;241m10\u001b[39m,\u001b[38;5;241m20\u001b[39m):\n\u001b[1;32m----> 2\u001b[0m     \u001b[43mis_valid_even\u001b[49m (i)\n",
      "\u001b[1;31mNameError\u001b[0m: name 'is_valid_even' is not defined"
     ]
    }
   ],
   "source": [
    "for i in range(10,20):\n",
    "    is_valid_even (i)\n",
    "    "
   ]
  },
  {
   "cell_type": "markdown",
   "id": "f90592ff-1ca0-40ac-95b3-0441bf3a77f9",
   "metadata": {},
   "source": [
    "## Types of Argument"
   ]
  },
  {
   "cell_type": "code",
   "execution_count": 56,
   "id": "15c80463-3941-401a-8f42-6d28e3422af7",
   "metadata": {},
   "outputs": [],
   "source": [
    "# defualt arguments, are used for \n",
    "# positional arguments\n",
    "# keywords arguments\n",
    "\n",
    "\n",
    "def power(a,b):\n",
    "    return a**b"
   ]
  },
  {
   "cell_type": "code",
   "execution_count": 60,
   "id": "8493badf-9a90-4966-a0c1-8ab821937a5f",
   "metadata": {},
   "outputs": [
    {
     "data": {
      "text/plain": [
       "8"
      ]
     },
     "execution_count": 60,
     "metadata": {},
     "output_type": "execute_result"
    }
   ],
   "source": [
    "power(b=3,a=2)"
   ]
  },
  {
   "cell_type": "code",
   "execution_count": 61,
   "id": "e5e6abb0-4aa9-4770-a9c9-40818a9bf28e",
   "metadata": {},
   "outputs": [
    {
     "data": {
      "text/plain": [
       "9"
      ]
     },
     "execution_count": 61,
     "metadata": {},
     "output_type": "execute_result"
    }
   ],
   "source": [
    "power(a=3,b=2)"
   ]
  },
  {
   "cell_type": "code",
   "execution_count": 76,
   "id": "249dc7d9-d156-4472-b8a7-e34b07bf2aa6",
   "metadata": {},
   "outputs": [],
   "source": [
    "#args, #keywargs\n",
    "def product(*args):\n",
    "    product(1)\n",
    "    for i in args:\n",
    "        product=product*i\n",
    "        print(args)\n",
    "        return(product)\n"
   ]
  },
  {
   "cell_type": "code",
   "execution_count": 77,
   "id": "74cdf58c-1876-4d75-a4f3-fe4b9b4501e0",
   "metadata": {},
   "outputs": [
    {
     "ename": "UnboundLocalError",
     "evalue": "cannot access local variable 'product' where it is not associated with a value",
     "output_type": "error",
     "traceback": [
      "\u001b[1;31m---------------------------------------------------------------------------\u001b[0m",
      "\u001b[1;31mUnboundLocalError\u001b[0m                         Traceback (most recent call last)",
      "Cell \u001b[1;32mIn[77], line 1\u001b[0m\n\u001b[1;32m----> 1\u001b[0m \u001b[43mproduct\u001b[49m\u001b[43m \u001b[49m\u001b[43m(\u001b[49m\u001b[38;5;241;43m2\u001b[39;49m\u001b[43m,\u001b[49m\u001b[38;5;241;43m3\u001b[39;49m\u001b[43m,\u001b[49m\u001b[38;5;241;43m4\u001b[39;49m\u001b[43m,\u001b[49m\u001b[38;5;241;43m5\u001b[39;49m\u001b[43m,\u001b[49m\u001b[38;5;241;43m6\u001b[39;49m\u001b[43m,\u001b[49m\u001b[38;5;241;43m7\u001b[39;49m\u001b[43m,\u001b[49m\u001b[38;5;241;43m8\u001b[39;49m\u001b[43m,\u001b[49m\u001b[38;5;241;43m9\u001b[39;49m\u001b[43m,\u001b[49m\u001b[38;5;241;43m10\u001b[39;49m\u001b[43m)\u001b[49m\n",
      "Cell \u001b[1;32mIn[76], line 3\u001b[0m, in \u001b[0;36mproduct\u001b[1;34m(*args)\u001b[0m\n\u001b[0;32m      2\u001b[0m \u001b[38;5;28;01mdef\u001b[39;00m \u001b[38;5;21mproduct\u001b[39m(\u001b[38;5;241m*\u001b[39margs):\n\u001b[1;32m----> 3\u001b[0m     \u001b[43mproduct\u001b[49m(\u001b[38;5;241m1\u001b[39m)\n\u001b[0;32m      4\u001b[0m     \u001b[38;5;28;01mfor\u001b[39;00m i \u001b[38;5;129;01min\u001b[39;00m args:\n\u001b[0;32m      5\u001b[0m         product\u001b[38;5;241m=\u001b[39mproduct\u001b[38;5;241m*\u001b[39mi\n",
      "\u001b[1;31mUnboundLocalError\u001b[0m: cannot access local variable 'product' where it is not associated with a value"
     ]
    }
   ],
   "source": [
    "product (2,3,4,5,6,7,8,9,10)"
   ]
  },
  {
   "cell_type": "code",
   "execution_count": 78,
   "id": "c112d88d-436e-42c3-b531-b743ced326c4",
   "metadata": {},
   "outputs": [
    {
     "name": "stdin",
     "output_type": "stream",
     "text": [
      "Enter Your Name Sidra Yamin\n",
      "Enter Your gender Female\n",
      "Enter Your age 32\n",
      "Enter Your specialization Research\n"
     ]
    },
    {
     "name": "stdout",
     "output_type": "stream",
     "text": [
      "('Sidra Yamin', 'Female', '32', 'Research')\n"
     ]
    }
   ],
   "source": [
    "def user_details(*args):\n",
    "    print(args)\n",
    "\n",
    "name=input(\"Enter Your Name\")\n",
    "gender=input(\"Enter Your gender\")\n",
    "age=input(\"Enter Your age\")\n",
    "specialization=input(\"Enter Your specialization\")\n",
    "user_details(name,gender,age, specialization)"
   ]
  },
  {
   "cell_type": "code",
   "execution_count": 86,
   "id": "82bed2c3-1ac5-45ce-b4de-4cf635e916ee",
   "metadata": {},
   "outputs": [
    {
     "name": "stdin",
     "output_type": "stream",
     "text": [
      "Enter Your Name sidra\n",
      "Enter Your gender f\n",
      "Enter Your age 32\n",
      "Enter Your specialization r\n"
     ]
    },
    {
     "name": "stdout",
     "output_type": "stream",
     "text": [
      "{'name': 'sidra', 'gender': 'f', 'age': '32', 'specialization': 'r'}\n"
     ]
    }
   ],
   "source": [
    "def user_details(**kwargs):\n",
    "    print(kwargs)\n",
    "    \n",
    "name=input(\"Enter Your Name\")\n",
    "gender=input(\"Enter Your gender\")\n",
    "age=input(\"Enter Your age\")\n",
    "specialization=input(\"Enter Your specialization\")\n",
    "user_details(name=name,gender=gender,age=age, specialization=specialization)"
   ]
  },
  {
   "cell_type": "code",
   "execution_count": 89,
   "id": "117698c8-cbe9-4448-9233-3a538ff9eb63",
   "metadata": {},
   "outputs": [
    {
     "name": "stdout",
     "output_type": "stream",
     "text": [
      "Pakistan ---> Islamabad\n",
      "India ---> Delhi\n",
      "Bangaldesh ---> Dhaka\n"
     ]
    }
   ],
   "source": [
    "def capital_of_country(**kwargs):\n",
    "    for key,value in kwargs.items():\n",
    "        print(key,'--->',value)\n",
    "\n",
    "capital_of_country(Pakistan=\"Islamabad\", India=\"Delhi\", Bangaldesh=\"Dhaka\")"
   ]
  },
  {
   "cell_type": "code",
   "execution_count": 90,
   "id": "5340a505-1417-4e4b-b7d8-628161b616a1",
   "metadata": {},
   "outputs": [
    {
     "name": "stdout",
     "output_type": "stream",
     "text": [
      "Schoolname ---> Bahria\n",
      "UniversityName ---> Bahria University\n",
      "Workplace ---> nil\n"
     ]
    }
   ],
   "source": [
    "def Professional_details(**kwargs):\n",
    "    for key,value in kwargs.items():\n",
    "        print(key,'--->',value)\n",
    "\n",
    "Professional_details(Schoolname=\"Bahria\", UniversityName=\"Bahria University\", Workplace=\"nil\")"
   ]
  },
  {
   "cell_type": "code",
   "execution_count": 92,
   "id": "ea6a60f6-190f-49fb-b9e4-bb76ecb3f059",
   "metadata": {},
   "outputs": [
    {
     "name": "stdout",
     "output_type": "stream",
     "text": [
      "None\n"
     ]
    }
   ],
   "source": [
    "list= [1,2,3,4]\n",
    "print(list.append(5))"
   ]
  },
  {
   "cell_type": "code",
   "execution_count": 2,
   "id": "00ff4b17-dc1c-437d-9968-52c9c6aeb01c",
   "metadata": {},
   "outputs": [
    {
     "name": "stdout",
     "output_type": "stream",
     "text": [
      "Sum of even numbers: 2550\n",
      "Sum of odd numbers: 2500\n"
     ]
    }
   ],
   "source": [
    "sum_even= 0\n",
    "sum_odd = 0\n",
    "for number in range(101):\n",
    "    if number % 2 == 0:    \n",
    "        sum_even += number\n",
    "    else:                  \n",
    "        sum_odd += number\n",
    "\n",
    "print(\"Sum of even numbers:\", sum_even)\n",
    "print(\"Sum of odd numbers:\", sum_odd)"
   ]
  },
  {
   "cell_type": "code",
   "execution_count": null,
   "id": "c0fd77c4-917a-42e9-bff7-1d2bfd534318",
   "metadata": {},
   "outputs": [],
   "source": []
  }
 ],
 "metadata": {
  "kernelspec": {
   "display_name": "Python 3 (ipykernel)",
   "language": "python",
   "name": "python3"
  },
  "language_info": {
   "codemirror_mode": {
    "name": "ipython",
    "version": 3
   },
   "file_extension": ".py",
   "mimetype": "text/x-python",
   "name": "python",
   "nbconvert_exporter": "python",
   "pygments_lexer": "ipython3",
   "version": "3.13.0"
  }
 },
 "nbformat": 4,
 "nbformat_minor": 5
}
