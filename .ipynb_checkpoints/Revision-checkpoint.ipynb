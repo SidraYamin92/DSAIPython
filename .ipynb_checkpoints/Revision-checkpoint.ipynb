{
 "cells": [
  {
   "cell_type": "code",
   "execution_count": 1,
   "id": "45df6d9a-55ad-487f-8e65-7f8ba1dc25e0",
   "metadata": {},
   "outputs": [
    {
     "name": "stdout",
     "output_type": "stream",
     "text": [
      "Sidra Yamin\n"
     ]
    }
   ],
   "source": [
    "print('Sidra Yamin')"
   ]
  },
  {
   "cell_type": "code",
   "execution_count": 2,
   "id": "a3af0158-7d70-4f5f-80e2-8a25cb797d4a",
   "metadata": {},
   "outputs": [
    {
     "name": "stdout",
     "output_type": "stream",
     "text": [
      "<class 'str'>\n",
      "<class 'int'>\n"
     ]
    }
   ],
   "source": [
    "name = 'NedAcademy'\n",
    "print(type(name))\n",
    "age= 30\n",
    "print(type(age))"
   ]
  },
  {
   "cell_type": "code",
   "execution_count": 3,
   "id": "97208309-ec98-409b-8f1b-0ff56a5c8815",
   "metadata": {},
   "outputs": [
    {
     "name": "stdout",
     "output_type": "stream",
     "text": [
      "<class 'str'>\n",
      "<class 'int'>\n",
      "<class 'float'>\n"
     ]
    }
   ],
   "source": [
    "x= str(3)\n",
    "y = int(2.0)\n",
    "z= float(3)\n",
    "print(type(x))\n",
    "print(type(y))\n",
    "print(type(z))"
   ]
  },
  {
   "cell_type": "code",
   "execution_count": 4,
   "id": "c661e7b0-e176-400e-afa0-3414cdb746bd",
   "metadata": {},
   "outputs": [
    {
     "name": "stdout",
     "output_type": "stream",
     "text": [
      "======================================\n",
      "\t\t My Profile\n",
      "Name: \t\t Sidra Yamin\n",
      "Gender:\t\t female\n",
      "Age:\t\t 32\n",
      "Orgnization:\t NIL\n",
      "CGPA:\t\t 3.2\n",
      "is working:\t True\n",
      "======================================\n"
     ]
    }
   ],
   "source": [
    "First_Name= \"Sidra\"\n",
    "Last_Name= \"Yamin\"\n",
    "age = 32\n",
    "gender= \"female\"\n",
    "organization = \"NIL\"\n",
    "CGPA = 3.2\n",
    "is_working = True\n",
    "print (\"======================================\")\n",
    "print(\"\\t\\t My Profile\")\n",
    "print(\"Name: \\t\\t\", First_Name + ' ' + Last_Name)\n",
    "print(\"Gender:\\t\\t\", gender)\n",
    "print(\"Age:\\t\\t\", age)\n",
    "print(\"Orgnization:\\t\", organization)\n",
    "print(\"CGPA:\\t\\t\", CGPA)\n",
    "print(\"is working:\\t\", is_working)\n",
    "print (\"======================================\")\n"
   ]
  },
  {
   "cell_type": "code",
   "execution_count": 5,
   "id": "9b130834-f3ee-4939-b2ff-b9ea8b06fb59",
   "metadata": {},
   "outputs": [
    {
     "name": "stdout",
     "output_type": "stream",
     "text": [
      "4\n",
      "4\n",
      "4\n"
     ]
    }
   ],
   "source": [
    "x=y=z=4\n",
    "print(x)\n",
    "print(z)\n",
    "print(y)\n",
    "\n",
    "\n"
   ]
  },
  {
   "cell_type": "code",
   "execution_count": 6,
   "id": "078bab92-e49f-466b-b129-b3a901f77814",
   "metadata": {},
   "outputs": [
    {
     "name": "stdout",
     "output_type": "stream",
     "text": [
      "4\n",
      "6\n",
      "5\n"
     ]
    }
   ],
   "source": [
    "x,y,z = 4,5,6\n",
    "print(x)\n",
    "print(z)\n",
    "print(y)\n"
   ]
  },
  {
   "cell_type": "code",
   "execution_count": 7,
   "id": "1ba7d263-71c4-49f2-9344-3e9fa55de7d3",
   "metadata": {},
   "outputs": [
    {
     "name": "stdin",
     "output_type": "stream",
     "text": [
      "Enter Your Name Sidra\n"
     ]
    },
    {
     "name": "stdout",
     "output_type": "stream",
     "text": [
      "Welcome Sidra\n"
     ]
    }
   ],
   "source": [
    "name=input(\"Enter Your Name\")\n",
    "print(\"Welcome\", name)"
   ]
  },
  {
   "cell_type": "code",
   "execution_count": 8,
   "id": "cbd2e6f1-b7cf-418a-811d-7349cfeff986",
   "metadata": {},
   "outputs": [
    {
     "name": "stdout",
     "output_type": "stream",
     "text": [
      "<class 'str'>\n"
     ]
    }
   ],
   "source": [
    "print(type(name))"
   ]
  },
  {
   "cell_type": "code",
   "execution_count": 9,
   "id": "1255a432-2942-4fd6-82be-c3e5c477eb4c",
   "metadata": {},
   "outputs": [
    {
     "data": {
      "text/plain": [
       "'WE ARE LEARNING PUYTHON'"
      ]
     },
     "execution_count": 9,
     "metadata": {},
     "output_type": "execute_result"
    }
   ],
   "source": [
    "txt =\"we are learning puython\"\n",
    "txt.upper()\n"
   ]
  },
  {
   "cell_type": "code",
   "execution_count": 10,
   "id": "ceb3d00b-317f-4983-bfe9-eb538296a6f5",
   "metadata": {},
   "outputs": [
    {
     "data": {
      "text/plain": [
       "'we are learning puython'"
      ]
     },
     "execution_count": 10,
     "metadata": {},
     "output_type": "execute_result"
    }
   ],
   "source": [
    "txt.lower()"
   ]
  },
  {
   "cell_type": "code",
   "execution_count": 11,
   "id": "2ad41384-3581-474e-99d3-d3b3c537c4f6",
   "metadata": {},
   "outputs": [
    {
     "name": "stdout",
     "output_type": "stream",
     "text": [
      "False\n",
      "False\n",
      "False\n"
     ]
    }
   ],
   "source": [
    "print(2>3)\n",
    "print(4<2)\n",
    "print(4!=4)"
   ]
  },
  {
   "cell_type": "code",
   "execution_count": 12,
   "id": "34e6b9a0-62a2-4f90-b000-2846ec7ff7b7",
   "metadata": {},
   "outputs": [
    {
     "name": "stdin",
     "output_type": "stream",
     "text": [
      "Enter number1:  50\n",
      "Enter number2:  50\n"
     ]
    },
    {
     "name": "stdout",
     "output_type": "stream",
     "text": [
      "The Result of the given numbers: False\n",
      "The Result of the given numbers: False\n",
      "The Result of the given numbers: True\n",
      "The Result of the given numbers: False\n",
      "The Result of the given numbers: True\n",
      "The Result of the given numbers: True\n"
     ]
    }
   ],
   "source": [
    "number1 = float(input(\"Enter number1: \"))\n",
    "number2 = float(input(\"Enter number2: \"))\n",
    "print('The Result of the given numbers:',number1>number2)\n",
    "print('The Result of the given numbers:',number1<number2)\n",
    "print('The Result of the given numbers:',number1==number2)\n",
    "print('The Result of the given numbers:',number1!=number2)\n",
    "print('The Result of the given numbers:',number1>=number2)\n",
    "print('The Result of the given numbers:',number1<=number2)"
   ]
  },
  {
   "cell_type": "code",
   "execution_count": 14,
   "id": "d2bb8ae7-dd63-4ed0-90f6-15d2796f94a2",
   "metadata": {},
   "outputs": [
    {
     "name": "stdin",
     "output_type": "stream",
     "text": [
      "Enter number1:  10\n",
      "Enter number2:  20\n",
      "Enter number3:  40\n"
     ]
    },
    {
     "name": "stdout",
     "output_type": "stream",
     "text": [
      "False\n"
     ]
    }
   ],
   "source": [
    "number1 = float(input(\"Enter number1: \"))\n",
    "number2 = float(input(\"Enter number2: \"))\n",
    "number3 = float(input(\"Enter number3: \"))\n",
    "\n",
    "print(number1>number2>number3)\n"
   ]
  },
  {
   "cell_type": "code",
   "execution_count": 16,
   "id": "324efccf-bc19-499e-b239-f16ed08395c9",
   "metadata": {},
   "outputs": [
    {
     "name": "stdout",
     "output_type": "stream",
     "text": [
      "15\n"
     ]
    }
   ],
   "source": [
    "number = 10\n",
    "number +=5\n",
    "print(number)"
   ]
  },
  {
   "cell_type": "code",
   "execution_count": 17,
   "id": "6995c412-a86f-4196-b270-eb0139f2cd97",
   "metadata": {},
   "outputs": [
    {
     "name": "stdout",
     "output_type": "stream",
     "text": [
      "20\n"
     ]
    }
   ],
   "source": [
    "print(number+5)"
   ]
  },
  {
   "cell_type": "code",
   "execution_count": 18,
   "id": "251f6bcd-eb9a-47eb-b26a-34702d5ee89f",
   "metadata": {},
   "outputs": [
    {
     "name": "stdout",
     "output_type": "stream",
     "text": [
      "b = a:  15\n",
      "b += a:  30\n",
      "b -= a:  15\n",
      "b *= a:  225\n",
      "b /= a:  15.0\n",
      "b //= a:  1.0\n",
      "b %= a:  1.0\n",
      "b **= a:  1.0\n",
      "b <= a:  1.0\n",
      "b >= a:  1.0\n",
      "a &= 5:  5\n",
      "a |= 5:  5\n"
     ]
    }
   ],
   "source": [
    "# Assigning the values to variables\n",
    "a = 15\n",
    "b = 5\n",
    "# Simple assignment operator\n",
    "b = a\n",
    "print('b = a: ',b)\n",
    "# ADD AND operator\n",
    "b += a\n",
    "print('b += a: ', b)\n",
    "# SUBTRACT AND operatpr\n",
    "b -= a\n",
    "print('b -= a: ', b)\n",
    "# MULTIPLICATION AND operator\n",
    "b *= a\n",
    "print('b *= a: ', b)\n",
    "# DIVISION AND operator\n",
    "b /= a\n",
    "print('b /= a: ', b)\n",
    "# FLOOR AND operator\n",
    "b //= a\n",
    "print('b //= a: ', b)\n",
    "# MODULUS AND operator\n",
    "b %= a\n",
    "print('b %= a: ', b)\n",
    "# EXPONENT AND operator\n",
    "b **= a\n",
    "print('b **= a: ', b)\n",
    "# LESS THAN AND operator\n",
    "b <= a\n",
    "print('b <= a: ', b)\n",
    "# GREATOR THAN AND operator\n",
    "b >= a\n",
    "print('b >= a: ', b)\n",
    "# BINARY AND operator\n",
    "a &= 5\n",
    "print('a &= 5: ', a)\n",
    "# BINARY OR operator\n",
    "a |= 5\n",
    "print('a |= 5: ', a)\n"
   ]
  },
  {
   "cell_type": "code",
   "execution_count": 25,
   "id": "7795c62e-2010-42ef-9c8a-e81128be03b5",
   "metadata": {},
   "outputs": [
    {
     "data": {
      "text/plain": [
       "False"
      ]
     },
     "execution_count": 25,
     "metadata": {},
     "output_type": "execute_result"
    }
   ],
   "source": [
    "name = [\"Farooq\",'Jibran','Ahmed','Aliza']\n",
    "'Farooq' in name \n",
    "'Sidra'not in name\n",
    "'SIdra' in name"
   ]
  },
  {
   "cell_type": "markdown",
   "id": "6f342b26-c484-49ab-baf0-88a96fe33443",
   "metadata": {},
   "source": [
    "##Lists"
   ]
  },
  {
   "cell_type": "code",
   "execution_count": 1,
   "id": "aaec3c3b-3585-47a2-bd2f-574f93cef33d",
   "metadata": {},
   "outputs": [
    {
     "name": "stdout",
     "output_type": "stream",
     "text": [
      "<class 'list'>\n"
     ]
    }
   ],
   "source": [
    "fruits = []\n",
    "print(type(fruits))"
   ]
  },
  {
   "cell_type": "code",
   "execution_count": 2,
   "id": "52a02672-9b6b-46d9-9adc-1f79170729f5",
   "metadata": {},
   "outputs": [],
   "source": [
    "fruits = [ \"Mango\", \"Banana\", \"Apple\", \"Watermelon\", \"strawberry\"]"
   ]
  },
  {
   "cell_type": "code",
   "execution_count": 4,
   "id": "9bff984f-8ff3-4c0b-b799-533502a14ed2",
   "metadata": {},
   "outputs": [
    {
     "name": "stdout",
     "output_type": "stream",
     "text": [
      "5\n"
     ]
    }
   ],
   "source": [
    "print(len(fruits))"
   ]
  },
  {
   "cell_type": "code",
   "execution_count": 5,
   "id": "fc347805-242d-415a-bcce-c1c51734a06b",
   "metadata": {},
   "outputs": [],
   "source": [
    "fruits.append(\"jaman\")"
   ]
  },
  {
   "cell_type": "code",
   "execution_count": 7,
   "id": "bf5e1953-5b7b-4fef-90ba-13e124d0269e",
   "metadata": {},
   "outputs": [
    {
     "name": "stdout",
     "output_type": "stream",
     "text": [
      "['Mango', 'Banana', 'Apple', 'Watermelon', 'strawberry', 'jaman']\n"
     ]
    }
   ],
   "source": [
    "print(fruits)"
   ]
  },
  {
   "cell_type": "code",
   "execution_count": 8,
   "id": "d530d86d-8907-4d70-b0fe-e5fcd9386d85",
   "metadata": {},
   "outputs": [
    {
     "name": "stdout",
     "output_type": "stream",
     "text": [
      "Mango\n"
     ]
    }
   ],
   "source": [
    "print(fruits[0])"
   ]
  },
  {
   "cell_type": "code",
   "execution_count": 9,
   "id": "3e383732-9c29-434c-a2ce-7756861214a4",
   "metadata": {},
   "outputs": [
    {
     "name": "stdout",
     "output_type": "stream",
     "text": [
      "Watermelon\n"
     ]
    }
   ],
   "source": [
    "print(fruits[3])"
   ]
  },
  {
   "cell_type": "code",
   "execution_count": 10,
   "id": "b3d37329-c662-4db2-b164-8b189b6ae108",
   "metadata": {},
   "outputs": [
    {
     "name": "stdout",
     "output_type": "stream",
     "text": [
      "['Watermelon']\n"
     ]
    }
   ],
   "source": [
    "#inclusive :exclusive\n",
    "print(fruits[3:4])"
   ]
  },
  {
   "cell_type": "code",
   "execution_count": 11,
   "id": "94b3c353-7339-4dcf-9836-a9d63337ddad",
   "metadata": {},
   "outputs": [
    {
     "name": "stdout",
     "output_type": "stream",
     "text": [
      "['Apple', 'strawberry']\n"
     ]
    }
   ],
   "source": [
    "#inclusive:exclusive:step\n",
    "print(fruits[2:5:2])"
   ]
  },
  {
   "cell_type": "code",
   "execution_count": 14,
   "id": "24b072c4-a06b-443f-82e4-0b49aefe65fa",
   "metadata": {},
   "outputs": [
    {
     "name": "stdout",
     "output_type": "stream",
     "text": [
      "['Mango', 'Banana', 'Apple', 'Watermelon', 'leeche', 'leeche', 'strawberry', 'jaman']\n"
     ]
    }
   ],
   "source": [
    "fruits.insert(4, \"leeche\")\n",
    "print(fruits)"
   ]
  },
  {
   "cell_type": "code",
   "execution_count": 15,
   "id": "fcd24991-566a-4700-8ce7-d2e0f5a7420c",
   "metadata": {},
   "outputs": [
    {
     "data": {
      "text/plain": [
       "['Mango',\n",
       " 'Banana',\n",
       " 'Apple',\n",
       " 'Watermelon',\n",
       " 'leeche',\n",
       " 'leeche',\n",
       " 'strawberry',\n",
       " 'jaman']"
      ]
     },
     "execution_count": 15,
     "metadata": {},
     "output_type": "execute_result"
    }
   ],
   "source": [
    "fruits"
   ]
  },
  {
   "cell_type": "code",
   "execution_count": 20,
   "id": "14fa299a-0028-41cd-98e5-8d54dffcedcd",
   "metadata": {},
   "outputs": [
    {
     "ename": "TypeError",
     "evalue": "'str' object cannot be interpreted as an integer",
     "output_type": "error",
     "traceback": [
      "\u001b[1;31m---------------------------------------------------------------------------\u001b[0m",
      "\u001b[1;31mTypeError\u001b[0m                                 Traceback (most recent call last)",
      "Cell \u001b[1;32mIn[20], line 1\u001b[0m\n\u001b[1;32m----> 1\u001b[0m \u001b[43mfruits\u001b[49m\u001b[38;5;241;43m.\u001b[39;49m\u001b[43mpop\u001b[49m\u001b[43m(\u001b[49m\u001b[38;5;124;43m'\u001b[39;49m\u001b[38;5;124;43mleeche\u001b[39;49m\u001b[38;5;124;43m'\u001b[39;49m\u001b[43m)\u001b[49m\n\u001b[0;32m      2\u001b[0m fruits\n",
      "\u001b[1;31mTypeError\u001b[0m: 'str' object cannot be interpreted as an integer"
     ]
    }
   ],
   "source": [
    "fruits.pop('leeche')\n",
    "fruits"
   ]
  },
  {
   "cell_type": "code",
   "execution_count": 21,
   "id": "99236c02-7c19-4208-8cd3-7fd7bf59e717",
   "metadata": {},
   "outputs": [
    {
     "data": {
      "text/plain": [
       "['Mango',\n",
       " 'Banana',\n",
       " 'Apple',\n",
       " 'Watermelon',\n",
       " 'leeche',\n",
       " 'leeche',\n",
       " 'strawberry',\n",
       " 'jaman']"
      ]
     },
     "execution_count": 21,
     "metadata": {},
     "output_type": "execute_result"
    }
   ],
   "source": [
    "fruits"
   ]
  },
  {
   "cell_type": "code",
   "execution_count": 22,
   "id": "6d24997e-fd92-437f-b725-ca596685fbe3",
   "metadata": {},
   "outputs": [],
   "source": [
    "fruits_in_winter=[\"orange\", \"grapes\", \"pear\"]\n",
    "fruits.append(fruits_in_winter)"
   ]
  },
  {
   "cell_type": "code",
   "execution_count": 23,
   "id": "25d2e5db-ff55-44da-8783-07c079afbe51",
   "metadata": {},
   "outputs": [
    {
     "name": "stdout",
     "output_type": "stream",
     "text": [
      "['Mango', 'Banana', 'Apple', 'Watermelon', 'leeche', 'leeche', 'strawberry', 'jaman', ['orange', 'grapes', 'pear']]\n"
     ]
    }
   ],
   "source": [
    "print(fruits)"
   ]
  },
  {
   "cell_type": "code",
   "execution_count": 24,
   "id": "c012f664-0edd-4372-88fd-94ef262e44e2",
   "metadata": {},
   "outputs": [
    {
     "data": {
      "text/plain": [
       "['Mango',\n",
       " 'Banana',\n",
       " 'Apple',\n",
       " 'Watermelon',\n",
       " 'leeche',\n",
       " 'leeche',\n",
       " 'strawberry',\n",
       " 'jaman',\n",
       " ['orange', 'grapes', 'pear']]"
      ]
     },
     "execution_count": 24,
     "metadata": {},
     "output_type": "execute_result"
    }
   ],
   "source": [
    "fruits\n"
   ]
  },
  {
   "cell_type": "code",
   "execution_count": 26,
   "id": "f6871bd5-4a10-45f4-a84b-86ad2e4b8c4b",
   "metadata": {},
   "outputs": [
    {
     "name": "stdout",
     "output_type": "stream",
     "text": [
      "['Apple', 'Watermelon']\n"
     ]
    }
   ],
   "source": [
    "print(fruits[2:4:1])"
   ]
  },
  {
   "cell_type": "code",
   "execution_count": 27,
   "id": "181e7002-d2f2-44b0-bec2-354c9617f847",
   "metadata": {},
   "outputs": [],
   "source": [
    "fruits.reverse()"
   ]
  },
  {
   "cell_type": "code",
   "execution_count": 28,
   "id": "ae5071da-7484-4a5b-a1e8-5f378197445b",
   "metadata": {},
   "outputs": [
    {
     "data": {
      "text/plain": [
       "[['orange', 'grapes', 'pear'],\n",
       " 'jaman',\n",
       " 'strawberry',\n",
       " 'leeche',\n",
       " 'leeche',\n",
       " 'Watermelon',\n",
       " 'Apple',\n",
       " 'Banana',\n",
       " 'Mango']"
      ]
     },
     "execution_count": 28,
     "metadata": {},
     "output_type": "execute_result"
    }
   ],
   "source": [
    "fruits"
   ]
  },
  {
   "cell_type": "code",
   "execution_count": 29,
   "id": "fefae81d-fbfb-41ba-a6c3-51e1e0252433",
   "metadata": {},
   "outputs": [],
   "source": [
    "fruits_in_summer = [\"kiwi\", \"anar\"]"
   ]
  },
  {
   "cell_type": "code",
   "execution_count": 32,
   "id": "1a434b0b-b1ca-4eb3-ae20-747902d1d280",
   "metadata": {},
   "outputs": [],
   "source": [
    "fruits.insert(0, fruits_in_summer)"
   ]
  },
  {
   "cell_type": "code",
   "execution_count": 33,
   "id": "f7504a22-f1bf-418e-b0a5-6f5c0b10a5c1",
   "metadata": {},
   "outputs": [
    {
     "data": {
      "text/plain": [
       "[['kiwi', 'anar'],\n",
       " ['orange', 'grapes', 'pear'],\n",
       " 'jaman',\n",
       " 'strawberry',\n",
       " 'leeche',\n",
       " 'leeche',\n",
       " 'Watermelon',\n",
       " 'Apple',\n",
       " 'Banana',\n",
       " 'Mango']"
      ]
     },
     "execution_count": 33,
     "metadata": {},
     "output_type": "execute_result"
    }
   ],
   "source": [
    "fruits"
   ]
  },
  {
   "cell_type": "code",
   "execution_count": 34,
   "id": "e3664552-659c-450f-a437-a256fb9082ff",
   "metadata": {},
   "outputs": [],
   "source": [
    "fruits.reverse()"
   ]
  },
  {
   "cell_type": "code",
   "execution_count": 35,
   "id": "d923c951-8311-49f7-9741-95b28783749d",
   "metadata": {},
   "outputs": [
    {
     "data": {
      "text/plain": [
       "['Mango',\n",
       " 'Banana',\n",
       " 'Apple',\n",
       " 'Watermelon',\n",
       " 'leeche',\n",
       " 'leeche',\n",
       " 'strawberry',\n",
       " 'jaman',\n",
       " ['orange', 'grapes', 'pear'],\n",
       " ['kiwi', 'anar']]"
      ]
     },
     "execution_count": 35,
     "metadata": {},
     "output_type": "execute_result"
    }
   ],
   "source": [
    "fruits"
   ]
  },
  {
   "cell_type": "code",
   "execution_count": 37,
   "id": "61abd9a9-716b-4ad4-b678-1d72f3b19397",
   "metadata": {},
   "outputs": [
    {
     "data": {
      "text/plain": [
       "True"
      ]
     },
     "execution_count": 37,
     "metadata": {},
     "output_type": "execute_result"
    }
   ],
   "source": [
    "'Banana' in fruits"
   ]
  },
  {
   "cell_type": "code",
   "execution_count": 38,
   "id": "28a2227b-5fff-4da7-8a0b-9427a109f59d",
   "metadata": {},
   "outputs": [
    {
     "name": "stdout",
     "output_type": "stream",
     "text": [
      "<class 'tuple'>\n"
     ]
    }
   ],
   "source": [
    "number=(1,2,3,4,5,6,7,8,9)\n",
    "print(type(number))"
   ]
  },
  {
   "cell_type": "code",
   "execution_count": 40,
   "id": "3877dd71-c392-48d3-a291-d4ebe3842bd9",
   "metadata": {},
   "outputs": [
    {
     "ename": "AttributeError",
     "evalue": "'tuple' object has no attribute 'append'",
     "output_type": "error",
     "traceback": [
      "\u001b[1;31m---------------------------------------------------------------------------\u001b[0m",
      "\u001b[1;31mAttributeError\u001b[0m                            Traceback (most recent call last)",
      "Cell \u001b[1;32mIn[40], line 1\u001b[0m\n\u001b[1;32m----> 1\u001b[0m \u001b[43mnumber\u001b[49m\u001b[38;5;241;43m.\u001b[39;49m\u001b[43mappend\u001b[49m(\u001b[38;5;241m0\u001b[39m)\n\u001b[0;32m      2\u001b[0m number\u001b[38;5;241m.\u001b[39minsert(\u001b[38;5;241m1\u001b[39m,\u001b[38;5;241m3\u001b[39m)\n",
      "\u001b[1;31mAttributeError\u001b[0m: 'tuple' object has no attribute 'append'"
     ]
    }
   ],
   "source": [
    "number.append(0)\n"
   ]
  },
  {
   "cell_type": "code",
   "execution_count": 41,
   "id": "fb9cc13f-2df0-4e26-a84e-6d3a6653a1ee",
   "metadata": {},
   "outputs": [
    {
     "ename": "AttributeError",
     "evalue": "'tuple' object has no attribute 'insert'",
     "output_type": "error",
     "traceback": [
      "\u001b[1;31m---------------------------------------------------------------------------\u001b[0m",
      "\u001b[1;31mAttributeError\u001b[0m                            Traceback (most recent call last)",
      "Cell \u001b[1;32mIn[41], line 1\u001b[0m\n\u001b[1;32m----> 1\u001b[0m \u001b[43mnumber\u001b[49m\u001b[38;5;241;43m.\u001b[39;49m\u001b[43minsert\u001b[49m(\u001b[38;5;241m1\u001b[39m,\u001b[38;5;241m3\u001b[39m)\n",
      "\u001b[1;31mAttributeError\u001b[0m: 'tuple' object has no attribute 'insert'"
     ]
    }
   ],
   "source": [
    "number.insert(1,3)"
   ]
  },
  {
   "cell_type": "code",
   "execution_count": 42,
   "id": "a8b3ef88-3322-462c-bf1e-24ed5388c7b9",
   "metadata": {},
   "outputs": [
    {
     "ename": "AttributeError",
     "evalue": "'tuple' object has no attribute 'pop'",
     "output_type": "error",
     "traceback": [
      "\u001b[1;31m---------------------------------------------------------------------------\u001b[0m",
      "\u001b[1;31mAttributeError\u001b[0m                            Traceback (most recent call last)",
      "Cell \u001b[1;32mIn[42], line 1\u001b[0m\n\u001b[1;32m----> 1\u001b[0m \u001b[43mnumber\u001b[49m\u001b[38;5;241;43m.\u001b[39;49m\u001b[43mpop\u001b[49m()\n",
      "\u001b[1;31mAttributeError\u001b[0m: 'tuple' object has no attribute 'pop'"
     ]
    }
   ],
   "source": [
    "number.pop()"
   ]
  },
  {
   "cell_type": "code",
   "execution_count": 44,
   "id": "6687a341-13f6-4c8a-9f9c-8c351921b3f4",
   "metadata": {},
   "outputs": [
    {
     "data": {
      "text/plain": [
       "1"
      ]
     },
     "execution_count": 44,
     "metadata": {},
     "output_type": "execute_result"
    }
   ],
   "source": [
    "number.count(2)"
   ]
  },
  {
   "cell_type": "code",
   "execution_count": 45,
   "id": "b1d92de6-c9c3-4480-aff5-dd9ce02a4c6c",
   "metadata": {},
   "outputs": [
    {
     "name": "stdout",
     "output_type": "stream",
     "text": [
      "(1, 2, 3, 4, 5, 1, 2, 3, 4, 5, 6, 7, 8, 9)\n"
     ]
    }
   ],
   "source": [
    "numberlist=(1,2,3,4,5)\n",
    "numbers=numberlist+number\n",
    "print(numbers)"
   ]
  },
  {
   "cell_type": "code",
   "execution_count": null,
   "id": "aec85836-44f6-45b8-9102-8a9b95ff2a29",
   "metadata": {},
   "outputs": [],
   "source": []
  }
 ],
 "metadata": {
  "kernelspec": {
   "display_name": "Python 3 (ipykernel)",
   "language": "python",
   "name": "python3"
  },
  "language_info": {
   "codemirror_mode": {
    "name": "ipython",
    "version": 3
   },
   "file_extension": ".py",
   "mimetype": "text/x-python",
   "name": "python",
   "nbconvert_exporter": "python",
   "pygments_lexer": "ipython3",
   "version": "3.13.0"
  }
 },
 "nbformat": 4,
 "nbformat_minor": 5
}
