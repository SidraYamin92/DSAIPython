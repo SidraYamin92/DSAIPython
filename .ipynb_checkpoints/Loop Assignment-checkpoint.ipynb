{
 "cells": [
  {
   "cell_type": "code",
   "execution_count": 4,
   "id": "e585cd17-f842-4d85-b0fb-aef345ac0492",
   "metadata": {},
   "outputs": [
    {
     "name": "stdin",
     "output_type": "stream",
     "text": [
      "Enter number of rows for pattern 7\n"
     ]
    },
    {
     "name": "stdout",
     "output_type": "stream",
     "text": [
      "#\n",
      "##\n",
      "###\n",
      "####\n",
      "#####\n",
      "######\n",
      "#######\n"
     ]
    }
   ],
   "source": [
    "rows = int(input(\"Enter number of rows for pattern\"))\n",
    "for i in range (1, rows+1):\n",
    "    for j in range (1, i+1):\n",
    "        print('#',end='')\n",
    "    print()"
   ]
  },
  {
   "cell_type": "code",
   "execution_count": 8,
   "id": "853aa341-cae4-45ec-924a-514d2c87ee82",
   "metadata": {},
   "outputs": [
    {
     "name": "stdout",
     "output_type": "stream",
     "text": [
      "# # # # # # # # \n",
      "# # # # # # # # \n",
      "# # # # # # # # \n",
      "# # # # # # # # \n",
      "# # # # # # # # \n",
      "# # # # # # # # \n",
      "# # # # # # # # \n",
      "# # # # # # # # \n"
     ]
    }
   ],
   "source": [
    "for i in range (8):\n",
    "    for j in range (8):\n",
    "        print('#',end=\" \")\n",
    "    print()"
   ]
  },
  {
   "cell_type": "code",
   "execution_count": 9,
   "id": "91abe532-f36b-48c1-b7bf-a09a56ad972f",
   "metadata": {},
   "outputs": [
    {
     "name": "stdout",
     "output_type": "stream",
     "text": [
      "Python\n",
      "Numpy\n",
      "Pandas\n",
      "Django\n",
      "Flask\n"
     ]
    }
   ],
   "source": [
    "languages= ['Python', 'Numpy','Pandas','Django', 'Flask']\n",
    "for item in languages:\n",
    "    print (item)"
   ]
  },
  {
   "cell_type": "code",
   "execution_count": 10,
   "id": "3258b763-73e5-46cd-9153-1644ab726eae",
   "metadata": {},
   "outputs": [
    {
     "name": "stdout",
     "output_type": "stream",
     "text": [
      "Sum of even numbers: 2550\n",
      "Sum of odd numbers: 2500\n"
     ]
    }
   ],
   "source": [
    "sum_even= 0\n",
    "sum_odd = 0\n",
    "for number in range(101):\n",
    "    if number % 2 == 0:    \n",
    "        sum_even += number\n",
    "    else:                  \n",
    "        sum_odd += number\n",
    "\n",
    "print(\"Sum of even numbers:\", sum_even)\n",
    "print(\"Sum of odd numbers:\", sum_odd)"
   ]
  },
  {
   "cell_type": "code",
   "execution_count": 11,
   "id": "7af7efb9-74b0-473e-824a-5cbae54f157d",
   "metadata": {},
   "outputs": [
    {
     "name": "stdout",
     "output_type": "stream",
     "text": [
      " The cube of 1 is 1\n",
      " The cube of 2 is 8\n",
      " The cube of 3 is 27\n",
      " The cube of 4 is 64\n",
      " The cube of 5 is 125\n"
     ]
    }
   ],
   "source": [
    "def cube_numbers(j):\n",
    "    for i in range (1, j + 1):\n",
    "        print(f\" The cube of {i} is {i**3}\")\n",
    "\n",
    "number= 5\n",
    "cube_numbers(number)"
   ]
  },
  {
   "cell_type": "code",
   "execution_count": 12,
   "id": "f7120aea-f456-47b7-9e69-13a40da3b7f7",
   "metadata": {},
   "outputs": [
    {
     "name": "stdout",
     "output_type": "stream",
     "text": [
      "Number1: 5\n",
      "Number2: 6\n",
      "11\n"
     ]
    }
   ],
   "source": [
    "def add(num1, num2):\n",
    "    print(\"Number1:\",num1)\n",
    "    print(\"Number2:\",num2)\n",
    "    Addition = num1 + num2\n",
    "    return Addition\n",
    "\n",
    "num1 = 5\n",
    "num2 = 6\n",
    "\n",
    "res = add(num1, num2)\n",
    "print(res)"
   ]
  },
  {
   "cell_type": "code",
   "execution_count": 15,
   "id": "d3bd0f47-4ddc-40dc-9c8c-e881ef62a00a",
   "metadata": {},
   "outputs": [
    {
     "name": "stdin",
     "output_type": "stream",
     "text": [
      "Radius 10\n"
     ]
    },
    {
     "data": {
      "text/plain": [
       "('Area of the Circle is:', 314.2)"
      ]
     },
     "execution_count": 15,
     "metadata": {},
     "output_type": "execute_result"
    }
   ],
   "source": [
    "def Area():\n",
    "    pi=3.142\n",
    "    Area=(pi*r**2)\n",
    "    return 'Area of the Circle is:',Area, \n",
    "r=float(input(\"Radius\"))\n",
    "Area()"
   ]
  },
  {
   "cell_type": "code",
   "execution_count": null,
   "id": "a8d989d7-270b-4640-a8a2-442954407f78",
   "metadata": {},
   "outputs": [],
   "source": []
  }
 ],
 "metadata": {
  "kernelspec": {
   "display_name": "Python 3 (ipykernel)",
   "language": "python",
   "name": "python3"
  },
  "language_info": {
   "codemirror_mode": {
    "name": "ipython",
    "version": 3
   },
   "file_extension": ".py",
   "mimetype": "text/x-python",
   "name": "python",
   "nbconvert_exporter": "python",
   "pygments_lexer": "ipython3",
   "version": "3.13.0"
  }
 },
 "nbformat": 4,
 "nbformat_minor": 5
}
