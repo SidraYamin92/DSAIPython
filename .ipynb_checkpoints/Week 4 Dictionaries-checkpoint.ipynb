{
 "cells": [
  {
   "cell_type": "code",
   "execution_count": 1,
   "id": "6f9e2193-ccce-42c4-9e23-b0ba9cb3c245",
   "metadata": {},
   "outputs": [],
   "source": [
    "# Dictionaries are used to store data values in key:value pairs.A dictionary is a collection which is ordered*,\n",
    "# changeable and do not allow duplicates. (Same as sets, which doesnt allow duplicates)\n",
    "# key value pair {}\n",
    "# mutable\n",
    "# key always be imutable\n",
    "# key always be unique\n"
   ]
  },
  {
   "cell_type": "code",
   "execution_count": 2,
   "id": "db2a14bd-a5a3-4b4c-9abd-419a31df3659",
   "metadata": {},
   "outputs": [
    {
     "name": "stdout",
     "output_type": "stream",
     "text": [
      "<class 'dict'>\n"
     ]
    }
   ],
   "source": [
    "empt_d={}\n",
    "print (type(empt_d))"
   ]
  },
  {
   "cell_type": "code",
   "execution_count": 3,
   "id": "a55241f0-dee4-4716-a842-36b06377d189",
   "metadata": {},
   "outputs": [
    {
     "name": "stdout",
     "output_type": "stream",
     "text": [
      "<class 'set'>\n"
     ]
    }
   ],
   "source": [
    "# asking dictionary to convert into a set \n",
    "empt_d=set({})\n",
    "print (type(empt_d))"
   ]
  },
  {
   "cell_type": "code",
   "execution_count": 4,
   "id": "831a7772-c4db-400f-8b38-710a65f79c8a",
   "metadata": {},
   "outputs": [],
   "source": [
    "# for a empty set\n",
    "emp_d=set()"
   ]
  },
  {
   "cell_type": "code",
   "execution_count": 5,
   "id": "313bc462-8c4a-4821-83ec-dfeaefedec74",
   "metadata": {},
   "outputs": [
    {
     "name": "stdout",
     "output_type": "stream",
     "text": [
      "{'Name': 'Sajid', 'Gender': 'Male', 'Skills': ['Data Science', 'ML', 'AI'], 'Age': 31}\n",
      "<class 'dict'>\n"
     ]
    }
   ],
   "source": [
    "person = {'Name':'Sajid','Gender':'Male','Skills':['Data Science','ML','AI'],'Age':31}\n",
    "print(person)\n",
    "print(type(person))"
   ]
  },
  {
   "cell_type": "code",
   "execution_count": 6,
   "id": "4734ccea-c79a-4a73-8a32-728096518425",
   "metadata": {},
   "outputs": [
    {
     "data": {
      "text/plain": [
       "dict_keys(['Name', 'Gender', 'Skills', 'Age'])"
      ]
     },
     "execution_count": 6,
     "metadata": {},
     "output_type": "execute_result"
    }
   ],
   "source": [
    "#key function\n",
    "person.keys()"
   ]
  },
  {
   "cell_type": "code",
   "execution_count": 7,
   "id": "96501a26-b023-45be-927e-2283dcde7d88",
   "metadata": {},
   "outputs": [
    {
     "data": {
      "text/plain": [
       "dict_values(['Sajid', 'Male', ['Data Science', 'ML', 'AI'], 31])"
      ]
     },
     "execution_count": 7,
     "metadata": {},
     "output_type": "execute_result"
    }
   ],
   "source": [
    "#value function\n",
    "person.values()"
   ]
  },
  {
   "cell_type": "code",
   "execution_count": 8,
   "id": "05477594-a9f5-42d7-b6df-3b1291ccf17e",
   "metadata": {},
   "outputs": [
    {
     "data": {
      "text/plain": [
       "dict_items([('Name', 'Sajid'), ('Gender', 'Male'), ('Skills', ['Data Science', 'ML', 'AI']), ('Age', 31)])"
      ]
     },
     "execution_count": 8,
     "metadata": {},
     "output_type": "execute_result"
    }
   ],
   "source": [
    "#values and keys together\n",
    "person.items()"
   ]
  },
  {
   "cell_type": "code",
   "execution_count": 9,
   "id": "aff597ea-7413-4529-bf6c-297e82d2ea13",
   "metadata": {},
   "outputs": [
    {
     "data": {
      "text/plain": [
       "['Data Science', 'ML', 'AI']"
      ]
     },
     "execution_count": 9,
     "metadata": {},
     "output_type": "execute_result"
    }
   ],
   "source": [
    "#values for specific key\n",
    "person.get('Skills')"
   ]
  },
  {
   "cell_type": "code",
   "execution_count": 10,
   "id": "be5e3354-769f-4a05-842a-8316e4d27199",
   "metadata": {},
   "outputs": [
    {
     "data": {
      "text/plain": [
       "['Data Science', 'ML', 'AI']"
      ]
     },
     "execution_count": 10,
     "metadata": {},
     "output_type": "execute_result"
    }
   ],
   "source": [
    "#get function will only show one value. \n",
    "person.get('Skills')"
   ]
  },
  {
   "cell_type": "code",
   "execution_count": 11,
   "id": "ab51dadf-7aa9-4644-b280-54e07fdf02d0",
   "metadata": {},
   "outputs": [
    {
     "name": "stdout",
     "output_type": "stream",
     "text": [
      "{'Name': 'Sidra', 'Gender': 'Female', 'Marks': {'Python': 70, 'JS': 75, 'Java': 89}, 'Age': 32}\n"
     ]
    }
   ],
   "source": [
    "person1 = {'Name': 'Sidra', 'Gender':'Female', 'Marks':{'Python':70, 'JS':75, 'Java':89},'Age': 32,}\n",
    "print(person1)"
   ]
  },
  {
   "cell_type": "code",
   "execution_count": 12,
   "id": "4cabfeaf-0e56-4129-b53f-00a2799a4a56",
   "metadata": {},
   "outputs": [
    {
     "data": {
      "text/plain": [
       "89"
      ]
     },
     "execution_count": 12,
     "metadata": {},
     "output_type": "execute_result"
    }
   ],
   "source": [
    "#If we want to get something from nested dictonary first pass from round brackets and the nested list in the sqaure brackets. \n",
    "person1.get('Marks')['Java']"
   ]
  },
  {
   "cell_type": "code",
   "execution_count": 13,
   "id": "bbb6ad29-8e10-4c2d-adeb-68051c481238",
   "metadata": {},
   "outputs": [
    {
     "ename": "NameError",
     "evalue": "name 'personperson1' is not defined",
     "output_type": "error",
     "traceback": [
      "\u001b[1;31m---------------------------------------------------------------------------\u001b[0m",
      "\u001b[1;31mNameError\u001b[0m                                 Traceback (most recent call last)",
      "Cell \u001b[1;32mIn[13], line 1\u001b[0m\n\u001b[1;32m----> 1\u001b[0m d3\u001b[38;5;241m=\u001b[39m\u001b[43mpersonperson1\u001b[49m\n\u001b[0;32m      2\u001b[0m \u001b[38;5;28mprint\u001b[39m(d3)\n",
      "\u001b[1;31mNameError\u001b[0m: name 'personperson1' is not defined"
     ]
    }
   ],
   "source": [
    "d3=personperson1\n",
    "print(d3)"
   ]
  },
  {
   "cell_type": "code",
   "execution_count": 14,
   "id": "182dbb15-be77-49d4-bdbd-d1a10aefe829",
   "metadata": {},
   "outputs": [
    {
     "name": "stdout",
     "output_type": "stream",
     "text": [
      "{'Name': 'Sidra', 'Gender': 'Female', 'Skills': ['Data Science', 'ML', 'AI'], 'Age': 32, 'Marks': {'Python': 70, 'JS': 75, 'Java': 89}}\n"
     ]
    }
   ],
   "source": [
    "#this function updates the dictionary of the person by adding information from person1, only unique values are observed in the output.\n",
    "person.update(person1)\n",
    "print(person)"
   ]
  },
  {
   "cell_type": "code",
   "execution_count": 15,
   "id": "23c071de-786b-4d86-b0b4-fc1f0a02c198",
   "metadata": {},
   "outputs": [
    {
     "ename": "AttributeError",
     "evalue": "'dict' object has no attribute 'append'",
     "output_type": "error",
     "traceback": [
      "\u001b[1;31m---------------------------------------------------------------------------\u001b[0m",
      "\u001b[1;31mAttributeError\u001b[0m                            Traceback (most recent call last)",
      "Cell \u001b[1;32mIn[15], line 1\u001b[0m\n\u001b[1;32m----> 1\u001b[0m \u001b[43mperson\u001b[49m\u001b[38;5;241;43m.\u001b[39;49m\u001b[43mappend\u001b[49m(person1)\n",
      "\u001b[1;31mAttributeError\u001b[0m: 'dict' object has no attribute 'append'"
     ]
    }
   ],
   "source": [
    "person.append(person1)"
   ]
  },
  {
   "cell_type": "code",
   "execution_count": 16,
   "id": "6e3c966d-de5d-4eb1-9791-cfed3f55e594",
   "metadata": {},
   "outputs": [
    {
     "data": {
      "text/plain": [
       "{'Python': 70, 'JS': 75, 'Java': 89}"
      ]
     },
     "execution_count": 16,
     "metadata": {},
     "output_type": "execute_result"
    }
   ],
   "source": [
    "person.get('Marks')"
   ]
  },
  {
   "cell_type": "code",
   "execution_count": 17,
   "id": "578a2be9-58e8-4359-8c16-f321e7a33916",
   "metadata": {},
   "outputs": [
    {
     "name": "stdout",
     "output_type": "stream",
     "text": [
      "5\n",
      "4\n"
     ]
    }
   ],
   "source": [
    "print(len(person))\n",
    "print(len(person1))"
   ]
  },
  {
   "cell_type": "code",
   "execution_count": 18,
   "id": "b2ad5b33-aa05-411d-84b7-040ec2278fad",
   "metadata": {},
   "outputs": [
    {
     "name": "stdout",
     "output_type": "stream",
     "text": [
      "{'Name': 'Sidra', 'Gender': 'Female', 'Skills': ['Data Science', 'ML', 'AI'], 'Age': 32, 'Marks': {'Python': 70, 'JS': 75, 'Java': 89}, 'Organization': 'NED'}\n"
     ]
    }
   ],
   "source": [
    "#for adding new key and value in already created dictonary. It will overwrite in the memory and show the information of the person1.\n",
    "person['Organization']='NED'\n",
    "print(person)"
   ]
  },
  {
   "cell_type": "code",
   "execution_count": 19,
   "id": "14881d72-f7e5-47e9-9295-26cae98bbaa4",
   "metadata": {},
   "outputs": [],
   "source": [
    "#if you want to add different names in the dictionary. You must add Name1, Name2 as key.\n"
   ]
  },
  {
   "cell_type": "code",
   "execution_count": 20,
   "id": "f95b942b-7a95-47b5-948a-71801976ec7d",
   "metadata": {},
   "outputs": [
    {
     "name": "stdout",
     "output_type": "stream",
     "text": [
      "{'Name1': 'Sajid', 'Gender1': 'Male', 'Skills1': ['Data Science', 'ML', 'AI'], 'Age1': 31}\n",
      "{'Name2': 'Sidra', 'Gender2': 'Female', 'Skills2': 'Research', 'Age2': 31}\n"
     ]
    }
   ],
   "source": [
    "d1 = {'Name1':'Sajid','Gender1':'Male','Skills1':['Data Science','ML','AI'],'Age1':31}\n",
    "print(d1)\n",
    "d2 = {'Name2':'Sidra','Gender2':'Female','Skills2':'Research','Age2':31}\n",
    "print(d2)"
   ]
  },
  {
   "cell_type": "code",
   "execution_count": 21,
   "id": "6a41fb15-9839-485d-9cb1-9339c03585a3",
   "metadata": {},
   "outputs": [
    {
     "name": "stdout",
     "output_type": "stream",
     "text": [
      "{'Name1': 'Sajid', 'Gender1': 'Male', 'Skills1': ['Data Science', 'ML', 'AI'], 'Age1': 31, 'Name2': 'Sidra', 'Gender2': 'Female', 'Skills2': 'Research', 'Age2': 31}\n"
     ]
    }
   ],
   "source": [
    "d1.update(d2)\n",
    "print(d1)"
   ]
  },
  {
   "cell_type": "code",
   "execution_count": 22,
   "id": "dfabf5fd-4ffd-4108-bc6e-a1823f9b123e",
   "metadata": {},
   "outputs": [
    {
     "name": "stdout",
     "output_type": "stream",
     "text": [
      "{'Name': 'Sidra', 'Gender': 'Female', 'Skills': ['Data Science', 'ML', 'AI'], 'Age': 32, 'Marks': {'Python': 70, 'JS': 75, 'Java': 89}, 'Organization': 'NED', 'roll': 32, 'Address': 'Pakistan'}\n"
     ]
    }
   ],
   "source": [
    "#multiple variable addition\n",
    "person.update({'roll':32,'Address': 'Pakistan'})\n",
    "print(person)"
   ]
  },
  {
   "cell_type": "code",
   "execution_count": 23,
   "id": "1a706248-3586-40cd-ba4b-4b6a559b0ea5",
   "metadata": {},
   "outputs": [
    {
     "ename": "SyntaxError",
     "evalue": "invalid syntax (1599195990.py, line 1)",
     "output_type": "error",
     "traceback": [
      "\u001b[1;36m  Cell \u001b[1;32mIn[23], line 1\u001b[1;36m\u001b[0m\n\u001b[1;33m    person.update('City': 'Karachi')\u001b[0m\n\u001b[1;37m                        ^\u001b[0m\n\u001b[1;31mSyntaxError\u001b[0m\u001b[1;31m:\u001b[0m invalid syntax\n"
     ]
    }
   ],
   "source": [
    "person.update('City': 'Karachi')"
   ]
  },
  {
   "cell_type": "code",
   "execution_count": 24,
   "id": "fde88122-0108-4a2e-b9ea-02bacb6554f2",
   "metadata": {},
   "outputs": [
    {
     "name": "stdout",
     "output_type": "stream",
     "text": [
      "{'Name': 'Sidra', 'Gender': 'Female', 'Skills': ['Data Science', 'ML', 'AI'], 'Age': 32, 'Marks': {'Python': 70, 'JS': 75, 'Java': 89}, 'Organization': 'NED', 'roll': 32, 'Address': 'Pakistan', 'City': 'Karachi'}\n"
     ]
    }
   ],
   "source": [
    "person.update({'City': 'Karachi'})\n",
    "print (person)"
   ]
  },
  {
   "cell_type": "code",
   "execution_count": 25,
   "id": "50949b0c-ba08-4ec7-a199-be6e3c8a7db8",
   "metadata": {},
   "outputs": [
    {
     "data": {
      "text/plain": [
       "['Address',\n",
       " 'Age',\n",
       " 'City',\n",
       " 'Gender',\n",
       " 'Marks',\n",
       " 'Name',\n",
       " 'Organization',\n",
       " 'Skills',\n",
       " 'roll']"
      ]
     },
     "execution_count": 25,
     "metadata": {},
     "output_type": "execute_result"
    }
   ],
   "source": [
    "#capital level keys will come first, small letter keys will come later\n",
    "sorted(person)"
   ]
  },
  {
   "cell_type": "code",
   "execution_count": 26,
   "id": "2d4bb71e-d4a6-4e02-a9bd-296ba146075e",
   "metadata": {},
   "outputs": [
    {
     "name": "stdout",
     "output_type": "stream",
     "text": [
      "{'Name': 'Sidra', 'Gender': 'Female', 'Age': 32, 'Marks': {'Python': 70, 'JS': 75, 'Java': 89}, 'Organization': 'NED', 'roll': 32, 'Address': 'Pakistan', 'City': 'Karachi'}\n"
     ]
    }
   ],
   "source": [
    "# pop('key'). it needs one argument, which key you want to pop from the dictionary list. \n",
    "person.pop('Skills')\n",
    "print(person)\n"
   ]
  },
  {
   "cell_type": "code",
   "execution_count": 27,
   "id": "f5057978-4d3e-4108-b7c5-c816adf5386a",
   "metadata": {},
   "outputs": [
    {
     "data": {
      "text/plain": [
       "('City', 'Karachi')"
      ]
     },
     "execution_count": 27,
     "metadata": {},
     "output_type": "execute_result"
    }
   ],
   "source": [
    "#it will delete the last item without passing any argument.\n",
    "person.popitem()"
   ]
  },
  {
   "cell_type": "code",
   "execution_count": 28,
   "id": "3b273764-d675-41e5-933d-2ffd37b6eea2",
   "metadata": {},
   "outputs": [
    {
     "name": "stdout",
     "output_type": "stream",
     "text": [
      "{'Name': 'Sidra', 'Gender': 'Female', 'Age': 32, 'Marks': {'Python': 70, 'JS': 75, 'Java': 89}, 'Organization': 'NED', 'roll': 32, 'Address': 'Pakistan'}\n"
     ]
    }
   ],
   "source": [
    "print(person)"
   ]
  },
  {
   "cell_type": "code",
   "execution_count": 29,
   "id": "3cff94f8-fb99-408f-8f63-fc5c96daef8b",
   "metadata": {},
   "outputs": [
    {
     "data": {
      "text/plain": [
       "{'Name': 'Sidra',\n",
       " 'Gender': 'Female',\n",
       " 'Age': 32,\n",
       " 'Marks': {'Python': 70, 'JS': 75, 'Java': 89},\n",
       " 'Organization': 'NED',\n",
       " 'roll': 32,\n",
       " 'Address': 'Pakistan'}"
      ]
     },
     "execution_count": 29,
     "metadata": {},
     "output_type": "execute_result"
    }
   ],
   "source": [
    "person"
   ]
  },
  {
   "cell_type": "code",
   "execution_count": 30,
   "id": "1c49e9f0-8a44-4f42-a6a4-ca49ec0cbd08",
   "metadata": {},
   "outputs": [
    {
     "data": {
      "text/plain": [
       "{'N': 'Sidra', 'a': 'Sidra', 'm': 'Sidra', 'e': 'Sidra'}"
      ]
     },
     "execution_count": 30,
     "metadata": {},
     "output_type": "execute_result"
    }
   ],
   "source": [
    "person.fromkeys('Name','Sidra')"
   ]
  },
  {
   "cell_type": "code",
   "execution_count": 31,
   "id": "71487ebf-f49e-438b-b110-7b6912105b77",
   "metadata": {},
   "outputs": [
    {
     "name": "stdout",
     "output_type": "stream",
     "text": [
      "{'Name': 'Sidra', 'Gender': 'Female', 'Age': 32, 'Marks': {'Python': 70, 'JS': 75, 'Java': 89}, 'Organization': 'NED', 'roll': 32, 'Address': 'Pakistan', 'Profession': 'Researcher'}\n"
     ]
    }
   ],
   "source": [
    "person.update({'Profession': 'Researcher'})\n",
    "print(person)"
   ]
  },
  {
   "cell_type": "code",
   "execution_count": 32,
   "id": "33e50624-6b24-40c6-a7b1-c932c877d719",
   "metadata": {},
   "outputs": [
    {
     "name": "stdout",
     "output_type": "stream",
     "text": [
      "dict_items([('Name', 'Sidra'), ('Gender', 'Female'), ('Age', 32), ('Marks', {'Python': 70, 'JS': 75, 'Java': 89}), ('Organization', 'NED'), ('roll', 32), ('Address', 'Pakistan'), ('Profession', 'Researcher')])\n",
      "dict_keys(['Name', 'Gender', 'Age', 'Marks', 'Organization', 'roll', 'Address', 'Profession'])\n"
     ]
    },
    {
     "data": {
      "text/plain": [
       "dict_values(['Sidra', 'Female', 32, {'Python': 70, 'JS': 75, 'Java': 89}, 'NED', 32, 'Pakistan', 'Researcher'])"
      ]
     },
     "execution_count": 32,
     "metadata": {},
     "output_type": "execute_result"
    }
   ],
   "source": [
    "# For complete Dictionary\n",
    "print(person.items())\n",
    "# For retrieving Keys\n",
    "print(person.keys())\n",
    "# For retrieving values\n",
    "person.values()"
   ]
  },
  {
   "cell_type": "code",
   "execution_count": 33,
   "id": "5bfcec7e-5f94-47f5-8ed0-8b36727b061a",
   "metadata": {},
   "outputs": [
    {
     "ename": "NameError",
     "evalue": "name 'd1' is not defined",
     "output_type": "error",
     "traceback": [
      "\u001b[1;31m---------------------------------------------------------------------------\u001b[0m",
      "\u001b[1;31mNameError\u001b[0m                                 Traceback (most recent call last)",
      "Cell \u001b[1;32mIn[33], line 2\u001b[0m\n\u001b[0;32m      1\u001b[0m \u001b[38;5;28;01mdel\u001b[39;00m d1\n\u001b[1;32m----> 2\u001b[0m \u001b[43md1\u001b[49m\n",
      "\u001b[1;31mNameError\u001b[0m: name 'd1' is not defined"
     ]
    }
   ],
   "source": [
    "del d1\n",
    "d1"
   ]
  },
  {
   "cell_type": "code",
   "execution_count": 34,
   "id": "8d4344f5-d4b1-4fcb-a6c6-fae1706e9c52",
   "metadata": {},
   "outputs": [],
   "source": [
    "#delete will wipeout from memory, clear will clear all the value and keys but the dictionary will be there."
   ]
  },
  {
   "cell_type": "code",
   "execution_count": 36,
   "id": "5b17341c-d33f-45db-b9e3-e0ab49e1ead6",
   "metadata": {},
   "outputs": [
    {
     "data": {
      "text/plain": [
       "{'brand': 'Ford', 'model': 'Mustang', 'year': 1964}"
      ]
     },
     "execution_count": 36,
     "metadata": {},
     "output_type": "execute_result"
    }
   ],
   "source": [
    "car = {\"brand\":\"Ford\", \"model\":\"Mustang\", \"year\": 1964}\n",
    "car"
   ]
  },
  {
   "cell_type": "code",
   "execution_count": 40,
   "id": "284855dd-ed00-4bc7-be4d-4a32f09e4b68",
   "metadata": {},
   "outputs": [],
   "source": [
    "x = car.setdefault(\"model\",\"Toyota\")"
   ]
  },
  {
   "cell_type": "code",
   "execution_count": 41,
   "id": "1de92483-3934-4aac-b5a1-1fdc8584f37f",
   "metadata": {},
   "outputs": [
    {
     "data": {
      "text/plain": [
       "{'brand': 'Ford', 'model': 'Mustang', 'year': 1964}"
      ]
     },
     "execution_count": 41,
     "metadata": {},
     "output_type": "execute_result"
    }
   ],
   "source": [
    "car"
   ]
  },
  {
   "cell_type": "markdown",
   "id": "a4836e2a-7ef5-4d5d-9fc7-2dfa25ae167d",
   "metadata": {},
   "source": [
    "### Libraries and Modules in Python"
   ]
  },
  {
   "cell_type": "code",
   "execution_count": 44,
   "id": "80e3ac13-e5ef-459b-a180-929587463e50",
   "metadata": {},
   "outputs": [
    {
     "name": "stdout",
     "output_type": "stream",
     "text": [
      "['__doc__', '__loader__', '__name__', '__package__', '__spec__', 'acos', 'acosh', 'asin', 'asinh', 'atan', 'atan2', 'atanh', 'cbrt', 'ceil', 'comb', 'copysign', 'cos', 'cosh', 'degrees', 'dist', 'e', 'erf', 'erfc', 'exp', 'exp2', 'expm1', 'fabs', 'factorial', 'floor', 'fma', 'fmod', 'frexp', 'fsum', 'gamma', 'gcd', 'hypot', 'inf', 'isclose', 'isfinite', 'isinf', 'isnan', 'isqrt', 'lcm', 'ldexp', 'lgamma', 'log', 'log10', 'log1p', 'log2', 'modf', 'nan', 'nextafter', 'perm', 'pi', 'pow', 'prod', 'radians', 'remainder', 'sin', 'sinh', 'sqrt', 'sumprod', 'tan', 'tanh', 'tau', 'trunc', 'ulp']\n"
     ]
    }
   ],
   "source": [
    "#maths library exsisting in the python\n",
    "import math\n",
    "print(dir(math))"
   ]
  },
  {
   "cell_type": "code",
   "execution_count": 45,
   "id": "38660ef6-e475-49b7-ba73-65719aa2eb27",
   "metadata": {},
   "outputs": [
    {
     "data": {
      "text/plain": [
       "3"
      ]
     },
     "execution_count": 45,
     "metadata": {},
     "output_type": "execute_result"
    }
   ],
   "source": [
    "math.floor(3.5)"
   ]
  },
  {
   "cell_type": "code",
   "execution_count": 48,
   "id": "e0bd49dc-7df2-4104-83da-ee4daa0a31c8",
   "metadata": {},
   "outputs": [
    {
     "data": {
      "text/plain": [
       "0.10598751175115685"
      ]
     },
     "execution_count": 48,
     "metadata": {},
     "output_type": "execute_result"
    }
   ],
   "source": [
    "math.sin(91)"
   ]
  },
  {
   "cell_type": "code",
   "execution_count": 47,
   "id": "ebd8d7bd-2812-43a3-aa22-9da0afbd2b4f",
   "metadata": {},
   "outputs": [
    {
     "data": {
      "text/plain": [
       "4.0"
      ]
     },
     "execution_count": 47,
     "metadata": {},
     "output_type": "execute_result"
    }
   ],
   "source": [
    "math.sqrt(16)"
   ]
  },
  {
   "cell_type": "code",
   "execution_count": 49,
   "id": "65ce1fe1-69f9-4996-90b1-3db1adb9db6a",
   "metadata": {},
   "outputs": [
    {
     "data": {
      "text/plain": [
       "8.0"
      ]
     },
     "execution_count": 49,
     "metadata": {},
     "output_type": "execute_result"
    }
   ],
   "source": [
    "math.pow(2,3)"
   ]
  },
  {
   "cell_type": "code",
   "execution_count": 53,
   "id": "27a27b80-91fa-44a8-9488-f40b4b38d8f7",
   "metadata": {},
   "outputs": [
    {
     "data": {
      "text/plain": [
       "720"
      ]
     },
     "execution_count": 53,
     "metadata": {},
     "output_type": "execute_result"
    }
   ],
   "source": [
    "#Factorial 5 = 5*4*3*2*1\n",
    "math.factorial(6)"
   ]
  },
  {
   "cell_type": "code",
   "execution_count": 54,
   "id": "7e60addd-8ca6-4fc0-9b0c-6b847a572bd7",
   "metadata": {},
   "outputs": [
    {
     "data": {
      "text/plain": [
       "['AddPackagePath',\n",
       " 'Module',\n",
       " 'ModuleFinder',\n",
       " 'ReplacePackage',\n",
       " '_C_BUILTIN',\n",
       " '_C_EXTENSION',\n",
       " '_PKG_DIRECTORY',\n",
       " '_PY_COMPILED',\n",
       " '_PY_FROZEN',\n",
       " '_PY_SOURCE',\n",
       " '_SEARCH_ERROR',\n",
       " '__builtins__',\n",
       " '__cached__',\n",
       " '__doc__',\n",
       " '__file__',\n",
       " '__loader__',\n",
       " '__name__',\n",
       " '__package__',\n",
       " '__spec__',\n",
       " '_find_module',\n",
       " 'dis',\n",
       " 'importlib',\n",
       " 'io',\n",
       " 'marshal',\n",
       " 'os',\n",
       " 'packagePathMap',\n",
       " 'replacePackageMap',\n",
       " 'sys',\n",
       " 'test']"
      ]
     },
     "execution_count": 54,
     "metadata": {},
     "output_type": "execute_result"
    }
   ],
   "source": [
    "import modulefinder\n",
    "dir(modulefinder)"
   ]
  },
  {
   "cell_type": "code",
   "execution_count": 55,
   "id": "d58a975c-0eaf-4253-97e8-7706fd01a682",
   "metadata": {},
   "outputs": [
    {
     "name": "stdout",
     "output_type": "stream",
     "text": [
      "['__all__', '__builtins__', '__cached__', '__doc__', '__file__', '__loader__', '__name__', '__package__', '__spec__', 'iskeyword', 'issoftkeyword', 'kwlist', 'softkwlist']\n"
     ]
    }
   ],
   "source": [
    "\n",
    "import keyword\n",
    "print(dir(keyword))"
   ]
  },
  {
   "cell_type": "code",
   "execution_count": 59,
   "id": "dcfb6c4f-4e06-44e8-b29e-3d4ae4c9afa0",
   "metadata": {},
   "outputs": [
    {
     "data": {
      "text/plain": [
       "72"
      ]
     },
     "execution_count": 59,
     "metadata": {},
     "output_type": "execute_result"
    }
   ],
   "source": [
    "import random\n",
    "random.randint(1,100)\n",
    "     "
   ]
  },
  {
   "cell_type": "code",
   "execution_count": 66,
   "id": "9958b017-a36d-4ca0-8d91-334d57016e9b",
   "metadata": {},
   "outputs": [
    {
     "name": "stdout",
     "output_type": "stream",
     "text": [
      "[1, 2, 3, 4, 5]\n",
      "{'Name': 'Hafsa', 'Class': '1E', 'School': 'MamaParsi'}\n"
     ]
    }
   ],
   "source": [
    "List1= [1,2,3,4,5]\n",
    "print(List1)\n",
    "List2= {'Name':'Hafsa', 'Class':'1E', 'School':'MamaParsi'}\n",
    "print(List2)"
   ]
  },
  {
   "cell_type": "code",
   "execution_count": 67,
   "id": "7871a282-e2fa-4847-9808-57fcd7170720",
   "metadata": {},
   "outputs": [
    {
     "data": {
      "text/plain": [
       "{'Name': 'Hafsa', 'Class': '1E', 'School': 'MamaParsi'}"
      ]
     },
     "execution_count": 67,
     "metadata": {},
     "output_type": "execute_result"
    }
   ],
   "source": [
    "List2"
   ]
  },
  {
   "cell_type": "code",
   "execution_count": null,
   "id": "90a18015-e185-48d0-878a-78312a22ec3f",
   "metadata": {},
   "outputs": [],
   "source": []
  }
 ],
 "metadata": {
  "kernelspec": {
   "display_name": "Python 3 (ipykernel)",
   "language": "python",
   "name": "python3"
  },
  "language_info": {
   "codemirror_mode": {
    "name": "ipython",
    "version": 3
   },
   "file_extension": ".py",
   "mimetype": "text/x-python",
   "name": "python",
   "nbconvert_exporter": "python",
   "pygments_lexer": "ipython3",
   "version": "3.13.0"
  }
 },
 "nbformat": 4,
 "nbformat_minor": 5
}
