{
 "cells": [
  {
   "cell_type": "markdown",
   "id": "f1d6067f-cde2-4bb7-af5c-1f9c3680874f",
   "metadata": {},
   "source": [
    "## Lists"
   ]
  },
  {
   "cell_type": "code",
   "execution_count": 1,
   "id": "208f6887-30a0-4bb0-b5d9-f1864207d6a6",
   "metadata": {},
   "outputs": [
    {
     "name": "stdout",
     "output_type": "stream",
     "text": [
      "[]\n"
     ]
    }
   ],
   "source": [
    "#declar an empty list\n",
    "list=[]\n",
    "print(list)"
   ]
  },
  {
   "cell_type": "code",
   "execution_count": 2,
   "id": "feb08c7e-3088-416b-beaa-21b285f57132",
   "metadata": {},
   "outputs": [
    {
     "data": {
      "text/plain": [
       "[1, 3, 5, 7, 9]"
      ]
     },
     "execution_count": 2,
     "metadata": {},
     "output_type": "execute_result"
    }
   ],
   "source": [
    "#declare a list with more than 5 items.\n",
    "list=[1,3,5,7,9]\n",
    "list"
   ]
  },
  {
   "cell_type": "code",
   "execution_count": 3,
   "id": "f5b61a57-8881-4355-9f75-c41db4d3d032",
   "metadata": {},
   "outputs": [
    {
     "data": {
      "text/plain": [
       "5"
      ]
     },
     "execution_count": 3,
     "metadata": {},
     "output_type": "execute_result"
    }
   ],
   "source": [
    "#question 3\n",
    "len(list)"
   ]
  },
  {
   "cell_type": "code",
   "execution_count": 4,
   "id": "68d5a814-ade8-4d57-b8bb-d4bacf247dd9",
   "metadata": {},
   "outputs": [
    {
     "name": "stdout",
     "output_type": "stream",
     "text": [
      "[1, 5, 9]\n"
     ]
    }
   ],
   "source": [
    "#question 4 print\n",
    "print(list[0:5:2])"
   ]
  },
  {
   "cell_type": "code",
   "execution_count": 5,
   "id": "db1b9265-9696-4043-b389-730595266c3d",
   "metadata": {},
   "outputs": [],
   "source": [
    "#question 5\n",
    "mixed_data_types=['sidra', 32, 155, 'married', 'civillines']\n"
   ]
  },
  {
   "cell_type": "code",
   "execution_count": 6,
   "id": "bc328b3b-17b7-48b3-a67d-35f3f2e8ebc4",
   "metadata": {},
   "outputs": [
    {
     "name": "stdout",
     "output_type": "stream",
     "text": [
      "7\n"
     ]
    }
   ],
   "source": [
    "#question 6\n",
    "IT_companies=['Facebook', 'Google',\n",
    "'Microsoft', 'Apple', 'IBM', 'Oracle', 'Amazon']\n",
    "print(len(IT_companies))"
   ]
  },
  {
   "cell_type": "code",
   "execution_count": 7,
   "id": "b3972c01-e394-4669-b322-7ecfee4adfc7",
   "metadata": {},
   "outputs": [
    {
     "name": "stdout",
     "output_type": "stream",
     "text": [
      "['Facebook', 'Apple', 'Amazon']\n"
     ]
    }
   ],
   "source": [
    "#question 7\n",
    "print(IT_companies[0:7:3])"
   ]
  },
  {
   "cell_type": "code",
   "execution_count": 8,
   "id": "7d5666b0-fd35-495b-86ca-ef76d5cba5ab",
   "metadata": {},
   "outputs": [
    {
     "name": "stdout",
     "output_type": "stream",
     "text": [
      "['Facebook', 'Google', 'Microsoft', 'Apple', 'IBM', 'Oracle', 'Twitter']\n"
     ]
    }
   ],
   "source": [
    "#question 8\n",
    "index=IT_companies.index('Amazon')\n",
    "IT_companies[index]= 'Twitter'\n",
    "print(IT_companies)\n"
   ]
  },
  {
   "cell_type": "code",
   "execution_count": 9,
   "id": "d42b55c9-0030-4241-a76b-c88f6be90800",
   "metadata": {},
   "outputs": [
    {
     "name": "stdout",
     "output_type": "stream",
     "text": [
      "['Facebook', 'Google', 'Microsoft', 'Apple', 'IBM', 'Oracle', 'Twitter', 'Netflix']\n"
     ]
    }
   ],
   "source": [
    "#question 9\n",
    "IT_companies.append('Netflix')\n",
    "print(IT_companies)"
   ]
  },
  {
   "cell_type": "code",
   "execution_count": 10,
   "id": "2166bb6e-07d5-4e4b-97b2-07891fbcfdd3",
   "metadata": {},
   "outputs": [
    {
     "data": {
      "text/plain": [
       "4"
      ]
     },
     "execution_count": 10,
     "metadata": {},
     "output_type": "execute_result"
    }
   ],
   "source": [
    "#Question 10\n",
    "len(IT_companies)//2"
   ]
  },
  {
   "cell_type": "code",
   "execution_count": 11,
   "id": "1bb0a68a-d0a7-446f-8c68-7c3c4142b383",
   "metadata": {},
   "outputs": [
    {
     "name": "stdout",
     "output_type": "stream",
     "text": [
      "['Facebook', 'Google', 'Microsoft', 'Apple', 'Tesla', 'IBM', 'Oracle', 'Twitter', 'Netflix']\n"
     ]
    }
   ],
   "source": [
    "#question 11\n",
    "IT_companies.insert(4, 'Tesla')\n",
    "print(IT_companies)"
   ]
  },
  {
   "cell_type": "code",
   "execution_count": 12,
   "id": "8a65609b-1f9e-4bbe-aa83-c2388c3e3f57",
   "metadata": {},
   "outputs": [
    {
     "name": "stdout",
     "output_type": "stream",
     "text": [
      "['Facebook', 'GOOGLE', 'Microsoft', 'Apple', 'Tesla', 'IBM', 'Oracle', 'Twitter', 'Netflix']\n"
     ]
    }
   ],
   "source": [
    "#question 12\n",
    "IT_companies[1]=IT_companies[1].upper()\n",
    "print(IT_companies)\n",
    "\n",
    "\n"
   ]
  },
  {
   "cell_type": "code",
   "execution_count": 13,
   "id": "5a7892bf-1ae2-414d-88e6-c4ffed550732",
   "metadata": {},
   "outputs": [
    {
     "name": "stdout",
     "output_type": "stream",
     "text": [
      "['Netflix', 'Twitter', 'Oracle', 'IBM', 'Tesla', 'Apple', 'Microsoft', 'GOOGLE', 'Facebook']\n"
     ]
    }
   ],
   "source": [
    "#question 13\n",
    "IT_companies.reverse()\n",
    "print(IT_companies)\n"
   ]
  },
  {
   "cell_type": "code",
   "execution_count": 14,
   "id": "14eb74d1-09e9-481a-96f9-215253d5a697",
   "metadata": {},
   "outputs": [
    {
     "name": "stdout",
     "output_type": "stream",
     "text": [
      "['Netflix', 'Twitter', 'Oracle']\n"
     ]
    }
   ],
   "source": [
    "#Question 14\n",
    "print(IT_companies[:3])"
   ]
  },
  {
   "cell_type": "code",
   "execution_count": 15,
   "id": "0b0d1932-e9fc-43e7-838e-33a2d0578000",
   "metadata": {},
   "outputs": [
    {
     "name": "stdout",
     "output_type": "stream",
     "text": [
      "['Microsoft', 'GOOGLE', 'Facebook']\n"
     ]
    }
   ],
   "source": [
    "#question 15\n",
    "print(IT_companies[-3:])"
   ]
  },
  {
   "cell_type": "code",
   "execution_count": 16,
   "id": "fa0a00a7-c939-420a-b550-b1be70face08",
   "metadata": {},
   "outputs": [
    {
     "name": "stdout",
     "output_type": "stream",
     "text": [
      "Tesla\n"
     ]
    }
   ],
   "source": [
    "#question 16\n",
    "print(IT_companies[4])"
   ]
  },
  {
   "cell_type": "code",
   "execution_count": 17,
   "id": "3980c2e1-6f07-4068-8ab4-ecee97e51996",
   "metadata": {},
   "outputs": [
    {
     "name": "stdout",
     "output_type": "stream",
     "text": [
      "['Twitter', 'Oracle', 'IBM', 'Tesla', 'Apple', 'Microsoft', 'GOOGLE', 'Facebook']\n"
     ]
    }
   ],
   "source": [
    "#question 17\n",
    "IT_companies.pop(0)\n",
    "print(IT_companies)"
   ]
  },
  {
   "cell_type": "code",
   "execution_count": 18,
   "id": "9a88e5b8-7133-497a-b27a-310aac1acecd",
   "metadata": {},
   "outputs": [
    {
     "name": "stdout",
     "output_type": "stream",
     "text": [
      "['Twitter', 'Oracle', 'IBM', 'Tesla', 'Microsoft', 'GOOGLE', 'Facebook']\n"
     ]
    }
   ],
   "source": [
    "#question 18\n",
    "IT_companies.pop(4)\n",
    "print(IT_companies)"
   ]
  },
  {
   "cell_type": "code",
   "execution_count": 19,
   "id": "6ab0c679-d232-4d2e-a214-59906b6eebbe",
   "metadata": {},
   "outputs": [
    {
     "name": "stdout",
     "output_type": "stream",
     "text": [
      "['Twitter', 'Oracle', 'IBM', 'Microsoft', 'GOOGLE', 'Facebook']\n"
     ]
    }
   ],
   "source": [
    "IT_companies.pop(3)\n",
    "print(IT_companies)"
   ]
  },
  {
   "cell_type": "code",
   "execution_count": 20,
   "id": "4239ba85-c522-4700-b929-5555ce966015",
   "metadata": {},
   "outputs": [
    {
     "name": "stdout",
     "output_type": "stream",
     "text": [
      "['Twitter', 'Oracle', 'IBM', 'Microsoft', 'GOOGLE']\n"
     ]
    }
   ],
   "source": [
    "#question 19\n",
    "IT_companies.pop()\n",
    "print(IT_companies)"
   ]
  },
  {
   "cell_type": "code",
   "execution_count": 21,
   "id": "fb21ebad-252a-46b2-aa50-54903a3a4da4",
   "metadata": {},
   "outputs": [
    {
     "name": "stdout",
     "output_type": "stream",
     "text": [
      "[]\n"
     ]
    }
   ],
   "source": [
    "#question 20\n",
    "IT_companies.clear()\n",
    "print(IT_companies)"
   ]
  },
  {
   "cell_type": "code",
   "execution_count": 22,
   "id": "55e90a25-4e6e-47f7-9ee6-9a3f593863b4",
   "metadata": {},
   "outputs": [],
   "source": [
    "#question 21\n",
    "del IT_companies"
   ]
  },
  {
   "cell_type": "code",
   "execution_count": 23,
   "id": "e916ee7c-fabf-4526-bae0-756d3375a915",
   "metadata": {},
   "outputs": [
    {
     "name": "stdout",
     "output_type": "stream",
     "text": [
      "['HTML', 'CSS', 'JS', 'React', 'Redux', 'Node', 'Express', 'MongoDB']\n"
     ]
    }
   ],
   "source": [
    "#question 22,23\n",
    "front_end = ['HTML', 'CSS', 'JS', 'React', 'Redux']\n",
    "back_end = ['Node','Express', 'MongoDB']\n",
    "fullstack= front_end+back_end\n",
    "print(fullstack)"
   ]
  },
  {
   "cell_type": "code",
   "execution_count": 24,
   "id": "5e666d71-9200-4274-b134-ca39cd3895fa",
   "metadata": {},
   "outputs": [
    {
     "name": "stdout",
     "output_type": "stream",
     "text": [
      "['HTML', 'CSS', 'JS', 'React', 'Redux', 'Python', 'SQL', 'Node', 'Express', 'MongoDB']\n"
     ]
    }
   ],
   "source": [
    "#question 25\n",
    "fullstack.insert(fullstack.index('Redux') +1, 'Python')\n",
    "fullstack.insert(fullstack.index('Python') +1, 'SQL')\n",
    "print(fullstack)\n"
   ]
  },
  {
   "cell_type": "code",
   "execution_count": 25,
   "id": "1f3550ff-07c7-41bb-9564-a7ae41bb4099",
   "metadata": {},
   "outputs": [
    {
     "name": "stdout",
     "output_type": "stream",
     "text": [
      "[19, 19, 20, 22, 24, 24, 24, 25, 25, 26]\n"
     ]
    }
   ],
   "source": [
    "#question 26\n",
    "ages = [19, 22, 19, 24, 20, 25, 26, 24, 25, 24]\n",
    "ages.sort()\n",
    "print(ages)"
   ]
  },
  {
   "cell_type": "code",
   "execution_count": 26,
   "id": "b8ac82db-d9fa-446b-936c-6d02f2087d7f",
   "metadata": {},
   "outputs": [
    {
     "data": {
      "text/plain": [
       "19"
      ]
     },
     "execution_count": 26,
     "metadata": {},
     "output_type": "execute_result"
    }
   ],
   "source": [
    "#question 27\n",
    "min(ages)\n"
   ]
  },
  {
   "cell_type": "code",
   "execution_count": 27,
   "id": "aaf3957a-d1cd-4bc9-8f80-5a3ec9f78a46",
   "metadata": {},
   "outputs": [
    {
     "data": {
      "text/plain": [
       "26"
      ]
     },
     "execution_count": 27,
     "metadata": {},
     "output_type": "execute_result"
    }
   ],
   "source": [
    "max(ages)"
   ]
  },
  {
   "cell_type": "code",
   "execution_count": 28,
   "id": "932bdba5-bdf7-466a-920f-8a9d650552fb",
   "metadata": {},
   "outputs": [
    {
     "name": "stdout",
     "output_type": "stream",
     "text": [
      "[19, 19, 20, 22, 24, 24, 24, 25, 25, 26, 19]\n"
     ]
    }
   ],
   "source": [
    "#question 28\n",
    "ages.append(19)\n",
    "print(ages)"
   ]
  },
  {
   "cell_type": "code",
   "execution_count": 29,
   "id": "a0209dc2-1be9-40cb-8873-b440c8504c0f",
   "metadata": {},
   "outputs": [
    {
     "name": "stdout",
     "output_type": "stream",
     "text": [
      "[19, 19, 20, 22, 24, 24, 24, 25, 25, 26, 19, 26]\n"
     ]
    }
   ],
   "source": [
    "ages.append(26)\n",
    "print(ages)"
   ]
  },
  {
   "cell_type": "code",
   "execution_count": 30,
   "id": "3cb26b27-f896-4ed2-9ed7-6c98b78478e2",
   "metadata": {},
   "outputs": [
    {
     "data": {
      "text/plain": [
       "12"
      ]
     },
     "execution_count": 30,
     "metadata": {},
     "output_type": "execute_result"
    }
   ],
   "source": [
    "len(ages)"
   ]
  },
  {
   "cell_type": "code",
   "execution_count": 31,
   "id": "0b2b5570-e188-486d-a3eb-0d19c9c1a765",
   "metadata": {},
   "outputs": [
    {
     "name": "stdout",
     "output_type": "stream",
     "text": [
      "24.0\n"
     ]
    }
   ],
   "source": [
    "median = (ages[len(ages)//2] + ages[(len(ages)-1)//2]) / 2 \n",
    "print(median)"
   ]
  },
  {
   "cell_type": "code",
   "execution_count": 32,
   "id": "b1bd9d89-5db9-4e3c-a5d3-7c737cfde60b",
   "metadata": {},
   "outputs": [
    {
     "name": "stdout",
     "output_type": "stream",
     "text": [
      "22.75\n"
     ]
    }
   ],
   "source": [
    "average_age=sum(ages)/len(ages)\n",
    "print(average_age)"
   ]
  },
  {
   "cell_type": "code",
   "execution_count": 33,
   "id": "525e4547-3a35-4a6d-aa68-d58b1b2f0c58",
   "metadata": {},
   "outputs": [
    {
     "name": "stdout",
     "output_type": "stream",
     "text": [
      "7\n"
     ]
    }
   ],
   "source": [
    "age_range=max(ages)-min(ages)\n",
    "print(age_range)"
   ]
  },
  {
   "cell_type": "code",
   "execution_count": 34,
   "id": "773f2b56-7ccf-487b-9a02-37fecd39f598",
   "metadata": {},
   "outputs": [
    {
     "name": "stdout",
     "output_type": "stream",
     "text": [
      "Finland\n"
     ]
    }
   ],
   "source": [
    "#question 33\n",
    "countries = ['China', 'Russia', 'USA', 'Finland', 'Sweden', 'Norway', 'Denmark']\n",
    "middle_country= countries[len(countries)//2]\n",
    "print(middle_country)"
   ]
  },
  {
   "cell_type": "code",
   "execution_count": 35,
   "id": "14e62bc1-6952-4ed5-960c-e420f62ce956",
   "metadata": {},
   "outputs": [
    {
     "name": "stdout",
     "output_type": "stream",
     "text": [
      "['China', 'Russia', 'USA']\n",
      "['Finland', 'Sweden', 'Norway', 'Denmark']\n"
     ]
    }
   ],
   "source": [
    "#question 34\n",
    "half=len(countries)//2\n",
    "first_half=countries[:half]\n",
    "second_half=countries[half:]\n",
    "print(first_half)\n",
    "print(second_half)"
   ]
  },
  {
   "cell_type": "code",
   "execution_count": 36,
   "id": "ac23a9f8-d2e1-46c8-9f7c-0e5b0c4c2aed",
   "metadata": {},
   "outputs": [
    {
     "name": "stdout",
     "output_type": "stream",
     "text": [
      "First three countries: China, Russia, USA\n",
      "Scandic countries: ['Finland', 'Sweden', 'Norway', 'Denmark']\n"
     ]
    }
   ],
   "source": [
    "#question 35\n",
    "China, Russia, USA, *scandic_countries = countries\n",
    "print(f\"First three countries: {China}, {Russia}, {USA}\")\n",
    "print(f\"Scandic countries: {scandic_countries}\")\n"
   ]
  },
  {
   "cell_type": "markdown",
   "id": "787fda72-35e9-424e-ab61-f7f6613863bb",
   "metadata": {},
   "source": [
    "## TUPLES"
   ]
  },
  {
   "cell_type": "code",
   "execution_count": 37,
   "id": "3173281d-5139-4441-996e-f2fc1d0f706c",
   "metadata": {},
   "outputs": [
    {
     "name": "stdout",
     "output_type": "stream",
     "text": [
      "()\n"
     ]
    }
   ],
   "source": [
    "#question 1\n",
    "tuple=()\n",
    "print(tuple)"
   ]
  },
  {
   "cell_type": "code",
   "execution_count": 38,
   "id": "4f307bf5-5f57-4692-8635-e7f7abe661c4",
   "metadata": {},
   "outputs": [
    {
     "name": "stdout",
     "output_type": "stream",
     "text": [
      "('Tayyab', 'Tahir', 'Asma', 'Rabia', 'Sidra', 'Shagufta')\n"
     ]
    }
   ],
   "source": [
    "#question 2 & 3\n",
    "sisters = (\"Asma\",\"Rabia\", \"Sidra\", \"Shagufta\")\n",
    "brothers = (\"Tayyab\", \"Tahir\")\n",
    "siblings = brothers + sisters\n",
    "print(siblings)"
   ]
  },
  {
   "cell_type": "code",
   "execution_count": 39,
   "id": "0a3af9d9-5e23-4087-994f-1f87a2343061",
   "metadata": {},
   "outputs": [
    {
     "data": {
      "text/plain": [
       "6"
      ]
     },
     "execution_count": 39,
     "metadata": {},
     "output_type": "execute_result"
    }
   ],
   "source": [
    "#question 4\n",
    "len(siblings)"
   ]
  },
  {
   "cell_type": "code",
   "execution_count": 40,
   "id": "5353612f-4c80-4c8c-8e0c-98b21ae7bc5e",
   "metadata": {},
   "outputs": [
    {
     "name": "stdout",
     "output_type": "stream",
     "text": [
      "('Tayyab', 'Tahir', 'Asma', 'Rabia', 'Sidra', 'Shagufta', 'Nasreen', 'Binyamin')\n"
     ]
    }
   ],
   "source": [
    "#question 5\n",
    "family_members = siblings + (\"Nasreen\" , \"Binyamin\")\n",
    "print(family_members)\n"
   ]
  },
  {
   "cell_type": "code",
   "execution_count": 41,
   "id": "debe4f84-3eb6-4107-b692-9462cdde8496",
   "metadata": {},
   "outputs": [
    {
     "name": "stdout",
     "output_type": "stream",
     "text": [
      "('Tayyab', 'Tahir', 'Asma', 'Rabia', 'Sidra', 'Shagufta', 'Nasreen', 'Binyamin')\n"
     ]
    }
   ],
   "source": [
    "#question 6\n",
    "\n",
    "asma, rabia, sidra, shagufta, tayyab, tahir, mother, father = family_members\n",
    "print(family_members)\n",
    "\n"
   ]
  },
  {
   "cell_type": "code",
   "execution_count": 1,
   "id": "782c7563-e90f-4d88-ab75-12bec579188b",
   "metadata": {},
   "outputs": [
    {
     "data": {
      "text/plain": [
       "('apple', 'banana', 'carrot', 'broccoli', 'milk', 'eggs')"
      ]
     },
     "execution_count": 1,
     "metadata": {},
     "output_type": "execute_result"
    }
   ],
   "source": [
    "#question 7\n",
    "fruits = (\"apple\", \"banana\")\n",
    "vegetables = (\"carrot\", \"broccoli\")\n",
    "animal_products = (\"milk\", \"eggs\")\n",
    "food_stuff_tp = fruits + vegetables + animal_products\n",
    "food_stuff_tp\n"
   ]
  },
  {
   "cell_type": "code",
   "execution_count": 2,
   "id": "ebf44be5-da8a-435f-bd0e-6ed0b89aff77",
   "metadata": {},
   "outputs": [
    {
     "name": "stdout",
     "output_type": "stream",
     "text": [
      "['apple', 'banana', 'carrot', 'broccoli', 'milk', 'eggs']\n"
     ]
    }
   ],
   "source": [
    "#question 8\n",
    "food_stuff = list(food_stuff_tp)\n",
    "print(food_stuff)\n"
   ]
  },
  {
   "cell_type": "code",
   "execution_count": 5,
   "id": "c2762c84-e3a6-47fe-a910-68712a81f492",
   "metadata": {},
   "outputs": [
    {
     "name": "stdout",
     "output_type": "stream",
     "text": [
      "broccoli\n"
     ]
    }
   ],
   "source": [
    "#question 9\n",
    "mid_index= food_stuff[len(food_stuff)//2]\n",
    "print(mid_index)"
   ]
  },
  {
   "cell_type": "code",
   "execution_count": 11,
   "id": "fb88840c-36e5-4cf0-a0c6-b1bfcf4b7576",
   "metadata": {},
   "outputs": [
    {
     "name": "stdout",
     "output_type": "stream",
     "text": [
      "First three items: ['apple', 'banana', 'carrot']\n",
      "Last three items: ['broccoli', 'milk', 'eggs']\n"
     ]
    }
   ],
   "source": [
    "#question 10\n",
    "First = food_stuff[:3]\n",
    "Last = food_stuff[-3:]\n",
    "print(\"First three items:\", First)\n",
    "print(\"Last three items:\", Last)\n",
    "\n"
   ]
  },
  {
   "cell_type": "code",
   "execution_count": 12,
   "id": "05e9b23c-cd3c-4757-8d7a-2e350e0dae69",
   "metadata": {},
   "outputs": [],
   "source": [
    "#question 11\n",
    "del food_stuff_tp"
   ]
  },
  {
   "cell_type": "markdown",
   "id": "e3d2df5d-538c-47d9-92e4-fe4504d485dd",
   "metadata": {},
   "source": [
    "## SET"
   ]
  },
  {
   "cell_type": "code",
   "execution_count": 13,
   "id": "2d9befe9-cffe-4ab9-ab43-858c67ef4d83",
   "metadata": {},
   "outputs": [],
   "source": [
    "it_companies = {'Facebook', 'Google', 'Microsoft', 'Apple', 'IBM', 'Oracle', 'Amazon'}\n",
    "A = {19, 22, 24, 20, 25, 26}\n",
    "B = {19, 22, 20, 25, 26, 24, 28, 27}\n",
    "age = [22, 19, 24, 25, 26, 24, 25, 24]\n"
   ]
  },
  {
   "cell_type": "code",
   "execution_count": 14,
   "id": "ca1ada0a-e6ac-46de-9a15-dbbf242b2f06",
   "metadata": {},
   "outputs": [
    {
     "name": "stdout",
     "output_type": "stream",
     "text": [
      "Length of it_companies: 7\n"
     ]
    }
   ],
   "source": [
    "#question 1\n",
    "print(\"Length of it_companies:\", len(it_companies))\n"
   ]
  },
  {
   "cell_type": "code",
   "execution_count": 15,
   "id": "9238474c-0cbb-4e45-b719-3db16c15ee56",
   "metadata": {},
   "outputs": [
    {
     "name": "stdout",
     "output_type": "stream",
     "text": [
      "After adding Twitter: {'Twitter', 'IBM', 'Oracle', 'Google', 'Microsoft', 'Facebook', 'Amazon', 'Apple'}\n"
     ]
    }
   ],
   "source": [
    "#question 2\n",
    "it_companies.add('Twitter')\n",
    "print(\"After adding Twitter:\", it_companies)\n"
   ]
  },
  {
   "cell_type": "code",
   "execution_count": 16,
   "id": "ac0f9f82-d93e-4acc-a40f-2dd744008c6a",
   "metadata": {},
   "outputs": [
    {
     "name": "stdout",
     "output_type": "stream",
     "text": [
      "After adding multiple companies: {'Google', 'Facebook', 'TikTok', 'IBM', 'Spotify', 'Microsoft', 'Twitter', 'Amazon', 'Oracle', 'Snapchat', 'Apple'}\n"
     ]
    }
   ],
   "source": [
    "#question 3\n",
    "it_companies.update(['Snapchat', 'TikTok', 'Spotify'])\n",
    "print(\"After adding multiple companies:\", it_companies)\n"
   ]
  },
  {
   "cell_type": "code",
   "execution_count": 17,
   "id": "19fb05a2-67dd-4e2d-8cff-1c99860cb65c",
   "metadata": {},
   "outputs": [
    {
     "name": "stdout",
     "output_type": "stream",
     "text": [
      "After removing one company: {'Facebook', 'TikTok', 'IBM', 'Spotify', 'Microsoft', 'Twitter', 'Amazon', 'Oracle', 'Snapchat', 'Apple'}\n"
     ]
    }
   ],
   "source": [
    "#question 4\n",
    "it_companies.remove('Google')\n",
    "print(\"After removing one company:\", it_companies)\n"
   ]
  },
  {
   "cell_type": "markdown",
   "id": "82ff1187-49bb-4aa6-a788-5e35d6378495",
   "metadata": {},
   "source": [
    "##### question 5\n",
    "\n",
    "#Remove will raise error if the item is not present in the set while\n",
    "#discard will not raise any error if the item is not present in the set"
   ]
  },
  {
   "cell_type": "code",
   "execution_count": 21,
   "id": "e6cdcaa4-9752-414e-bd67-dee3bf03b1fd",
   "metadata": {},
   "outputs": [
    {
     "data": {
      "text/plain": [
       "{19, 20, 22, 24, 25, 26, 27, 28}"
      ]
     },
     "execution_count": 21,
     "metadata": {},
     "output_type": "execute_result"
    }
   ],
   "source": [
    "#Question 6\n",
    "union_set = A.union(B)\n",
    "union_set"
   ]
  },
  {
   "cell_type": "code",
   "execution_count": 22,
   "id": "7bee032b-b875-4912-b3b0-b6a1c31e7152",
   "metadata": {},
   "outputs": [
    {
     "data": {
      "text/plain": [
       "{19, 20, 22, 24, 25, 26}"
      ]
     },
     "execution_count": 22,
     "metadata": {},
     "output_type": "execute_result"
    }
   ],
   "source": [
    "#question 7\n",
    "intersection_set = A.intersection(B)\n",
    "intersection_set"
   ]
  },
  {
   "cell_type": "code",
   "execution_count": 23,
   "id": "6038bc36-7cd4-4a05-8bdb-48ab8df1fe8e",
   "metadata": {},
   "outputs": [
    {
     "data": {
      "text/plain": [
       "True"
      ]
     },
     "execution_count": 23,
     "metadata": {},
     "output_type": "execute_result"
    }
   ],
   "source": [
    "#question 8\n",
    "is_subset = A.issubset(B)\n",
    "is_subset "
   ]
  },
  {
   "cell_type": "code",
   "execution_count": 24,
   "id": "7248db5d-cde1-44c0-bf0e-6d04f0728557",
   "metadata": {},
   "outputs": [
    {
     "data": {
      "text/plain": [
       "False"
      ]
     },
     "execution_count": 24,
     "metadata": {},
     "output_type": "execute_result"
    }
   ],
   "source": [
    "#question 9\n",
    "are_disjoint = A.isdisjoint(B)\n",
    "are_disjoint"
   ]
  },
  {
   "cell_type": "code",
   "execution_count": 25,
   "id": "70bd5186-ac9c-470d-a377-6614c66ad65c",
   "metadata": {},
   "outputs": [
    {
     "name": "stdout",
     "output_type": "stream",
     "text": [
      "{19, 20, 22, 24, 25, 26, 27, 28}\n",
      "{19, 20, 22, 24, 25, 26, 27, 28}\n"
     ]
    }
   ],
   "source": [
    "#question 10\n",
    "A.update(B)\n",
    "B.update(A)\n",
    "print(A)\n",
    "print(B)"
   ]
  },
  {
   "cell_type": "code",
   "execution_count": 26,
   "id": "23d41be7-7896-4e8e-95e3-b28846de5743",
   "metadata": {},
   "outputs": [
    {
     "data": {
      "text/plain": [
       "set()"
      ]
     },
     "execution_count": 26,
     "metadata": {},
     "output_type": "execute_result"
    }
   ],
   "source": [
    "#question 11\n",
    "symmetric_diff = A.symmetric_difference(B)\n",
    "symmetric_diff "
   ]
  },
  {
   "cell_type": "code",
   "execution_count": 29,
   "id": "22d2f592-195d-4114-9a84-ce403de79672",
   "metadata": {},
   "outputs": [
    {
     "ename": "NameError",
     "evalue": "name 'A' is not defined",
     "output_type": "error",
     "traceback": [
      "\u001b[1;31m---------------------------------------------------------------------------\u001b[0m",
      "\u001b[1;31mNameError\u001b[0m                                 Traceback (most recent call last)",
      "Cell \u001b[1;32mIn[29], line 1\u001b[0m\n\u001b[1;32m----> 1\u001b[0m \u001b[38;5;28;01mdel\u001b[39;00m \u001b[43mA\u001b[49m, B, it_companies\n",
      "\u001b[1;31mNameError\u001b[0m: name 'A' is not defined"
     ]
    }
   ],
   "source": [
    "del A, B, it_companies\n",
    "\n"
   ]
  },
  {
   "cell_type": "code",
   "execution_count": 30,
   "id": "80196d3d-79d5-4fc5-bdb1-1b1902286b63",
   "metadata": {},
   "outputs": [
    {
     "name": "stdout",
     "output_type": "stream",
     "text": [
      "Length of age list: 8\n",
      "Length of age set: 5\n"
     ]
    }
   ],
   "source": [
    "age_set = set(age)\n",
    "print(\"Length of age list:\", len(age))\n",
    "print(\"Length of age set:\", len(age_set))\n",
    "\n",
    "\n"
   ]
  },
  {
   "cell_type": "code",
   "execution_count": 32,
   "id": "0c753802-d020-4f59-98e4-33ffe25dc167",
   "metadata": {},
   "outputs": [
    {
     "name": "stdout",
     "output_type": "stream",
     "text": [
      "List is bigger\n"
     ]
    }
   ],
   "source": [
    "age_set = set(age)\n",
    "\n",
    "if len(age) > len(age_set):\n",
    "    print(\"List is bigger\")\n",
    "else:\n",
    "    print(\"Set is bigger\")"
   ]
  },
  {
   "cell_type": "markdown",
   "id": "e39bbbfd-76d2-41e0-8111-98306d31bb5d",
   "metadata": {},
   "source": [
    "string: Characters used to store text\n",
    "list: on ordered collection of elements defined by [] brackets. they are mutable\n",
    "tuple: these are similar to list but are immutable . represented by () brackets\n",
    "set: unordered collection of elements defined by {} brackets. these doesnt allow duplicates"
   ]
  },
  {
   "cell_type": "code",
   "execution_count": null,
   "id": "e5ca8514-770f-41c0-9acf-544b5909168a",
   "metadata": {},
   "outputs": [],
   "source": []
  }
 ],
 "metadata": {
  "kernelspec": {
   "display_name": "Python 3 (ipykernel)",
   "language": "python",
   "name": "python3"
  },
  "language_info": {
   "codemirror_mode": {
    "name": "ipython",
    "version": 3
   },
   "file_extension": ".py",
   "mimetype": "text/x-python",
   "name": "python",
   "nbconvert_exporter": "python",
   "pygments_lexer": "ipython3",
   "version": "3.13.0"
  }
 },
 "nbformat": 4,
 "nbformat_minor": 5
}
