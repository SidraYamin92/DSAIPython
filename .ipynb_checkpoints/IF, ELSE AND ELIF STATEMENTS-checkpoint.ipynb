{
 "cells": [
  {
   "cell_type": "code",
   "execution_count": 1,
   "id": "241b4a01-bd39-47b2-81ce-db99f92a4b85",
   "metadata": {},
   "outputs": [
    {
     "name": "stdin",
     "output_type": "stream",
     "text": [
      "Enter a number:  15\n"
     ]
    },
    {
     "name": "stdout",
     "output_type": "stream",
     "text": [
      "Number is divisible by 3\n"
     ]
    }
   ],
   "source": [
    "number = int(input(\"Enter a number: \"))\n",
    "if number % 3 == 0:\n",
    "    print(\"Number is divisible by 3\")\n",
    "else:\n",
    "    print(\"Number is not divisible by 3\")\n",
    "\n"
   ]
  },
  {
   "cell_type": "code",
   "execution_count": 2,
   "id": "f3dcb1d7-f146-4126-ba08-3a5f11b4d3c3",
   "metadata": {},
   "outputs": [
    {
     "name": "stdin",
     "output_type": "stream",
     "text": [
      "Enter a number:  15\n"
     ]
    },
    {
     "name": "stdout",
     "output_type": "stream",
     "text": [
      "The number is odd\n"
     ]
    }
   ],
   "source": [
    "number1 = int(input(\"Enter a number: \"))\n",
    "if number1 % 2 == 0:\n",
    "    print(\"The number is even\")\n",
    "else:\n",
    "    print(\"The number is odd\")"
   ]
  },
  {
   "cell_type": "code",
   "execution_count": 4,
   "id": "7008d8be-fedf-49d6-b95a-8329edf332e8",
   "metadata": {},
   "outputs": [
    {
     "name": "stdin",
     "output_type": "stream",
     "text": [
      "Enter your age:  32\n"
     ]
    },
    {
     "name": "stdout",
     "output_type": "stream",
     "text": [
      "Old enough\n"
     ]
    }
   ],
   "source": [
    "age = int(input(\"Enter your age: \"))\n",
    "if age > 18:\n",
    "    print(\"Old enough\")\n",
    "else:\n",
    "    print(\"Too young\")"
   ]
  },
  {
   "cell_type": "code",
   "execution_count": 5,
   "id": "31e905c9-ea38-453d-bc6c-0dbe35ede56d",
   "metadata": {},
   "outputs": [
    {
     "name": "stdin",
     "output_type": "stream",
     "text": [
      "Enter your name:  Sidra\n"
     ]
    },
    {
     "name": "stdout",
     "output_type": "stream",
     "text": [
      "Hello, Sidra! Welcome!\n"
     ]
    }
   ],
   "source": [
    "my_name = \"Sidra\" \n",
    "user_name = input(\"Enter your name: \")\n",
    "\n",
    "if user_name == my_name:\n",
    "    print(f\"Hello, {user_name}! Welcome!\")"
   ]
  },
  {
   "cell_type": "code",
   "execution_count": 6,
   "id": "a353b3aa-1b2e-4fe4-801d-c564e0198356",
   "metadata": {},
   "outputs": [
    {
     "name": "stdin",
     "output_type": "stream",
     "text": [
      "Enter a year:  2024\n"
     ]
    },
    {
     "name": "stdout",
     "output_type": "stream",
     "text": [
      "It is a leap year.\n"
     ]
    }
   ],
   "source": [
    "year = int(input(\"Enter a year: \"))\n",
    "if (year % 4 == 0 and year % 100 != 0) or (year % 400 == 0):\n",
    "    print(\"It is a leap year.\")\n",
    "else:\n",
    "    print(\"It is not a leap year.\")\n",
    "    "
   ]
  },
  {
   "cell_type": "code",
   "execution_count": 7,
   "id": "7aacc956-3490-413d-90d2-9c732a078b2b",
   "metadata": {},
   "outputs": [
    {
     "name": "stdin",
     "output_type": "stream",
     "text": [
      "Enter the first integer:  35\n",
      "Enter the second integer:  8\n"
     ]
    },
    {
     "name": "stdout",
     "output_type": "stream",
     "text": [
      "The larger number is 35.\n"
     ]
    }
   ],
   "source": [
    "a = int(input(\"Enter the first integer: \"))\n",
    "b = int(input(\"Enter the second integer: \"))\n",
    "\n",
    "if a > b:\n",
    "    print(f\"The larger number is {a}.\")\n",
    "elif a < b:\n",
    "    print(f\"The larger number is {b}.\")\n",
    "else:\n",
    "    print(\"Both numbers are equal.\")"
   ]
  },
  {
   "cell_type": "code",
   "execution_count": 8,
   "id": "946c1909-aea8-4d73-857c-18b85c2053e2",
   "metadata": {},
   "outputs": [
    {
     "name": "stdin",
     "output_type": "stream",
     "text": [
      "Enter a number:  35\n"
     ]
    },
    {
     "name": "stdout",
     "output_type": "stream",
     "text": [
      "The number is positive.\n"
     ]
    }
   ],
   "source": [
    "number = float(input(\"Enter a number: \"))\n",
    "if number > 0:\n",
    "    print(\"The number is positive.\")\n",
    "elif number < 0:\n",
    "    print(\"The number is negative.\")\n",
    "else:\n",
    "    print(\"The number is zero.\")"
   ]
  },
  {
   "cell_type": "code",
   "execution_count": 9,
   "id": "dc076ae0-da3a-4cfc-8ee2-11fe4ec049e9",
   "metadata": {},
   "outputs": [
    {
     "name": "stdin",
     "output_type": "stream",
     "text": [
      "Enter a character:  e\n"
     ]
    },
    {
     "name": "stdout",
     "output_type": "stream",
     "text": [
      "True\n"
     ]
    }
   ],
   "source": [
    "character = input(\"Enter a character: \").lower()\n",
    "if character in 'aeiou':\n",
    "    print(True)\n",
    "else:\n",
    "    print(False)\n"
   ]
  },
  {
   "cell_type": "code",
   "execution_count": 10,
   "id": "7889ee56-8fcf-4885-bbe4-6f357d046d2c",
   "metadata": {},
   "outputs": [
    {
     "name": "stdin",
     "output_type": "stream",
     "text": [
      "Enter your age:  32\n"
     ]
    },
    {
     "name": "stdout",
     "output_type": "stream",
     "text": [
      "Old enough\n"
     ]
    }
   ],
   "source": [
    "age = int(input(\"Enter your age: \"))\n",
    "able_to_vote = \"Old enough\" if age >= 18 else \"Too young\"\n",
    "print(able_to_vote)\n"
   ]
  },
  {
   "cell_type": "code",
   "execution_count": 11,
   "id": "d0e48813-2448-4cce-b616-60685afabedf",
   "metadata": {},
   "outputs": [
    {
     "name": "stdin",
     "output_type": "stream",
     "text": [
      "Please enter your password:  mypass123\n"
     ]
    },
    {
     "name": "stdout",
     "output_type": "stream",
     "text": [
      "Correct! The password you entered matches the original password.\n"
     ]
    }
   ],
   "source": [
    "correct_password = \"mypass123\"  \n",
    "user_password = input(\"Please enter your password: \")\n",
    "\n",
    "if user_password == \"\":\n",
    "    print(\"Please enter your password.\")\n",
    "elif user_password == correct_password:\n",
    "    print(\"Correct! The password you entered matches the original password.\")\n",
    "else:\n",
    "    print(\"Incorrect password.\")\n"
   ]
  },
  {
   "cell_type": "code",
   "execution_count": 12,
   "id": "9a398332-9610-4d05-b499-d7e46fd4012d",
   "metadata": {},
   "outputs": [
    {
     "name": "stdin",
     "output_type": "stream",
     "text": [
      "Enter the time in 24-hour format (e.g., 1900 for 7 PM):  1900\n"
     ]
    },
    {
     "name": "stdout",
     "output_type": "stream",
     "text": [
      "Good evening!\n"
     ]
    }
   ],
   "source": [
    "time = int(input(\"Enter the time in 24-hour format (e.g., 1900 for 7 PM): \"))\n",
    "\n",
    "if 0 <= time < 1200:\n",
    "    print(\"Good morning!\")\n",
    "elif 1200 <= time < 1700:\n",
    "    print(\"Good afternoon!\")\n",
    "elif 1700 <= time < 2100:\n",
    "    print(\"Good evening!\")\n",
    "elif 2100 <= time <= 2359:\n",
    "    print(\"Good night!\")\n",
    "else:\n",
    "    print(\"Invalid time! Please enter a valid time in 24-hour format (0000 to 2359).\")\n"
   ]
  },
  {
   "cell_type": "code",
   "execution_count": null,
   "id": "690d8cb0-d708-4bf9-b50a-b82e87b4371b",
   "metadata": {},
   "outputs": [],
   "source": []
  }
 ],
 "metadata": {
  "kernelspec": {
   "display_name": "Python 3 (ipykernel)",
   "language": "python",
   "name": "python3"
  },
  "language_info": {
   "codemirror_mode": {
    "name": "ipython",
    "version": 3
   },
   "file_extension": ".py",
   "mimetype": "text/x-python",
   "name": "python",
   "nbconvert_exporter": "python",
   "pygments_lexer": "ipython3",
   "version": "3.13.0"
  }
 },
 "nbformat": 4,
 "nbformat_minor": 5
}
