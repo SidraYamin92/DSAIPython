{
 "cells": [
  {
   "cell_type": "code",
   "execution_count": 1,
   "id": "11047f47-dbf5-4c14-9524-f620c07f9f08",
   "metadata": {},
   "outputs": [
    {
     "name": "stdout",
     "output_type": "stream",
     "text": [
      "We are learning Python\n"
     ]
    }
   ],
   "source": [
    "print(\"We are learning Python\")"
   ]
  },
  {
   "cell_type": "code",
   "execution_count": 2,
   "id": "7c17bc94-cb3c-4250-9d47-ebb5475da528",
   "metadata": {},
   "outputs": [
    {
     "name": "stdout",
     "output_type": "stream",
     "text": [
      "Sajid\n"
     ]
    }
   ],
   "source": [
    "name=\"Sajid\"\n",
    "print(name)"
   ]
  },
  {
   "cell_type": "code",
   "execution_count": 3,
   "id": "fd160f8b-a139-41f5-b9df-ef387adc798e",
   "metadata": {},
   "outputs": [
    {
     "name": "stdout",
     "output_type": "stream",
     "text": [
      "4\n"
     ]
    }
   ],
   "source": [
    "print(2+2)"
   ]
  },
  {
   "cell_type": "code",
   "execution_count": 4,
   "id": "94dd977a-8299-4fc5-af5f-6e01e1047b4c",
   "metadata": {},
   "outputs": [
    {
     "name": "stdout",
     "output_type": "stream",
     "text": [
      "<class 'int'>\n"
     ]
    }
   ],
   "source": [
    "number=20\n",
    "print(type(number))"
   ]
  },
  {
   "cell_type": "markdown",
   "id": "df19c94c-7d5a-44b2-b6dd-407302966f5d",
   "metadata": {},
   "source": [
    "## Data Types"
   ]
  },
  {
   "cell_type": "code",
   "execution_count": 5,
   "id": "ae1c5031-c58c-4ed3-a36f-a1e2b2dac071",
   "metadata": {},
   "outputs": [],
   "source": [
    "#What are data types? are the formats or a way to communicate with their interpreter in any programming lnaguage. \n"
   ]
  },
  {
   "cell_type": "code",
   "execution_count": 6,
   "id": "b9961883-52d6-4a64-9edd-014ba788eaa8",
   "metadata": {},
   "outputs": [
    {
     "name": "stdout",
     "output_type": "stream",
     "text": [
      "<class 'str'>\n",
      "<class 'int'>\n",
      "<class 'float'>\n",
      "<class 'bool'>\n"
     ]
    }
   ],
   "source": [
    "# integer, boolean, float, string, list, tuple, set\n",
    "#type () function is used to check variable data type\n",
    "\n",
    "name = \"Ned Academy\"\n",
    "print(type(name))\n",
    "age = 30\n",
    "print(type((age)))\n",
    "salary = 20.5\n",
    "print(type((salary)))\n",
    "is_job= True\n",
    "print(type((is_job)))"
   ]
  },
  {
   "cell_type": "code",
   "execution_count": 7,
   "id": "126d833b-c28a-4acd-b7e6-90f257dc36f3",
   "metadata": {},
   "outputs": [
    {
     "name": "stdout",
     "output_type": "stream",
     "text": [
      "<class 'str'>\n",
      "<class 'int'>\n",
      "<class 'float'>\n"
     ]
    }
   ],
   "source": [
    "# Type casting\n",
    "x = str(3)\n",
    "y = int(3.0)\n",
    "z = float(3)\n",
    "print(type(x))\n",
    "print(type(y))\n",
    "print(type(z))"
   ]
  },
  {
   "cell_type": "code",
   "execution_count": 8,
   "id": "079ad5d6-1e7b-4201-8af8-b3ac77e503b4",
   "metadata": {},
   "outputs": [],
   "source": [
    "# variable decleration not started from any number\n",
    "# firstName \n",
    "# FirstName\n",
    "# _First_Name\n",
    "# firstname"
   ]
  },
  {
   "cell_type": "code",
   "execution_count": 9,
   "id": "64b9f4ec-d616-40e2-9a4a-2e1220dbf7c5",
   "metadata": {},
   "outputs": [],
   "source": [
    "# Assignment Solution\n",
    "first_name = \"Sajid\"\n",
    "last_name = \"Majeed\"\n",
    "age = 24\n",
    "gender = \"Male\"\n",
    "designation = \"Lecturer\"\n",
    "organization = \"NED\"\n",
    "cgpa = 3.9\n",
    "is_working = True"
   ]
  },
  {
   "cell_type": "code",
   "execution_count": 10,
   "id": "47f95f36-9f12-4f26-aea5-b039e7aa3671",
   "metadata": {},
   "outputs": [
    {
     "name": "stdout",
     "output_type": "stream",
     "text": [
      "=================================================\n",
      "\t\t  My Profile\n",
      "=================================================\n",
      "Name:\t\t Sajid Majeed\n",
      "Gender:\t\t Male\n",
      "Age:\t\t 24\n",
      "Designation:\t Lecturer\n",
      "Organization:\t NED\n",
      "Is Working:\t True\n",
      "CGPA:\t\t 3.9\n",
      "=================================================\n"
     ]
    }
   ],
   "source": [
    "# printing all variable \n",
    "print(\"=================================================\")\n",
    "print(\"\\t\\t  My Profile\")\n",
    "print(\"=================================================\")\n",
    "print(\"Name:\\t\\t\",first_name +' '+last_name)\n",
    "print(\"Gender:\\t\\t\" ,gender)\n",
    "print(\"Age:\\t\\t\" ,age)\n",
    "print(\"Designation:\\t\" ,designation)\n",
    "print(\"Organization:\\t\" ,organization)\n",
    "print(\"Is Working:\\t\" ,is_working)\n",
    "print(\"CGPA:\\t\\t\",cgpa)\n",
    "print(\"=================================================\")"
   ]
  },
  {
   "cell_type": "code",
   "execution_count": 11,
   "id": "e6927a53-7a35-40c6-9e28-7de103cda041",
   "metadata": {},
   "outputs": [],
   "source": [
    "x=4\n",
    "y=4\n",
    "z=4"
   ]
  },
  {
   "cell_type": "code",
   "execution_count": 12,
   "id": "21fd6d47-a4fd-4bfd-a030-5880a2047d9c",
   "metadata": {},
   "outputs": [
    {
     "name": "stdout",
     "output_type": "stream",
     "text": [
      "4\n",
      "4\n",
      "4\n"
     ]
    }
   ],
   "source": [
    "# one value to multiple variables \n",
    "x = y = z = 4\n",
    "print(x)\n",
    "print(y)\n",
    "print(z)"
   ]
  },
  {
   "cell_type": "code",
   "execution_count": 13,
   "id": "3603a743-a280-4190-bd62-d2c101aa9edb",
   "metadata": {},
   "outputs": [
    {
     "name": "stdout",
     "output_type": "stream",
     "text": [
      "4\n",
      "5\n",
      "6\n"
     ]
    }
   ],
   "source": [
    "# multiple values to multiple variables \n",
    "x , y , z = 4,5,6\n",
    "print(x)\n",
    "print(y)\n",
    "print(z)"
   ]
  },
  {
   "cell_type": "code",
   "execution_count": 14,
   "id": "9916f2af-1bae-45f1-b629-8626458cb999",
   "metadata": {},
   "outputs": [
    {
     "name": "stdin",
     "output_type": "stream",
     "text": [
      "Enter your Name: SIdra\n"
     ]
    },
    {
     "name": "stdout",
     "output_type": "stream",
     "text": [
      "Name: SIdra\n"
     ]
    }
   ],
   "source": [
    "# taking input from a user\n",
    "name = input(\"Enter your Name:\")\n",
    "print(\"Name:\",name) "
   ]
  },
  {
   "cell_type": "code",
   "execution_count": 15,
   "id": "8c2493a9-2eb8-4418-91cb-7077e68d5da2",
   "metadata": {},
   "outputs": [
    {
     "name": "stdout",
     "output_type": "stream",
     "text": [
      "<class 'str'>\n"
     ]
    }
   ],
   "source": [
    "print(type(name))\n"
   ]
  },
  {
   "cell_type": "code",
   "execution_count": 16,
   "id": "e9dea948-ce35-4b83-8c58-1c92ba677685",
   "metadata": {},
   "outputs": [
    {
     "name": "stdin",
     "output_type": "stream",
     "text": [
      "Enter your Age: 23\n"
     ]
    },
    {
     "name": "stdout",
     "output_type": "stream",
     "text": [
      "Age: 23.0\n"
     ]
    }
   ],
   "source": [
    "age = float(input(\"Enter your Age:\"))\n",
    "print(\"Age:\",age)"
   ]
  },
  {
   "cell_type": "code",
   "execution_count": 17,
   "id": "fe3a177e-6e6c-453a-b94e-9ecf8b6c634a",
   "metadata": {},
   "outputs": [
    {
     "name": "stdout",
     "output_type": "stream",
     "text": [
      "<class 'float'>\n"
     ]
    }
   ],
   "source": [
    "print(type(age))       "
   ]
  },
  {
   "cell_type": "code",
   "execution_count": 18,
   "id": "2459cfdf-bde4-486d-ad01-6e54291bd20b",
   "metadata": {},
   "outputs": [
    {
     "name": "stdin",
     "output_type": "stream",
     "text": [
      "Enter your Number 11\n",
      "Enter your Number 22\n"
     ]
    },
    {
     "name": "stdout",
     "output_type": "stream",
     "text": [
      "The Sum of two number is 33.0\n"
     ]
    }
   ],
   "source": [
    "number1= float(input(\"Enter your Number\"))\n",
    "number2= float(input(\"Enter your Number\"))\n",
    "add = number2+number1\n",
    "print(\"The Sum of two number is\",add)"
   ]
  },
  {
   "cell_type": "code",
   "execution_count": 19,
   "id": "01870ee5-dcd1-4276-8a4b-f0cc4eb0c6cc",
   "metadata": {},
   "outputs": [],
   "source": [
    "#dynamic program which works on user input"
   ]
  },
  {
   "cell_type": "code",
   "execution_count": 20,
   "id": "34a36d85-cafb-4fdd-a85c-d33ad5ef05fa",
   "metadata": {},
   "outputs": [],
   "source": [
    "#static program is made for specific task like coffee maker. \n"
   ]
  },
  {
   "cell_type": "code",
   "execution_count": 21,
   "id": "e90d5fbc-4081-4677-8a69-4e8d7ef4e72f",
   "metadata": {},
   "outputs": [
    {
     "name": "stdin",
     "output_type": "stream",
     "text": [
      "Enter the value of mass 22\n"
     ]
    },
    {
     "name": "stdout",
     "output_type": "stream",
     "text": [
      "22\n"
     ]
    }
   ],
   "source": [
    "mass= input(\"Enter the value of mass\")\n",
    "print(mass)"
   ]
  },
  {
   "cell_type": "code",
   "execution_count": 22,
   "id": "4591463b-63cb-44e8-9ff5-a8a5daae0373",
   "metadata": {},
   "outputs": [
    {
     "data": {
      "text/plain": [
       "str"
      ]
     },
     "execution_count": 22,
     "metadata": {},
     "output_type": "execute_result"
    }
   ],
   "source": [
    "type(mass)"
   ]
  },
  {
   "cell_type": "code",
   "execution_count": 23,
   "id": "e03f0f96-1fe8-451d-91bc-9d5dd3659fe8",
   "metadata": {},
   "outputs": [],
   "source": [
    "#it is string because by default input is string not integer\n",
    "# by adding data type before the input will make it float. "
   ]
  },
  {
   "cell_type": "code",
   "execution_count": 24,
   "id": "6976a12c-3357-49a0-824c-dd2767db22fa",
   "metadata": {},
   "outputs": [
    {
     "name": "stdin",
     "output_type": "stream",
     "text": [
      "Enter the value of mass 33\n"
     ]
    },
    {
     "name": "stdout",
     "output_type": "stream",
     "text": [
      "<class 'float'>\n"
     ]
    }
   ],
   "source": [
    "mass= float(input(\"Enter the value of mass\"))\n",
    "print(type(mass))\n"
   ]
  },
  {
   "cell_type": "code",
   "execution_count": 25,
   "id": "f01ab971-d170-4512-857a-1f78032a8f10",
   "metadata": {},
   "outputs": [
    {
     "name": "stdin",
     "output_type": "stream",
     "text": [
      "Type your mass 22\n",
      "Type you input 22\n"
     ]
    },
    {
     "name": "stdout",
     "output_type": "stream",
     "text": [
      "484.0\n"
     ]
    }
   ],
   "source": [
    "mass = float(input(\"Type your mass\"))\n",
    "acc= float(input(\"Type you input\"))\n",
    "force= mass*acc\n",
    "print(force)\n"
   ]
  },
  {
   "cell_type": "code",
   "execution_count": 26,
   "id": "b6c36622-235d-43d3-bb56-a3faca6a566d",
   "metadata": {},
   "outputs": [
    {
     "data": {
      "text/plain": [
       "484"
      ]
     },
     "execution_count": 26,
     "metadata": {},
     "output_type": "execute_result"
    }
   ],
   "source": [
    "round(force)"
   ]
  },
  {
   "cell_type": "code",
   "execution_count": 27,
   "id": "57016012-cd8e-4487-8c42-d28cc701471e",
   "metadata": {},
   "outputs": [
    {
     "name": "stdin",
     "output_type": "stream",
     "text": [
      "type number1 here 22\n",
      "type number2 here 24\n"
     ]
    },
    {
     "name": "stdout",
     "output_type": "stream",
     "text": [
      "46.0\n"
     ]
    }
   ],
   "source": [
    "number1= float(input(\"type number1 here\"))\n",
    "number2= float(input(\"type number2 here\"))\n",
    "sum=number1+number2\n",
    "print(sum)\n"
   ]
  },
  {
   "cell_type": "code",
   "execution_count": 28,
   "id": "f4d839f5-8580-4151-ae25-81266ce60882",
   "metadata": {},
   "outputs": [
    {
     "name": "stdin",
     "output_type": "stream",
     "text": [
      "type number1 here 22\n",
      "type number2 here 22\n"
     ]
    },
    {
     "name": "stdout",
     "output_type": "stream",
     "text": [
      "0.0\n"
     ]
    }
   ],
   "source": [
    "number1= float(input(\"type number1 here\"))\n",
    "number2= float(input(\"type number2 here\"))\n",
    "diff=number2-number1\n",
    "print(diff)"
   ]
  },
  {
   "cell_type": "code",
   "execution_count": 29,
   "id": "9480959d-2802-4d33-80ba-22d881552e4b",
   "metadata": {},
   "outputs": [
    {
     "name": "stdin",
     "output_type": "stream",
     "text": [
      "type number1 here 22\n",
      "type number2 here 22\n"
     ]
    },
    {
     "name": "stdout",
     "output_type": "stream",
     "text": [
      "1.0\n"
     ]
    }
   ],
   "source": [
    "number1= float(input(\"type number1 here\"))\n",
    "number2= float(input(\"type number2 here\"))\n",
    "div=number1/number2\n",
    "print(div)"
   ]
  },
  {
   "cell_type": "code",
   "execution_count": 30,
   "id": "efcbfe3f-96d1-49dc-8f86-5c039d61e736",
   "metadata": {},
   "outputs": [
    {
     "name": "stdin",
     "output_type": "stream",
     "text": [
      "type number1 here 22\n",
      "type number2 here 22\n"
     ]
    },
    {
     "name": "stdout",
     "output_type": "stream",
     "text": [
      "3.4142787736421956e+29\n"
     ]
    }
   ],
   "source": [
    "number1= float(input(\"type number1 here\"))\n",
    "number2= float(input(\"type number2 here\"))\n",
    "power=number1**number2\n",
    "print(power)"
   ]
  },
  {
   "cell_type": "code",
   "execution_count": 31,
   "id": "df8f0bc6-cb97-48a5-b2f6-458671983d20",
   "metadata": {},
   "outputs": [
    {
     "data": {
      "text/plain": [
       "0"
      ]
     },
     "execution_count": 31,
     "metadata": {},
     "output_type": "execute_result"
    }
   ],
   "source": [
    "#remainder operator\n",
    "4%2"
   ]
  },
  {
   "cell_type": "code",
   "execution_count": 32,
   "id": "104a2ade-9fb1-45d8-9e8a-df44eb4ef72c",
   "metadata": {},
   "outputs": [
    {
     "data": {
      "text/plain": [
       "0"
      ]
     },
     "execution_count": 32,
     "metadata": {},
     "output_type": "execute_result"
    }
   ],
   "source": [
    "16%2"
   ]
  },
  {
   "cell_type": "code",
   "execution_count": 33,
   "id": "dfec6048-5ad0-4e29-9563-b5aaac55d45b",
   "metadata": {},
   "outputs": [
    {
     "data": {
      "text/plain": [
       "1"
      ]
     },
     "execution_count": 33,
     "metadata": {},
     "output_type": "execute_result"
    }
   ],
   "source": [
    "135%2"
   ]
  },
  {
   "cell_type": "code",
   "execution_count": 34,
   "id": "4b9b265d-41fd-4bd9-b505-f8bc54a87212",
   "metadata": {},
   "outputs": [
    {
     "name": "stdout",
     "output_type": "stream",
     "text": [
      "<class 'str'>\n"
     ]
    }
   ],
   "source": [
    "#type casting, where you are changing the data type manually is type casting\n",
    "number=str(6)\n",
    "print(type(number))"
   ]
  },
  {
   "cell_type": "code",
   "execution_count": 35,
   "id": "16345ca0-ba5f-4659-a7fa-4b52e8b3cb95",
   "metadata": {
    "scrolled": true
   },
   "outputs": [
    {
     "data": {
      "text/plain": [
       "8"
      ]
     },
     "execution_count": 35,
     "metadata": {},
     "output_type": "execute_result"
    }
   ],
   "source": [
    "pow(2,3)"
   ]
  },
  {
   "cell_type": "markdown",
   "id": "b85445d1-d529-4349-9547-e5aa47693552",
   "metadata": {},
   "source": [
    "number=int(4.5)"
   ]
  },
  {
   "cell_type": "code",
   "execution_count": 36,
   "id": "473390b7-5d60-44d8-99a3-398ad43cf061",
   "metadata": {},
   "outputs": [
    {
     "data": {
      "text/plain": [
       "1"
      ]
     },
     "execution_count": 36,
     "metadata": {},
     "output_type": "execute_result"
    }
   ],
   "source": [
    "min(1,2,3,4,5,6,9)"
   ]
  },
  {
   "cell_type": "code",
   "execution_count": null,
   "id": "745f8ad7-620f-4afa-b71f-2fa0a108a48d",
   "metadata": {},
   "outputs": [],
   "source": []
  }
 ],
 "metadata": {
  "kernelspec": {
   "display_name": "Python 3 (ipykernel)",
   "language": "python",
   "name": "python3"
  },
  "language_info": {
   "codemirror_mode": {
    "name": "ipython",
    "version": 3
   },
   "file_extension": ".py",
   "mimetype": "text/x-python",
   "name": "python",
   "nbconvert_exporter": "python",
   "pygments_lexer": "ipython3",
   "version": "3.13.0"
  }
 },
 "nbformat": 4,
 "nbformat_minor": 5
}
