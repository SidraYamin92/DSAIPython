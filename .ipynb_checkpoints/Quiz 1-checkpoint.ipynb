{
 "cells": [
  {
   "cell_type": "code",
   "execution_count": 1,
   "id": "908f8917-9b44-4bfa-b43c-aebb7eb3792c",
   "metadata": {},
   "outputs": [
    {
     "name": "stdout",
     "output_type": "stream",
     "text": [
      "Answer 1: 5\n"
     ]
    }
   ],
   "source": [
    "my_list=[1,2,3,4]\n",
    "my_list.append([5, 6])\n",
    "print(\"Answer 1:\",len(my_list))"
   ]
  },
  {
   "cell_type": "code",
   "execution_count": 2,
   "id": "be8a24f6-4e94-4bbd-857e-47494e5cbb9f",
   "metadata": {},
   "outputs": [
    {
     "name": "stdout",
     "output_type": "stream",
     "text": [
      "Answer 2:Tuples cannot be nested\n"
     ]
    }
   ],
   "source": [
    "print(\"Answer 2:Tuples cannot be nested\")"
   ]
  },
  {
   "cell_type": "code",
   "execution_count": 3,
   "id": "b0aaa505-8918-43d2-ab77-a0f80507406e",
   "metadata": {},
   "outputs": [
    {
     "name": "stdout",
     "output_type": "stream",
     "text": [
      "4\n",
      "Answer 3: option b\n"
     ]
    }
   ],
   "source": [
    "my_set = {1, 2, 2, 3, 4}\n",
    "print(len(my_set))\n",
    "print (\"Answer 3: option b\")"
   ]
  },
  {
   "cell_type": "code",
   "execution_count": 4,
   "id": "8e395be6-d3a7-4b5d-a4c0-351509cf71ac",
   "metadata": {},
   "outputs": [
    {
     "name": "stdout",
     "output_type": "stream",
     "text": [
      "Answer 4: Hello\n"
     ]
    }
   ],
   "source": [
    "x = \"Hello\"\n",
    "y = x\n",
    "y += \" World\"\n",
    "print(\"Answer 4:\",x)"
   ]
  },
  {
   "cell_type": "code",
   "execution_count": 5,
   "id": "4c44647e-e5d7-44d8-a958-5fe20ef144bd",
   "metadata": {},
   "outputs": [
    {
     "name": "stdout",
     "output_type": "stream",
     "text": [
      "Answer 5:Lists are faster than tuples.\n"
     ]
    }
   ],
   "source": [
    "print(\"Answer 5:Lists are faster than tuples.\")"
   ]
  },
  {
   "cell_type": "code",
   "execution_count": 6,
   "id": "f40ead48-d584-451f-be28-79499e5d85b0",
   "metadata": {},
   "outputs": [
    {
     "name": "stdout",
     "output_type": "stream",
     "text": [
      "Answer 6: {1, 2, 3, 4, 5}\n"
     ]
    }
   ],
   "source": [
    "set_a = {1, 2, 3}\n",
    "set_b = {3, 4, 5}\n",
    "result= set_a.union(set_b)\n",
    "print(\"Answer 6:\", result)"
   ]
  },
  {
   "cell_type": "code",
   "execution_count": 7,
   "id": "10d8adc8-1604-44bf-abab-296b15a07fdb",
   "metadata": {},
   "outputs": [
    {
     "name": "stdout",
     "output_type": "stream",
     "text": [
      "Answer 7: Mutable data types are those which can be changed once created, for instance we can change passwords for User Id's, Immutable data types are those which cannot be changed once created,for instance we cannot change our user Id's once created \n"
     ]
    }
   ],
   "source": [
    "print(\"Answer 7: Mutable data types are those which can be changed once created, for instance we can change passwords for User Id's, Immutable data types are those which cannot be changed once created,for instance we cannot change our user Id's once created \")"
   ]
  },
  {
   "cell_type": "code",
   "execution_count": 8,
   "id": "9946de64-a5e2-459a-9f9e-ab78d84b1610",
   "metadata": {},
   "outputs": [
    {
     "data": {
      "text/plain": [
       "[19, 19, 20, 22, 24, 24, 24, 25, 25, 26]"
      ]
     },
     "execution_count": 8,
     "metadata": {},
     "output_type": "execute_result"
    }
   ],
   "source": [
    "#Question 8:\n",
    "ages = [19, 22, 19, 24, 20, 25, 26, 24, 25, 24]\n",
    "sorted(ages)"
   ]
  },
  {
   "cell_type": "code",
   "execution_count": 9,
   "id": "a190be8b-28b6-4f96-8446-f12c2acf6a0f",
   "metadata": {},
   "outputs": [
    {
     "data": {
      "text/plain": [
       "19"
      ]
     },
     "execution_count": 9,
     "metadata": {},
     "output_type": "execute_result"
    }
   ],
   "source": [
    "min(ages)"
   ]
  },
  {
   "cell_type": "code",
   "execution_count": 10,
   "id": "03527527-1d1b-4285-a442-8979614317e5",
   "metadata": {},
   "outputs": [
    {
     "data": {
      "text/plain": [
       "26"
      ]
     },
     "execution_count": 10,
     "metadata": {},
     "output_type": "execute_result"
    }
   ],
   "source": [
    "max(ages)"
   ]
  },
  {
   "cell_type": "code",
   "execution_count": 36,
   "id": "3766fd11-c59c-46c0-b371-de5b2706ce02",
   "metadata": {},
   "outputs": [],
   "source": [
    "Medianage = 24/2"
   ]
  },
  {
   "cell_type": "code",
   "execution_count": 12,
   "id": "4fdcefd4-1c03-41e0-abaa-3ec2561f50db",
   "metadata": {},
   "outputs": [
    {
     "data": {
      "text/plain": [
       "228"
      ]
     },
     "execution_count": 12,
     "metadata": {},
     "output_type": "execute_result"
    }
   ],
   "source": [
    "sum(ages)"
   ]
  },
  {
   "cell_type": "code",
   "execution_count": 13,
   "id": "59ca2b00-cd9c-4b85-a9cf-b01a9bf8abd6",
   "metadata": {},
   "outputs": [
    {
     "data": {
      "text/plain": [
       "range(0, 7)"
      ]
     },
     "execution_count": 13,
     "metadata": {},
     "output_type": "execute_result"
    }
   ],
   "source": [
    "range(26-19)"
   ]
  },
  {
   "cell_type": "code",
   "execution_count": 14,
   "id": "6ca070a9-0326-4f8f-96b2-d4dd4dceeb57",
   "metadata": {},
   "outputs": [
    {
     "name": "stdout",
     "output_type": "stream",
     "text": [
      "()\n"
     ]
    }
   ],
   "source": [
    "#Question 9\n",
    "Object1=()\n",
    "print(Object1)"
   ]
  },
  {
   "cell_type": "code",
   "execution_count": 55,
   "id": "1429f515-913a-4ffe-aa39-cfa699970643",
   "metadata": {},
   "outputs": [
    {
     "ename": "AttributeError",
     "evalue": "'tuple' object has no attribute 'insert'",
     "output_type": "error",
     "traceback": [
      "\u001b[1;31m---------------------------------------------------------------------------\u001b[0m",
      "\u001b[1;31mAttributeError\u001b[0m                            Traceback (most recent call last)",
      "Cell \u001b[1;32mIn[55], line 3\u001b[0m\n\u001b[0;32m      1\u001b[0m sisters\u001b[38;5;241m=\u001b[39m(\u001b[38;5;124m'\u001b[39m\u001b[38;5;124mShagufta\u001b[39m\u001b[38;5;124m'\u001b[39m,\u001b[38;5;124m'\u001b[39m\u001b[38;5;124mSidra\u001b[39m\u001b[38;5;124m'\u001b[39m,\u001b[38;5;124m'\u001b[39m\u001b[38;5;124mAsma\u001b[39m\u001b[38;5;124m'\u001b[39m, \u001b[38;5;124m'\u001b[39m\u001b[38;5;124mRabia\u001b[39m\u001b[38;5;124m'\u001b[39m)\n\u001b[0;32m      2\u001b[0m brothers\u001b[38;5;241m=\u001b[39m(\u001b[38;5;124m'\u001b[39m\u001b[38;5;124mTayyab\u001b[39m\u001b[38;5;124m'\u001b[39m, \u001b[38;5;124m'\u001b[39m\u001b[38;5;124mTahir\u001b[39m\u001b[38;5;124m'\u001b[39m)\n\u001b[1;32m----> 3\u001b[0m \u001b[43msisters\u001b[49m\u001b[38;5;241;43m.\u001b[39;49m\u001b[43minsert\u001b[49m(brothers)\n\u001b[0;32m      5\u001b[0m \u001b[38;5;28mprint\u001b[39m(\u001b[38;5;124m\"\u001b[39m\u001b[38;5;124mtupple cannot be added into a tupple\u001b[39m\u001b[38;5;124m\"\u001b[39m)\n",
      "\u001b[1;31mAttributeError\u001b[0m: 'tuple' object has no attribute 'insert'"
     ]
    }
   ],
   "source": [
    "sisters=('Shagufta','Sidra','Asma', 'Rabia')\n",
    "brothers=('Tayyab', 'Tahir')\n",
    "sisters.insert(brothers)\n",
    "\n",
    "print(\"tupple cannot be added into a tupple\")\n",
    "\n",
    "\n"
   ]
  },
  {
   "cell_type": "code",
   "execution_count": 52,
   "id": "741791dc-8cdf-47dc-9a20-f25ac79b8a65",
   "metadata": {},
   "outputs": [],
   "source": []
  },
  {
   "cell_type": "code",
   "execution_count": null,
   "id": "07a51df9-6cfe-40e8-86f1-0fc49bb8e72f",
   "metadata": {},
   "outputs": [],
   "source": []
  }
 ],
 "metadata": {
  "kernelspec": {
   "display_name": "Python 3 (ipykernel)",
   "language": "python",
   "name": "python3"
  },
  "language_info": {
   "codemirror_mode": {
    "name": "ipython",
    "version": 3
   },
   "file_extension": ".py",
   "mimetype": "text/x-python",
   "name": "python",
   "nbconvert_exporter": "python",
   "pygments_lexer": "ipython3",
   "version": "3.13.0"
  }
 },
 "nbformat": 4,
 "nbformat_minor": 5
}
