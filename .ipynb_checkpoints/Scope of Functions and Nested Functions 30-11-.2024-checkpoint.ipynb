{
 "cells": [
  {
   "cell_type": "code",
   "execution_count": 1,
   "id": "0b4a7ea7-5a41-4132-a699-b8a6b687b8b7",
   "metadata": {},
   "outputs": [
    {
     "name": "stdout",
     "output_type": "stream",
     "text": [
      "\n",
      "    1 == Addition\n",
      "    2 == Subtraction\n",
      "    3 == Multiplication\n",
      "    4 == Division\n",
      "    \n"
     ]
    },
    {
     "name": "stdin",
     "output_type": "stream",
     "text": [
      "Choose an operation (1, 2, 3, 4):  2\n",
      "Enter your first number:  23\n",
      "Enter your second number:  23\n"
     ]
    },
    {
     "name": "stdout",
     "output_type": "stream",
     "text": [
      "Subtraction of 23.0 and 23.0 is 0.0\n"
     ]
    }
   ],
   "source": [
    "def calculator():\n",
    "    \"\"\"\n",
    "    Perform addition, subtraction, multiplication, and division based on user input.\n",
    "    \"\"\"\n",
    "    print('''\n",
    "    1 == Addition\n",
    "    2 == Subtraction\n",
    "    3 == Multiplication\n",
    "    4 == Division\n",
    "    ''')\n",
    "    option = input(\"Choose an operation (1, 2, 3, 4): \")\n",
    "    \n",
    "    try:\n",
    "        number1 = float(input(\"Enter your first number: \"))\n",
    "        number2 = float(input(\"Enter your second number: \"))\n",
    "        \n",
    "        if option == '1':\n",
    "            print(f\"Addition of {number1} and {number2} is {number1 + number2}\")\n",
    "        elif option == '2':\n",
    "            print(f\"Subtraction of {number1} and {number2} is {number1 - number2}\")\n",
    "        elif option == '3':\n",
    "            print(f\"Multiplication of {number1} and {number2} is {number1 * number2}\")\n",
    "        elif option == '4':\n",
    "            if number2 != 0:\n",
    "                print(f\"Division of {number1} and {number2} is {number1 / number2}\")\n",
    "            else:\n",
    "                print(\"Error: Division by zero is not allowed.\")\n",
    "        else:\n",
    "            print(\"Invalid option. Please select a valid operation from the list.\")\n",
    "    except ValueError:\n",
    "        print(\"Invalid input. Please enter numeric values.\")\n",
    "\n",
    "calculator()\n"
   ]
  },
  {
   "cell_type": "markdown",
   "id": "c00fd116-d9ab-44de-aa1a-db6fc3f0a60c",
   "metadata": {},
   "source": [
    "##Scope of a Variable\n"
   ]
  },
  {
   "cell_type": "code",
   "execution_count": 2,
   "id": "d9c0a224-1e1f-4ab6-a3fb-7b7c7c5c4035",
   "metadata": {},
   "outputs": [
    {
     "name": "stdout",
     "output_type": "stream",
     "text": [
      "5\n",
      "6\n",
      "5\n"
     ]
    }
   ],
   "source": [
    "def g(y):\n",
    "    print(x)\n",
    "    print(x+1)\n",
    "x=5\n",
    "g(x)\n",
    "print(x)"
   ]
  },
  {
   "cell_type": "code",
   "execution_count": 3,
   "id": "cda49ae6-5310-4cd0-8f52-cb5c872c8924",
   "metadata": {},
   "outputs": [
    {
     "name": "stdout",
     "output_type": "stream",
     "text": [
      "5\n",
      "6\n",
      "5\n"
     ]
    }
   ],
   "source": [
    "def g(y):\n",
    "    print(x)\n",
    "    print(x+1)\n",
    "y=5\n",
    "g(y)\n",
    "print(y)"
   ]
  },
  {
   "cell_type": "code",
   "execution_count": 4,
   "id": "5e4fe426-16aa-4b45-add7-b50e08e9272d",
   "metadata": {},
   "outputs": [
    {
     "name": "stdout",
     "output_type": "stream",
     "text": [
      "5\n",
      "6\n",
      "5\n"
     ]
    }
   ],
   "source": [
    "def g(y):\n",
    "    print(x)\n",
    "    print(x+1)\n",
    "name=5 #globally its five, while locally its 6 after addition\n",
    "g(name)\n",
    "print(name)"
   ]
  },
  {
   "cell_type": "code",
   "execution_count": 5,
   "id": "f6148bad-ca32-4f1a-8af7-4c5ce60346fc",
   "metadata": {},
   "outputs": [
    {
     "name": "stdout",
     "output_type": "stream",
     "text": [
      "2\n",
      "5\n"
     ]
    }
   ],
   "source": [
    "def f(y):\n",
    "    x=1\n",
    "    x+=1\n",
    "    print(x)\n",
    "x=5\n",
    "f(x)\n",
    "print(x)"
   ]
  },
  {
   "cell_type": "code",
   "execution_count": 7,
   "id": "f75973ae-b641-4612-82c5-7dcf95e4eda3",
   "metadata": {},
   "outputs": [
    {
     "name": "stdout",
     "output_type": "stream",
     "text": [
      "5\n",
      "5\n"
     ]
    }
   ],
   "source": [
    "def f(y):\n",
    "    y=2\n",
    "    y+=1\n",
    "    print(x)\n",
    "x=5\n",
    "f(x)\n",
    "print(x)"
   ]
  },
  {
   "cell_type": "code",
   "execution_count": 1,
   "id": "ada74e53-b464-453f-820e-5e8fa896c6cd",
   "metadata": {},
   "outputs": [
    {
     "ename": "UnboundLocalError",
     "evalue": "cannot access local variable 'x' where it is not associated with a value",
     "output_type": "error",
     "traceback": [
      "\u001b[1;31m---------------------------------------------------------------------------\u001b[0m",
      "\u001b[1;31mUnboundLocalError\u001b[0m                         Traceback (most recent call last)",
      "Cell \u001b[1;32mIn[1], line 5\u001b[0m\n\u001b[0;32m      3\u001b[0m     \u001b[38;5;28mprint\u001b[39m(x)\n\u001b[0;32m      4\u001b[0m x\u001b[38;5;241m=\u001b[39m\u001b[38;5;241m5\u001b[39m\n\u001b[1;32m----> 5\u001b[0m \u001b[43mh\u001b[49m\u001b[43m(\u001b[49m\u001b[43mx\u001b[49m\u001b[43m)\u001b[49m\n\u001b[0;32m      6\u001b[0m \u001b[38;5;28mprint\u001b[39m(x)\n",
      "Cell \u001b[1;32mIn[1], line 2\u001b[0m, in \u001b[0;36mh\u001b[1;34m(y)\u001b[0m\n\u001b[0;32m      1\u001b[0m \u001b[38;5;28;01mdef\u001b[39;00m \u001b[38;5;21mh\u001b[39m(y):\n\u001b[1;32m----> 2\u001b[0m     \u001b[43mx\u001b[49m\u001b[38;5;241m+\u001b[39m\u001b[38;5;241m=\u001b[39m\u001b[38;5;241m1\u001b[39m\n\u001b[0;32m      3\u001b[0m     \u001b[38;5;28mprint\u001b[39m(x)\n",
      "\u001b[1;31mUnboundLocalError\u001b[0m: cannot access local variable 'x' where it is not associated with a value"
     ]
    }
   ],
   "source": [
    "def h(y):\n",
    "    x+=1\n",
    "x=5\n",
    "h(x)\n",
    "print(x)"
   ]
  },
  {
   "cell_type": "code",
   "execution_count": 3,
   "id": "a42ed231-6cf8-4bfa-a65f-db2988be1f71",
   "metadata": {},
   "outputs": [
    {
     "name": "stdout",
     "output_type": "stream",
     "text": [
      "in f(x): x = 4\n",
      "in main scope: z = 4\n",
      "in main scope: x = 3\n"
     ]
    }
   ],
   "source": [
    "def f(x):\n",
    "    x=x+1\n",
    "    print('in f(x): x =', x)\n",
    "    return x\n",
    "x=3\n",
    "z = f(x)\n",
    "print('in main scope: z =', z)\n",
    "print('in main scope: x =', x)"
   ]
  },
  {
   "cell_type": "code",
   "execution_count": 4,
   "id": "2263e137-04ad-4dfd-817c-78f2de44fdac",
   "metadata": {},
   "outputs": [
    {
     "data": {
      "text/plain": [
       "4"
      ]
     },
     "execution_count": 4,
     "metadata": {},
     "output_type": "execute_result"
    }
   ],
   "source": [
    "z"
   ]
  },
  {
   "cell_type": "code",
   "execution_count": 5,
   "id": "1534d5e0-68d3-4c75-8dd8-be5b0f33cd81",
   "metadata": {},
   "outputs": [
    {
     "data": {
      "text/plain": [
       "3"
      ]
     },
     "execution_count": 5,
     "metadata": {},
     "output_type": "execute_result"
    }
   ],
   "source": [
    "x"
   ]
  },
  {
   "cell_type": "code",
   "execution_count": 11,
   "id": "729ad8ab-e08a-4fe0-bead-38b50948b429",
   "metadata": {},
   "outputs": [],
   "source": [
    "def f():\n",
    "    def g():\n",
    "        print('inside function g')\n",
    "    f()\n",
    "    g()\n",
    "    print('inside function f')"
   ]
  },
  {
   "cell_type": "code",
   "execution_count": 12,
   "id": "288a2fa0-3351-41a3-a572-412b67b2a43f",
   "metadata": {},
   "outputs": [
    {
     "name": "stdout",
     "output_type": "stream",
     "text": [
      "hello from outer function\n",
      "Hello from inner function\n"
     ]
    }
   ],
   "source": [
    "def function1(): #outer function\n",
    "    print (\"hello from outer function\")\n",
    "    def function2(): #inner function\n",
    "        print(\"Hello from inner function\")\n",
    "    function2()\n",
    "\n",
    "function1()\n"
   ]
  },
  {
   "cell_type": "code",
   "execution_count": 13,
   "id": "9fdcea2c-b9d1-4ef8-a2bf-eb25304a4ee0",
   "metadata": {},
   "outputs": [
    {
     "name": "stdout",
     "output_type": "stream",
     "text": [
      "<function num1.<locals>.num2 at 0x0000022B95277100>\n",
      "50\n"
     ]
    }
   ],
   "source": [
    "def num1(x):\n",
    "    def num2(y):\n",
    "        return x*y\n",
    "    return num2\n",
    "res = num1(10)\n",
    "print(res)\n",
    "print(res(5))"
   ]
  },
  {
   "cell_type": "code",
   "execution_count": 15,
   "id": "3b8a3835-b622-4d3d-b35b-f75501dc459f",
   "metadata": {},
   "outputs": [
    {
     "name": "stdout",
     "output_type": "stream",
     "text": [
      "<function num3.<locals>.num4 at 0x0000022B95277B00>\n",
      "256\n"
     ]
    }
   ],
   "source": [
    "def num3(x):\n",
    "    def num4(y):\n",
    "        return x**4\n",
    "    return num4\n",
    "res = num3(4)\n",
    "print(res)\n",
    "print(res(3))"
   ]
  },
  {
   "cell_type": "code",
   "execution_count": 16,
   "id": "de9f9d1b-9bcd-4f2f-a05e-d9290dda7879",
   "metadata": {},
   "outputs": [
    {
     "name": "stdout",
     "output_type": "stream",
     "text": [
      "<function num5.<locals>.num6 at 0x0000022B952753A0>\n",
      "250\n"
     ]
    }
   ],
   "source": [
    "def num5(x):\n",
    "  def num6(y):\n",
    "    def num7(z):\n",
    "      return x * y *z;\n",
    "    return num7;\n",
    "  return num6;   \n",
    "\n",
    "res = num5(10)\n",
    "print(res)\n",
    "res1 = res(5)\n",
    "print(res1(5))"
   ]
  },
  {
   "cell_type": "code",
   "execution_count": 20,
   "id": "0c7daccf-a65d-4e75-b5b7-f3b914cb47ed",
   "metadata": {},
   "outputs": [
    {
     "name": "stdout",
     "output_type": "stream",
     "text": [
      "SidraShahid Yamin\n"
     ]
    }
   ],
   "source": [
    "def fname(first_name):\n",
    "    def mname (middle_name):\n",
    "        def lname (last_name):\n",
    "            return f\"{first_name}{middle_name} {last_name}\"\n",
    "        return lname\n",
    "    return mname\n",
    "fullname = fname('Sidra')\n",
    "lastname = fullname('Shahid')\n",
    "print(lastname('Yamin'))\n"
   ]
  },
  {
   "cell_type": "code",
   "execution_count": null,
   "id": "37c887fc-449f-4ddd-a68e-540c354fc03e",
   "metadata": {},
   "outputs": [],
   "source": []
  }
 ],
 "metadata": {
  "kernelspec": {
   "display_name": "Python 3 (ipykernel)",
   "language": "python",
   "name": "python3"
  },
  "language_info": {
   "codemirror_mode": {
    "name": "ipython",
    "version": 3
   },
   "file_extension": ".py",
   "mimetype": "text/x-python",
   "name": "python",
   "nbconvert_exporter": "python",
   "pygments_lexer": "ipython3",
   "version": "3.13.0"
  }
 },
 "nbformat": 4,
 "nbformat_minor": 5
}
