{
 "cells": [
  {
   "cell_type": "code",
   "execution_count": 1,
   "id": "e585cd17-f842-4d85-b0fb-aef345ac0492",
   "metadata": {},
   "outputs": [
    {
     "name": "stdin",
     "output_type": "stream",
     "text": [
      "Enter number of rows for pattern 7\n"
     ]
    },
    {
     "name": "stdout",
     "output_type": "stream",
     "text": [
      "#\n",
      "##\n",
      "###\n",
      "####\n",
      "#####\n",
      "######\n",
      "#######\n"
     ]
    }
   ],
   "source": [
    "rows = int(input(\"Enter number of rows for pattern\"))\n",
    "for i in range (1, rows+1):\n",
    "    for j in range (1, i+1):\n",
    "        print('#',end='')\n",
    "    print()"
   ]
  },
  {
   "cell_type": "code",
   "execution_count": 2,
   "id": "853aa341-cae4-45ec-924a-514d2c87ee82",
   "metadata": {},
   "outputs": [
    {
     "name": "stdout",
     "output_type": "stream",
     "text": [
      "# # # # # # # # \n",
      "# # # # # # # # \n",
      "# # # # # # # # \n",
      "# # # # # # # # \n",
      "# # # # # # # # \n",
      "# # # # # # # # \n",
      "# # # # # # # # \n",
      "# # # # # # # # \n"
     ]
    }
   ],
   "source": [
    "for i in range (8):\n",
    "    for j in range (8):\n",
    "        print('#',end=\" \")\n",
    "    print()"
   ]
  },
  {
   "cell_type": "code",
   "execution_count": 3,
   "id": "91abe532-f36b-48c1-b7bf-a09a56ad972f",
   "metadata": {},
   "outputs": [
    {
     "name": "stdout",
     "output_type": "stream",
     "text": [
      "Python\n",
      "Numpy\n",
      "Pandas\n",
      "Django\n",
      "Flask\n"
     ]
    }
   ],
   "source": [
    "languages= ['Python', 'Numpy','Pandas','Django', 'Flask']\n",
    "for item in languages:\n",
    "    print (item)"
   ]
  },
  {
   "cell_type": "code",
   "execution_count": 4,
   "id": "3258b763-73e5-46cd-9153-1644ab726eae",
   "metadata": {},
   "outputs": [
    {
     "name": "stdout",
     "output_type": "stream",
     "text": [
      "Sum of even numbers: 2550\n",
      "Sum of odd numbers: 2500\n"
     ]
    }
   ],
   "source": [
    "sum_even= 0\n",
    "sum_odd = 0\n",
    "for number in range(101):\n",
    "    if number % 2 == 0:    \n",
    "        sum_even += number\n",
    "    else:                  \n",
    "        sum_odd += number\n",
    "\n",
    "print(\"Sum of even numbers:\", sum_even)\n",
    "print(\"Sum of odd numbers:\", sum_odd)"
   ]
  },
  {
   "cell_type": "code",
   "execution_count": 5,
   "id": "7af7efb9-74b0-473e-824a-5cbae54f157d",
   "metadata": {},
   "outputs": [
    {
     "name": "stdout",
     "output_type": "stream",
     "text": [
      " The cube of 1 is 1\n",
      " The cube of 2 is 8\n",
      " The cube of 3 is 27\n",
      " The cube of 4 is 64\n",
      " The cube of 5 is 125\n"
     ]
    }
   ],
   "source": [
    "def cube_numbers(j):\n",
    "    for i in range (1, j + 1):\n",
    "        print(f\" The cube of {i} is {i**3}\")\n",
    "\n",
    "number= 5\n",
    "cube_numbers(number)"
   ]
  },
  {
   "cell_type": "code",
   "execution_count": 6,
   "id": "f7120aea-f456-47b7-9e69-13a40da3b7f7",
   "metadata": {},
   "outputs": [
    {
     "name": "stdout",
     "output_type": "stream",
     "text": [
      "Number1: 5\n",
      "Number2: 6\n",
      "11\n"
     ]
    }
   ],
   "source": [
    "def add(num1, num2):\n",
    "    print(\"Number1:\",num1)\n",
    "    print(\"Number2:\",num2)\n",
    "    Addition = num1 + num2\n",
    "    return Addition\n",
    "\n",
    "num1 = 5\n",
    "num2 = 6\n",
    "\n",
    "res = add(num1, num2)\n",
    "print(res)"
   ]
  },
  {
   "cell_type": "code",
   "execution_count": 7,
   "id": "d3bd0f47-4ddc-40dc-9c8c-e881ef62a00a",
   "metadata": {},
   "outputs": [
    {
     "name": "stdin",
     "output_type": "stream",
     "text": [
      "Radius 87\n"
     ]
    },
    {
     "data": {
      "text/plain": [
       "('Area of the Circle is:', 23781.798)"
      ]
     },
     "execution_count": 7,
     "metadata": {},
     "output_type": "execute_result"
    }
   ],
   "source": [
    "def Area():\n",
    "    pi=3.142\n",
    "    Area=(pi*r**2)\n",
    "    return 'Area of the Circle is:',Area, \n",
    "r=float(input(\"Radius\"))\n",
    "Area()"
   ]
  },
  {
   "cell_type": "code",
   "execution_count": 12,
   "id": "a8d989d7-270b-4640-a8a2-442954407f78",
   "metadata": {},
   "outputs": [
    {
     "name": "stdout",
     "output_type": "stream",
     "text": [
      "26\n"
     ]
    }
   ],
   "source": [
    "def add_all_nums(*args):\n",
    "    total = 0\n",
    "    for num in args:\n",
    "        if not isinstance(num, (int, float)):\n",
    "            return \"All inputs must be numbers.\"\n",
    "        total += num\n",
    "    return total\n",
    "\n",
    "print(add_all_nums(1, 5, 20)) \n"
   ]
  },
  {
   "cell_type": "code",
   "execution_count": 14,
   "id": "371903f7-46f6-4b95-b774-9f18ee084a63",
   "metadata": {},
   "outputs": [
    {
     "name": "stdin",
     "output_type": "stream",
     "text": [
      " Enter a month to check season April\n"
     ]
    },
    {
     "name": "stdout",
     "output_type": "stream",
     "text": [
      "Spring\n"
     ]
    }
   ],
   "source": [
    "def check_season(month):\n",
    "    if month in ['December', 'January', 'February']:\n",
    "        return 'Winter'\n",
    "    elif month in ['March', 'April', 'May']:\n",
    "        return 'Spring'\n",
    "    elif month in ['June', 'July', 'August']:\n",
    "        return 'Summer'\n",
    "    elif month in ['September', 'October', 'November']:\n",
    "        return 'Autumn'\n",
    "    else:\n",
    "        return 'Invalid month'\n",
    "\n",
    "user_input = input(\" Enter a month to check season\")\n",
    "print(check_season(user_input))\n"
   ]
  },
  {
   "cell_type": "code",
   "execution_count": 16,
   "id": "e1d4c749-3f0b-4fe0-a976-70c59d327a31",
   "metadata": {},
   "outputs": [
    {
     "name": "stdout",
     "output_type": "stream",
     "text": [
      "2.5\n"
     ]
    }
   ],
   "source": [
    "def calculate_slope(x1, y1, x2, y2):\n",
    "    slope = (y2 - y1) / (x2 - x1)  \n",
    "    return slope\n",
    "\n",
    "print(calculate_slope(1, 4, 3, 9))\n"
   ]
  },
  {
   "cell_type": "code",
   "execution_count": 21,
   "id": "53f551c7-0437-43ac-9d29-492bb17048ea",
   "metadata": {},
   "outputs": [
    {
     "name": "stdin",
     "output_type": "stream",
     "text": [
      "Enter coefficient a:  12\n",
      "Enter coefficient b:  -14\n",
      "Enter coefficient c:  09\n"
     ]
    },
    {
     "name": "stdout",
     "output_type": "stream",
     "text": [
      "No real roots\n"
     ]
    }
   ],
   "source": [
    "import math\n",
    "\n",
    "def solve_quadratic_eqn(a, b, c):\n",
    "    discriminant = b**2 - 4*a*c\n",
    "    \n",
    "    if discriminant > 0:\n",
    "        root1 = (-b + math.sqrt(discriminant)) / (2 * a)\n",
    "        root2 = (-b - math.sqrt(discriminant)) / (2 * a)\n",
    "        return root1, root2\n",
    "    elif discriminant == 0:\n",
    "        root = -b / (2 * a)\n",
    "        return root\n",
    "    else:\n",
    "        return \"No real roots\"\n",
    "\n",
    "a = float(input(\"Enter coefficient a: \"))\n",
    "b = float(input(\"Enter coefficient b: \"))\n",
    "c = float(input(\"Enter coefficient c: \"))\n",
    "\n",
    "print(solve_quadratic_eqn(a, b, c))\n"
   ]
  },
  {
   "cell_type": "code",
   "execution_count": 22,
   "id": "a53d06a0-2382-4f92-8797-8f7d0ac0472a",
   "metadata": {},
   "outputs": [
    {
     "name": "stdout",
     "output_type": "stream",
     "text": [
      "1\n",
      "2\n",
      "3\n"
     ]
    }
   ],
   "source": [
    "def print_list(lst):\n",
    "    for item in lst:\n",
    "        print(item)\n",
    "\n",
    "print_list([1, 2, 3])\n"
   ]
  },
  {
   "cell_type": "code",
   "execution_count": 26,
   "id": "6574216b-91ca-464c-924c-bdcfdc4639c3",
   "metadata": {},
   "outputs": [
    {
     "name": "stdout",
     "output_type": "stream",
     "text": [
      "[10, 9, 6, 3, 1]\n"
     ]
    }
   ],
   "source": [
    "def reverse_list(lst):\n",
    "    reversed_list = []\n",
    "    for i in range(len(lst) - 1, -1, -1):\n",
    "        reversed_list.append(lst[i])\n",
    "    return reversed_list\n",
    "\n",
    "print(reverse_list([1, 3, 6, 9, 10]))\n"
   ]
  },
  {
   "cell_type": "code",
   "execution_count": 28,
   "id": "bfacfcfc-e3a8-4b1c-b795-0aa473b2305e",
   "metadata": {},
   "outputs": [
    {
     "name": "stdin",
     "output_type": "stream",
     "text": [
      "Enter your digit 092384832561\n"
     ]
    },
    {
     "name": "stdout",
     "output_type": "stream",
     "text": [
      "Evens: 7, Odds: 5\n"
     ]
    }
   ],
   "source": [
    "def evens_and_odds(num):\n",
    "    even_count = 0\n",
    "    odd_count = 0\n",
    "    for digit in str(num):\n",
    "        if int(digit) % 2 == 0:\n",
    "            even_count += 1\n",
    "        else:\n",
    "            odd_count += 1\n",
    "    return f\"Evens: {even_count}, Odds: {odd_count}\"\n",
    "usern_input =input(\"Enter your digit\")\n",
    "print(evens_and_odds(usern_input))\n"
   ]
  },
  {
   "cell_type": "code",
   "execution_count": 29,
   "id": "03afc992-fe4e-4be7-acc5-ac9fc3e964d2",
   "metadata": {},
   "outputs": [
    {
     "name": "stdout",
     "output_type": "stream",
     "text": [
      "3.0\n"
     ]
    }
   ],
   "source": [
    "def calculate_mean(lst):\n",
    "    return sum(lst) / len(lst)\n",
    "\n",
    "print(calculate_mean([1, 2, 3, 4, 5]))\n",
    "\n"
   ]
  },
  {
   "cell_type": "code",
   "execution_count": 30,
   "id": "45900370-c9f9-454e-86e0-ca9156dd2caf",
   "metadata": {},
   "outputs": [
    {
     "name": "stdout",
     "output_type": "stream",
     "text": [
      "3\n"
     ]
    }
   ],
   "source": [
    "def calculate_median(lst):\n",
    "    lst.sort()\n",
    "    n = len(lst)\n",
    "    mid = n // 2\n",
    "    if n % 2 == 0:\n",
    "        return (lst[mid - 1] + lst[mid]) / 2\n",
    "    else:\n",
    "        return lst[mid]\n",
    "\n",
    "print(calculate_median([3, 1, 2, 5, 4]))\n"
   ]
  },
  {
   "cell_type": "code",
   "execution_count": 40,
   "id": "cdeb5874-c1c7-480d-a4fa-c95adac55ee6",
   "metadata": {},
   "outputs": [
    {
     "name": "stdout",
     "output_type": "stream",
     "text": [
      "[2, 3]\n"
     ]
    }
   ],
   "source": [
    "from collections import Counter\n",
    "\n",
    "def calculate_mode(lst):\n",
    "    counts = Counter(lst)\n",
    "    max_count = max(counts.values())\n",
    "    mode = [k for k, v in counts.items() if v == max_count]\n",
    "    return mode if len(mode) == 1 else mode  \n",
    "print(calculate_mode([1, 2, 2, 3, 3]))\n"
   ]
  },
  {
   "cell_type": "code",
   "execution_count": 41,
   "id": "ab45cca4-6029-4fd8-9d5b-34ea01e28536",
   "metadata": {},
   "outputs": [
    {
     "name": "stdout",
     "output_type": "stream",
     "text": [
      "4\n"
     ]
    }
   ],
   "source": [
    "def calculate_range(lst):\n",
    "    return max(lst) - min(lst)\n",
    "\n",
    "print(calculate_range([1, 2, 3, 4, 5]))\n"
   ]
  },
  {
   "cell_type": "code",
   "execution_count": 42,
   "id": "f377c420-44fe-4a17-a691-d1febf3dac42",
   "metadata": {},
   "outputs": [
    {
     "name": "stdout",
     "output_type": "stream",
     "text": [
      "2.0\n"
     ]
    }
   ],
   "source": [
    "def calculate_variance(lst):\n",
    "    mean = calculate_mean(lst)\n",
    "    return sum((x - mean) ** 2 for x in lst) / len(lst)\n",
    "\n",
    "print(calculate_variance([1, 2, 3, 4, 5]))\n"
   ]
  },
  {
   "cell_type": "code",
   "execution_count": 43,
   "id": "03067940-6438-4dd4-aa90-02a0b3c09572",
   "metadata": {},
   "outputs": [
    {
     "name": "stdout",
     "output_type": "stream",
     "text": [
      "1.4142135623730951\n"
     ]
    }
   ],
   "source": [
    "import math\n",
    "\n",
    "def calculate_std(lst):\n",
    "    variance = calculate_variance(lst)\n",
    "    return math.sqrt(variance)\n",
    "\n",
    "print(calculate_std([1, 2, 3, 4, 5]))\n"
   ]
  },
  {
   "cell_type": "code",
   "execution_count": 44,
   "id": "7fd90ca9-f866-4ec6-9316-6a8636af06e4",
   "metadata": {},
   "outputs": [
    {
     "name": "stdout",
     "output_type": "stream",
     "text": [
      "True\n",
      "False\n"
     ]
    }
   ],
   "source": [
    "def all_unique(lst):\n",
    "    return len(lst) == len(set(lst))\n",
    "\n",
    "print(all_unique([1, 2, 3, 4, 5]))  \n",
    "print(all_unique([1, 2, 2, 4, 5]))  \n"
   ]
  },
  {
   "cell_type": "code",
   "execution_count": 46,
   "id": "57948392-50dd-42e3-86aa-0d76dbcc51bf",
   "metadata": {},
   "outputs": [
    {
     "name": "stdout",
     "output_type": "stream",
     "text": [
      "True\n",
      "False\n"
     ]
    }
   ],
   "source": [
    "def same_data_type(lst):\n",
    "    return all(isinstance(i, type(lst[0])) for i in lst)\n",
    "\n",
    "print(same_data_type([1, 2, 3]))    \n",
    "print(same_data_type([1, b, 3]))  \n"
   ]
  },
  {
   "cell_type": "code",
   "execution_count": 47,
   "id": "ca1df3c6-e322-483d-991b-3bcbe8ad8725",
   "metadata": {},
   "outputs": [
    {
     "name": "stdout",
     "output_type": "stream",
     "text": [
      "True\n",
      "False\n"
     ]
    }
   ],
   "source": [
    "def is_valid_variable(name):\n",
    "    return name.isidentifier()\n",
    "\n",
    "print(is_valid_variable(\"variable1\"))  \n",
    "print(is_valid_variable(\"1variable\"))  \n"
   ]
  },
  {
   "cell_type": "code",
   "execution_count": 48,
   "id": "2af0c183-a83e-44ea-8b9f-57be08bebf76",
   "metadata": {},
   "outputs": [
    {
     "name": "stdout",
     "output_type": "stream",
     "text": [
      "3\n"
     ]
    }
   ],
   "source": [
    "def count_local(func):\n",
    "    return func.__code__.co_nlocals\n",
    "\n",
    "def example_function():\n",
    "    x = 10\n",
    "    y = 20\n",
    "    z = 30\n",
    "\n",
    "print(count_local(example_function))  \n"
   ]
  },
  {
   "cell_type": "code",
   "execution_count": null,
   "id": "d3e4adc3-061d-4238-b023-acde6d9207af",
   "metadata": {},
   "outputs": [],
   "source": []
  }
 ],
 "metadata": {
  "kernelspec": {
   "display_name": "Python 3 (ipykernel)",
   "language": "python",
   "name": "python3"
  },
  "language_info": {
   "codemirror_mode": {
    "name": "ipython",
    "version": 3
   },
   "file_extension": ".py",
   "mimetype": "text/x-python",
   "name": "python",
   "nbconvert_exporter": "python",
   "pygments_lexer": "ipython3",
   "version": "3.13.0"
  }
 },
 "nbformat": 4,
 "nbformat_minor": 5
}
