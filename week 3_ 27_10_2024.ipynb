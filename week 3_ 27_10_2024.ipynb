{
 "cells": [
  {
   "cell_type": "code",
   "execution_count": 1,
   "id": "dff8622b-ed5c-4acb-9b4d-415608dbf423",
   "metadata": {},
   "outputs": [
    {
     "name": "stdout",
     "output_type": "stream",
     "text": [
      "['apple', 'mango', 'banana', 'grapes']\n"
     ]
    }
   ],
   "source": [
    "favourite_fruit = [\"apple\", \"mango\", \"banana\", \"grapes\"]\n",
    "not_favourite = [\"blueberry\", \"Kiwi\", \"watermelon\", \"pomegranate\"]\n",
    "occasional_fruit = [\"orange\", \"papaya\", \"strawberry\", \"pineapple\"]\n",
    "print (favourite_fruit)"
   ]
  },
  {
   "cell_type": "code",
   "execution_count": 2,
   "id": "7521ad64-e82c-4d3f-9a1e-ec47c932fcf2",
   "metadata": {},
   "outputs": [
    {
     "name": "stdout",
     "output_type": "stream",
     "text": [
      "(1, 2, 3, 4, 5, 6, 7, 8)\n",
      "<class 'tuple'>\n"
     ]
    }
   ],
   "source": [
    "numbers=(1,2,3,4,5,6,7,8)\n",
    "print(numbers)\n",
    "print(type(numbers))"
   ]
  },
  {
   "cell_type": "code",
   "execution_count": 3,
   "id": "064db694-ed09-4f3f-83de-53e84b1b75d3",
   "metadata": {},
   "outputs": [
    {
     "data": {
      "text/plain": [
       "0"
      ]
     },
     "execution_count": 3,
     "metadata": {},
     "output_type": "execute_result"
    }
   ],
   "source": [
    "# only count and index appears with the tuple.\n",
    "# in tuples data requirement doesnt change , it stores it in the list format. best example username and password\n",
    "numbers.count(1)\n",
    "numbers.index(1)"
   ]
  },
  {
   "cell_type": "code",
   "execution_count": 4,
   "id": "f1e3f4fc-98e9-4996-97c8-2b587278cc6c",
   "metadata": {},
   "outputs": [
    {
     "ename": "AttributeError",
     "evalue": "'tuple' object has no attribute 'append'",
     "output_type": "error",
     "traceback": [
      "\u001b[1;31m---------------------------------------------------------------------------\u001b[0m",
      "\u001b[1;31mAttributeError\u001b[0m                            Traceback (most recent call last)",
      "Cell \u001b[1;32mIn[4], line 1\u001b[0m\n\u001b[1;32m----> 1\u001b[0m \u001b[43mnumbers\u001b[49m\u001b[38;5;241;43m.\u001b[39;49m\u001b[43mappend\u001b[49m(\u001b[38;5;241m9\u001b[39m)\n",
      "\u001b[1;31mAttributeError\u001b[0m: 'tuple' object has no attribute 'append'"
     ]
    }
   ],
   "source": [
    "numbers.append(9)"
   ]
  },
  {
   "cell_type": "code",
   "execution_count": null,
   "id": "334157e4-bc00-4bce-824b-6ec8da98d0bb",
   "metadata": {},
   "outputs": [],
   "source": [
    "numbers.insert(1,9)\n",
    "numbers.pop(9)\n",
    "print(numbers)"
   ]
  },
  {
   "cell_type": "code",
   "execution_count": null,
   "id": "2bf533d4-b653-4aec-8898-211cebe5d096",
   "metadata": {},
   "outputs": [],
   "source": [
    "#addition where 3+7=10, while this addition below is concatigation\n",
    "number1=(12,14,15,20,25,30,35,40)\n",
    "print(number1)\n",
    "number_list=number1+numbers\n",
    "print(number_list)"
   ]
  },
  {
   "cell_type": "code",
   "execution_count": null,
   "id": "85856e1c-5f8b-4ef6-a63f-bd8b1e232c43",
   "metadata": {},
   "outputs": [],
   "source": [
    "# for multiplication it will show the list three times.\n",
    "number1*3"
   ]
  },
  {
   "cell_type": "code",
   "execution_count": null,
   "id": "ef676daa-d4ba-434d-a561-be911ecf8eb4",
   "metadata": {},
   "outputs": [],
   "source": [
    "#concatigation example, negative number will not be supported\n",
    "'3'+'5'\n",
    "number1-numbers"
   ]
  },
  {
   "cell_type": "code",
   "execution_count": null,
   "id": "be6a8723-a2ab-4079-8b73-10b93744a8aa",
   "metadata": {},
   "outputs": [],
   "source": [
    "number1[2]"
   ]
  },
  {
   "cell_type": "code",
   "execution_count": null,
   "id": "2b07aeb9-c632-43d7-87d1-0f1ecfc3a5b6",
   "metadata": {},
   "outputs": [],
   "source": [
    "number1.index(35)"
   ]
  },
  {
   "cell_type": "code",
   "execution_count": null,
   "id": "fafcaa10-82d5-415a-bb18-2a671ab511eb",
   "metadata": {},
   "outputs": [],
   "source": [
    "#class = here if you will write the number1.index only it will show the method.\n",
    "#function = when you request so you have to answer. like number1.index (), where you have to return the association. fulfillment of arguments."
   ]
  },
  {
   "cell_type": "code",
   "execution_count": null,
   "id": "6dc5c04e-4d61-49ba-8608-61f91ce6d3ee",
   "metadata": {},
   "outputs": [],
   "source": [
    "numbers.index(2)"
   ]
  },
  {
   "cell_type": "code",
   "execution_count": null,
   "id": "cf833e46-6429-4163-b9ea-9d357a8d06cf",
   "metadata": {},
   "outputs": [],
   "source": [
    "number_list.index(2)"
   ]
  },
  {
   "cell_type": "code",
   "execution_count": null,
   "id": "3243e2c2-62cd-419e-9377-9a7ced2e266f",
   "metadata": {},
   "outputs": [],
   "source": [
    "favourite_fruit.append(numbers)"
   ]
  },
  {
   "cell_type": "code",
   "execution_count": null,
   "id": "20ee92a6-76a2-4e24-8895-c9deeaf7aa9f",
   "metadata": {},
   "outputs": [],
   "source": [
    "print(favourite_fruit)"
   ]
  },
  {
   "cell_type": "code",
   "execution_count": null,
   "id": "a0d4406d-c4f2-4eba-a5ba-5af97167cced",
   "metadata": {},
   "outputs": [],
   "source": [
    "numbers.append(favourite_fruit)"
   ]
  },
  {
   "cell_type": "code",
   "execution_count": null,
   "id": "58413431-0272-495e-9ce9-d4a361bc405d",
   "metadata": {},
   "outputs": [],
   "source": [
    "# tuple will add tuple, but concatenate list to list but not list to tuple.\n",
    "favourite_fruits= favourite_fruit+numbers\n",
    "print(favourite_fruits)"
   ]
  },
  {
   "cell_type": "code",
   "execution_count": null,
   "id": "759d44d1-2925-4683-96b0-1ab6e3098566",
   "metadata": {},
   "outputs": [],
   "source": [
    "min(number1)\n",
    "print(number1)\n",
    "max(number1)\n",
    "sorted(number1)"
   ]
  },
  {
   "cell_type": "code",
   "execution_count": null,
   "id": "ef4ae742-37a4-4f23-97ce-3b639b1d1616",
   "metadata": {},
   "outputs": [],
   "source": [
    "numbers = [19,20,25,30,40]\n",
    "print (numbers)"
   ]
  },
  {
   "cell_type": "code",
   "execution_count": null,
   "id": "5b0aafa2-5f3a-4f04-9ad5-54b3e47412f7",
   "metadata": {},
   "outputs": [],
   "source": [
    "min(numbers)"
   ]
  },
  {
   "cell_type": "code",
   "execution_count": null,
   "id": "66de3082-a990-4a77-a708-605762379503",
   "metadata": {},
   "outputs": [],
   "source": [
    "max(numbers)"
   ]
  },
  {
   "cell_type": "code",
   "execution_count": null,
   "id": "6128cc72-a32f-4b93-8a1a-91e5ed1c3844",
   "metadata": {},
   "outputs": [],
   "source": [
    "sorted(numbers, reverse = True)"
   ]
  },
  {
   "cell_type": "code",
   "execution_count": null,
   "id": "714a15ea-2758-4c6f-9759-b044c88409f9",
   "metadata": {},
   "outputs": [],
   "source": [
    "sorted(numbers, reverse = False)"
   ]
  },
  {
   "cell_type": "code",
   "execution_count": null,
   "id": "74e77bd8-c744-4d7f-82ac-9eccd2cb124b",
   "metadata": {},
   "outputs": [],
   "source": [
    "numbers.count\n",
    "print(numbers)"
   ]
  },
  {
   "cell_type": "code",
   "execution_count": null,
   "id": "6ecb8003-dff5-4af0-8459-17d5515e6beb",
   "metadata": {},
   "outputs": [],
   "source": [
    "sum(numbers)"
   ]
  },
  {
   "cell_type": "code",
   "execution_count": null,
   "id": "4eab6752-6b4f-4ad9-b8b3-0b876a13e656",
   "metadata": {},
   "outputs": [],
   "source": [
    "round(98.9)"
   ]
  },
  {
   "cell_type": "code",
   "execution_count": null,
   "id": "29bd19ff-b140-46f1-a7c9-7d0acf232f2a",
   "metadata": {},
   "outputs": [],
   "source": [
    "#multiple variable declaration, this is also called unpacking of a element of a tuple. The reason it shows its integer is that there are multiple variables which have designated numbers. if it was a tuple there will be single variable for all the numbers.\n",
    "#there is one rule of unpacking, there should be equal number of elements on both side.\n",
    "num1, num2, num3 = 6,67,45\n",
    "print(type(num1))\n",
    "print(num1, num2, num3)"
   ]
  },
  {
   "cell_type": "code",
   "execution_count": null,
   "id": "096bbbc0-f656-41ff-85ca-46de622f0a20",
   "metadata": {},
   "outputs": [],
   "source": [
    "# if you dont know how many elements are there in a tuple, use *others\n",
    "num1,*others = (6,67,45)\n",
    "print(type(num1))\n",
    "print(num1, others)"
   ]
  },
  {
   "cell_type": "code",
   "execution_count": null,
   "id": "daa17d9d-e2ce-40e2-930e-7267c5570cde",
   "metadata": {},
   "outputs": [],
   "source": [
    "# set is an unordered collection of items. every set elemement is unique (no duplicates). and must be immutable. set iteself is mutable but the elements are not mutable. However, a set itself is mutable. we can add or remove items from it. sets can also be used to perform mathematical set operations like union, intersection, symmetric difference, etc."
   ]
  },
  {
   "cell_type": "code",
   "execution_count": null,
   "id": "52864c1b-2456-4986-8a30-9c4d5fe7da36",
   "metadata": {},
   "outputs": [],
   "source": [
    " characterstics: unordered, mutable, no duplicates and cant contain mutable data types."
   ]
  },
  {
   "cell_type": "code",
   "execution_count": null,
   "id": "5f616e50-9855-420b-8b53-cefc9118fa1c",
   "metadata": {},
   "outputs": [],
   "source": [
    "#representations {}\n",
    "name={}\n",
    "type(name)"
   ]
  },
  {
   "cell_type": "code",
   "execution_count": null,
   "id": "71660be5-81a9-4e15-a22c-78619b43a712",
   "metadata": {},
   "outputs": [],
   "source": [
    "name=set()\n",
    "type(name)"
   ]
  },
  {
   "cell_type": "code",
   "execution_count": null,
   "id": "6ccaf041-7971-4f57-b44e-2eb13d383536",
   "metadata": {},
   "outputs": [],
   "source": [
    "s={5,3,3,4}\n",
    "print(s)\n"
   ]
  },
  {
   "cell_type": "code",
   "execution_count": null,
   "id": "ec41d195-0408-4a86-b689-32efdd3a217b",
   "metadata": {},
   "outputs": [],
   "source": [
    "#data types which are mutable cannot be part of the set within set or list. It will only take tuple which is mentined below\n",
    "s={5,3,3,4,(4,5)}\n",
    "\n"
   ]
  },
  {
   "cell_type": "code",
   "execution_count": null,
   "id": "86e642c5-8ff4-4a23-8868-6396167f2fb8",
   "metadata": {},
   "outputs": [],
   "source": [
    "s={5,3,3,4,[4,5]}"
   ]
  },
  {
   "cell_type": "code",
   "execution_count": null,
   "id": "4461d1f6-230b-443a-8e99-e23da24132ef",
   "metadata": {},
   "outputs": [],
   "source": [
    "s={5,3,3,4,{4,5}}"
   ]
  },
  {
   "cell_type": "code",
   "execution_count": null,
   "id": "4672533b-b4a4-400b-bd7b-73a6fb07630e",
   "metadata": {},
   "outputs": [],
   "source": [
    "#its unordered, set will give output according to its wish. There is no predefined.\n",
    "# in this True is 1, while false 0, since there are two \"1 and true\" in the set it will appear as once. \n",
    "s={1,\"Sajid\", 2.5, True}\n",
    "print(s)"
   ]
  },
  {
   "cell_type": "code",
   "execution_count": null,
   "id": "eae15994-c347-412b-899f-87a72b43c5cf",
   "metadata": {},
   "outputs": [],
   "source": [
    "s={1,\"Sajid\", 2.5, False}"
   ]
  },
  {
   "cell_type": "code",
   "execution_count": null,
   "id": "70c8636b-2f04-4885-a4a2-49637d660c32",
   "metadata": {},
   "outputs": [],
   "source": [
    "fruit=set(['apple','banana','cherry'])\n",
    "print(type(fruit))"
   ]
  },
  {
   "cell_type": "code",
   "execution_count": null,
   "id": "3a1f6eaf-daee-4874-b13e-4a0fc3f8acf0",
   "metadata": {},
   "outputs": [],
   "source": [
    "s1={1,2,3,4}\n",
    "s2={4,3,2,1}\n",
    "s1==s2"
   ]
  },
  {
   "cell_type": "code",
   "execution_count": null,
   "id": "bc0952d5-7fa5-42bf-bc41-af63dc0ce29c",
   "metadata": {},
   "outputs": [],
   "source": [
    "# Accessing Element, index function, its unordered so if we will ask them to index 0 it will not know what is at 0.\n",
    "print(s[0])"
   ]
  },
  {
   "cell_type": "code",
   "execution_count": null,
   "id": "777e74cb-d75c-4beb-959c-afcb76b06d48",
   "metadata": {},
   "outputs": [],
   "source": [
    "#same we cannot update, or neither we can insert in it. \n",
    "s[0]='banana' "
   ]
  },
  {
   "cell_type": "markdown",
   "id": "c6f62c8b-f7ae-4c4f-8a15-bf7cd6143898",
   "metadata": {},
   "source": [
    "# Addition"
   ]
  },
  {
   "cell_type": "code",
   "execution_count": 6,
   "id": "1c893405-ce47-4b0d-a160-5eb891344d44",
   "metadata": {},
   "outputs": [
    {
     "name": "stdout",
     "output_type": "stream",
     "text": [
      "{1, 2, 3, 4, 5}\n"
     ]
    }
   ],
   "source": [
    "S={1,2,3,4}\n",
    "#add\n",
    "S.add(5)\n",
    "print(S)"
   ]
  },
  {
   "cell_type": "code",
   "execution_count": 7,
   "id": "9962c20d-3ce5-48f5-8982-ffad444116c3",
   "metadata": {},
   "outputs": [
    {
     "name": "stdout",
     "output_type": "stream",
     "text": [
      "{1, 2, 3, 4, 5, 6, 7, 8}\n"
     ]
    }
   ],
   "source": [
    "#when we want to multiple values in a set we use update funciton. Set aese mutable items ko kabhi ane hi nahi dega, yahan list nazar nahi ayegi and transform it into immutable..\n",
    "S.update([6,7,8])\n",
    "print(S)"
   ]
  },
  {
   "cell_type": "code",
   "execution_count": 8,
   "id": "33518dcc-402f-4698-9205-ff2019db6c56",
   "metadata": {},
   "outputs": [
    {
     "name": "stdout",
     "output_type": "stream",
     "text": [
      "{1, 2, 3, 4, 5, 6, 7, 8, 9, 10, 11}\n"
     ]
    }
   ],
   "source": [
    "#same it will happen with tupple, that it will transform it into immutable list and show as one set. \n",
    "S.update((9,10,11))\n",
    "print(S)"
   ]
  },
  {
   "cell_type": "code",
   "execution_count": 9,
   "id": "63487471-42c2-4ef6-b9a6-954d2fdef3c0",
   "metadata": {},
   "outputs": [
    {
     "name": "stdout",
     "output_type": "stream",
     "text": [
      "{1, 2, 3, 4, 5, 6, 7, 8, 9, 10, 11, 12, 13, 14}\n"
     ]
    }
   ],
   "source": [
    "S.update([12,13,14])\n",
    "print(S)\n"
   ]
  },
  {
   "cell_type": "code",
   "execution_count": 10,
   "id": "6c668703-e67b-47a8-a338-712115b13d82",
   "metadata": {},
   "outputs": [
    {
     "name": "stdout",
     "output_type": "stream",
     "text": [
      "{1, 2, 3, 4, 5, 6, 7, 8, 9, 10, 11, 12, 13, 14, 'a', 'r', 'm', 'n', 'I'}\n"
     ]
    }
   ],
   "source": [
    "S.update(\"Imran\")\n",
    "print(S)\n"
   ]
  },
  {
   "cell_type": "code",
   "execution_count": 11,
   "id": "bd6019e4-422c-4c31-9855-908ead825a1a",
   "metadata": {},
   "outputs": [
    {
     "name": "stdout",
     "output_type": "stream",
     "text": [
      "{1, 2, 3, 4, 5, 6, 7, 8, 9, 10, 11, 12, 13, 14, 'a', 'r', 'm', 'n', 'Imran', 'I'}\n"
     ]
    }
   ],
   "source": [
    "S.update([\"Imran\"])\n",
    "print(S)"
   ]
  },
  {
   "cell_type": "code",
   "execution_count": 12,
   "id": "57fb615c-1d6b-4141-82e4-e8f6865e0580",
   "metadata": {},
   "outputs": [
    {
     "name": "stdout",
     "output_type": "stream",
     "text": [
      "{'Imran'}\n"
     ]
    }
   ],
   "source": [
    "name={\"Imran\"}\n",
    "print(name)"
   ]
  },
  {
   "cell_type": "code",
   "execution_count": 13,
   "id": "7dc67caa-52f1-4634-b337-a4d60908993b",
   "metadata": {},
   "outputs": [
    {
     "name": "stdout",
     "output_type": "stream",
     "text": [
      "{'K', 'n', 'Imran', 'a', 'h'}\n"
     ]
    }
   ],
   "source": [
    "name.update(\"Khan\")\n",
    "print(name)"
   ]
  },
  {
   "cell_type": "code",
   "execution_count": 14,
   "id": "f43d66ce-5ce2-4e4c-bd70-036b011dc951",
   "metadata": {},
   "outputs": [
    {
     "name": "stdout",
     "output_type": "stream",
     "text": [
      "{2, 3, 4, 5, 6, 7, 8, 9, 10, 11, 12, 13, 14, 'a', 'r', 'm', 'n', 'Imran', 'I'}\n"
     ]
    }
   ],
   "source": [
    "#it will pop any items from any where from set\n",
    "S.pop()\n",
    "print(S)"
   ]
  },
  {
   "cell_type": "code",
   "execution_count": 15,
   "id": "dc312c70-fe8e-4d33-9238-1183ca34dc1b",
   "metadata": {},
   "outputs": [
    {
     "name": "stdout",
     "output_type": "stream",
     "text": [
      "{2, 3, 4, 6, 7, 8, 9, 10, 11, 12, 13, 14, 'a', 'r', 'm', 'n', 'Imran', 'I'}\n"
     ]
    }
   ],
   "source": [
    "#it will think about the elements whether they are existing or not. If we will ask it to remove 58 it will give us an error that it doesnt exist.\n",
    "S.remove(5)\n",
    "print(S)"
   ]
  },
  {
   "cell_type": "code",
   "execution_count": 17,
   "id": "baea457d-a225-405f-afa3-005660b40b1e",
   "metadata": {},
   "outputs": [
    {
     "name": "stdout",
     "output_type": "stream",
     "text": [
      "{2, 3, 4, 6, 7, 8, 9, 10, 11, 12, 13, 'a', 'r', 'm', 'n', 'Imran', 'I'}\n"
     ]
    }
   ],
   "source": [
    "# discard function will only be used in the set, it has the capability to discard only elements which are exisitng in the set. It will not show any error if any elements are not present in the set.\n",
    "S.discard(14)\n",
    "print(S)"
   ]
  },
  {
   "cell_type": "code",
   "execution_count": 20,
   "id": "cf1a39c4-4979-4705-b9a2-7b8b4355f2a8",
   "metadata": {},
   "outputs": [
    {
     "name": "stdout",
     "output_type": "stream",
     "text": [
      "set()\n"
     ]
    }
   ],
   "source": [
    "S.clear()\n",
    "print(S)"
   ]
  },
  {
   "cell_type": "markdown",
   "id": "a6a8dd6d-bc7a-4e1b-b516-2370d47df4e0",
   "metadata": {},
   "source": [
    "# Operation in Set"
   ]
  },
  {
   "cell_type": "code",
   "execution_count": 22,
   "id": "6a2f6faf-fee8-48ac-ba63-ee54fcbe0a91",
   "metadata": {},
   "outputs": [
    {
     "name": "stdout",
     "output_type": "stream",
     "text": [
      "{2, 3, 4, 5, 6, 10, 12, 13}\n"
     ]
    }
   ],
   "source": [
    "#Union (|) - comparison of both set, add them, and present the collective output\n",
    "s3={2,3,4,5,6}\n",
    "s4={3,4,5,10,12,13}\n",
    "print(s3|s4)"
   ]
  },
  {
   "cell_type": "code",
   "execution_count": 24,
   "id": "35ead04a-d027-4000-9497-8e69b7c7b7ab",
   "metadata": {},
   "outputs": [
    {
     "name": "stdout",
     "output_type": "stream",
     "text": [
      "{3, 4, 5}\n"
     ]
    }
   ],
   "source": [
    "#intersection (&)\n",
    "print (s3&s4)"
   ]
  },
  {
   "cell_type": "code",
   "execution_count": 25,
   "id": "b3ccd7a1-f213-45a2-a41a-222504593f43",
   "metadata": {},
   "outputs": [
    {
     "name": "stdout",
     "output_type": "stream",
     "text": [
      "{2, 6}\n"
     ]
    }
   ],
   "source": [
    "#difference (-), the set on the left side will be written, only there remaining items will appear in output.\n",
    "print(s3-s4)"
   ]
  },
  {
   "cell_type": "code",
   "execution_count": 26,
   "id": "b478eb73-5979-4905-abcf-13322b6c99a6",
   "metadata": {},
   "outputs": [
    {
     "name": "stdout",
     "output_type": "stream",
     "text": [
      "{10, 12, 13}\n"
     ]
    }
   ],
   "source": [
    "print(s4-s3)"
   ]
  },
  {
   "cell_type": "code",
   "execution_count": 27,
   "id": "6c1d3cd1-3e0a-477c-85fc-99526cf42ed2",
   "metadata": {},
   "outputs": [
    {
     "name": "stdout",
     "output_type": "stream",
     "text": [
      "{2, 6, 10, 12, 13}\n"
     ]
    }
   ],
   "source": [
    "#symmetric Difference (^). all the items except those items which are common items in the intersection will appear in the intersection.\n",
    "print(s3^s4)"
   ]
  },
  {
   "cell_type": "code",
   "execution_count": 29,
   "id": "a551db18-efaf-49a0-bf38-0410fe1f18dd",
   "metadata": {},
   "outputs": [
    {
     "data": {
      "text/plain": [
       "True"
      ]
     },
     "execution_count": 29,
     "metadata": {},
     "output_type": "execute_result"
    }
   ],
   "source": [
    "#membership \n",
    "3 in s3"
   ]
  },
  {
   "cell_type": "code",
   "execution_count": 33,
   "id": "65cf745b-47ec-422a-a8cc-29fd96e77ee5",
   "metadata": {},
   "outputs": [
    {
     "name": "stdout",
     "output_type": "stream",
     "text": [
      "6\n",
      "22\n",
      "1\n",
      "7\n",
      "[7, 5, 4, 3, 2, 1]\n"
     ]
    }
   ],
   "source": [
    "#len/sum/min/max/sorted\n",
    "s={3,1,4,5,2,7}\n",
    "print(len(s))\n",
    "print(sum(s))\n",
    "print(min(s))\n",
    "print(max(s))\n",
    "print(sorted(s,reverse=True))      "
   ]
  },
  {
   "cell_type": "code",
   "execution_count": 34,
   "id": "82d564ad-09e5-4075-98c3-9836cfae5309",
   "metadata": {},
   "outputs": [
    {
     "name": "stdout",
     "output_type": "stream",
     "text": [
      "{1, 2, 3, 4, 5, 6, 7, 8}\n",
      "{4, 5, 6, 7, 8}\n"
     ]
    }
   ],
   "source": [
    "#union/update\n",
    "s1 = {1,2,3,4,5}\n",
    "s2= {4,5,6,7,8}\n",
    "\n",
    "#s1|s2\n",
    "s1.union(s2)\n",
    "s1.update(s2)\n",
    "print(s1)\n",
    "print(s2)"
   ]
  },
  {
   "cell_type": "code",
   "execution_count": 39,
   "id": "4fe91573-2b8f-4d3e-8b36-23b97f66067d",
   "metadata": {},
   "outputs": [
    {
     "data": {
      "text/plain": [
       "False"
      ]
     },
     "execution_count": 39,
     "metadata": {},
     "output_type": "execute_result"
    }
   ],
   "source": [
    "#isdisjoint (completely different, not a single common element), issubset (parent Child), issuperset \n",
    "\n",
    "s1.isdisjoint(s2)\n"
   ]
  },
  {
   "cell_type": "code",
   "execution_count": 43,
   "id": "83cac751-e945-4a5f-8a2c-b6252137eaa1",
   "metadata": {},
   "outputs": [
    {
     "data": {
      "text/plain": [
       "False"
      ]
     },
     "execution_count": 43,
     "metadata": {},
     "output_type": "execute_result"
    }
   ],
   "source": [
    "s1.issubset(s2)\n"
   ]
  },
  {
   "cell_type": "code",
   "execution_count": 42,
   "id": "10a79ee6-f6fc-4598-b7ed-ba22d7ec5c8c",
   "metadata": {},
   "outputs": [
    {
     "data": {
      "text/plain": [
       "True"
      ]
     },
     "execution_count": 42,
     "metadata": {},
     "output_type": "execute_result"
    }
   ],
   "source": [
    "s2.issubset(s1)\n"
   ]
  },
  {
   "cell_type": "code",
   "execution_count": 40,
   "id": "b9d7cfd7-6b5e-4b4b-ba62-a705d12da55c",
   "metadata": {},
   "outputs": [
    {
     "data": {
      "text/plain": [
       "True"
      ]
     },
     "execution_count": 40,
     "metadata": {},
     "output_type": "execute_result"
    }
   ],
   "source": [
    "s1.issuperset(s2)"
   ]
  },
  {
   "cell_type": "code",
   "execution_count": 47,
   "id": "659d685f-fe1f-44d4-9143-4c8def3d264d",
   "metadata": {},
   "outputs": [
    {
     "name": "stdout",
     "output_type": "stream",
     "text": [
      "frozenset({1, 2, 3})\n"
     ]
    }
   ],
   "source": [
    "#create a Frozen Set . we can add frozen set into a frozen set. \n",
    "fs1=frozenset([1,2,3])\n",
    "print(fs1)\n"
   ]
  },
  {
   "cell_type": "code",
   "execution_count": 51,
   "id": "043173b2-32b4-4005-b19c-c20555b04526",
   "metadata": {},
   "outputs": [
    {
     "ename": "AttributeError",
     "evalue": "'frozenset' object has no attribute 'update'",
     "output_type": "error",
     "traceback": [
      "\u001b[1;31m---------------------------------------------------------------------------\u001b[0m",
      "\u001b[1;31mAttributeError\u001b[0m                            Traceback (most recent call last)",
      "Cell \u001b[1;32mIn[51], line 2\u001b[0m\n\u001b[0;32m      1\u001b[0m \u001b[38;5;66;03m#transforming immutable items into mutable.\u001b[39;00m\n\u001b[1;32m----> 2\u001b[0m \u001b[43mfs1\u001b[49m\u001b[38;5;241;43m.\u001b[39;49m\u001b[43mupdate\u001b[49m([\u001b[38;5;241m4\u001b[39m,\u001b[38;5;241m5\u001b[39m,\u001b[38;5;241m6\u001b[39m])\n\u001b[0;32m      3\u001b[0m \u001b[38;5;28mprint\u001b[39m(fs1)\n",
      "\u001b[1;31mAttributeError\u001b[0m: 'frozenset' object has no attribute 'update'"
     ]
    }
   ],
   "source": [
    "fs1.update([4,5,6])\n",
    "print(fs1)\n"
   ]
  },
  {
   "cell_type": "code",
   "execution_count": 52,
   "id": "d1b21a4b-d703-42ae-ba12-6c17fea3cfae",
   "metadata": {},
   "outputs": [
    {
     "name": "stdout",
     "output_type": "stream",
     "text": [
      "frozenset({4, 5, 6})\n"
     ]
    }
   ],
   "source": [
    "fs2=frozenset([4,5,6])\n",
    "print(fs2)\n"
   ]
  },
  {
   "cell_type": "code",
   "execution_count": 53,
   "id": "55c4f982-413d-4774-ae54-dc24c1de5653",
   "metadata": {},
   "outputs": [
    {
     "data": {
      "text/plain": [
       "frozenset({1, 2, 3, 4, 5, 6})"
      ]
     },
     "execution_count": 53,
     "metadata": {},
     "output_type": "execute_result"
    }
   ],
   "source": [
    "fs1.union(fs2)"
   ]
  },
  {
   "cell_type": "code",
   "execution_count": null,
   "id": "45842525-68db-4c25-9e03-78122ecbf830",
   "metadata": {},
   "outputs": [],
   "source": []
  }
 ],
 "metadata": {
  "kernelspec": {
   "display_name": "Python 3 (ipykernel)",
   "language": "python",
   "name": "python3"
  },
  "language_info": {
   "codemirror_mode": {
    "name": "ipython",
    "version": 3
   },
   "file_extension": ".py",
   "mimetype": "text/x-python",
   "name": "python",
   "nbconvert_exporter": "python",
   "pygments_lexer": "ipython3",
   "version": "3.13.0"
  }
 },
 "nbformat": 4,
 "nbformat_minor": 5
}
