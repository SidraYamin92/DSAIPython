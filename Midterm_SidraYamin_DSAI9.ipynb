{
 "cells": [
  {
   "cell_type": "raw",
   "id": "81141ae2-5be9-4168-9587-aa88f12400a3",
   "metadata": {},
   "source": [
    "1-fruits = ['apple', 'banana';, &#39;cherry&#39;, &#39;date&#39;]\n",
    "(a) What does the method fruits.append(&#39;elderberry&#39;) do to the list?\n",
    "(b) What does the method fruits.remove(&#39;banana&#39;) do to the list?\n",
    "(c)What is the output of fruits.pop(2)? What will the list look like after this operation?]"
   ]
  },
  {
   "cell_type": "code",
   "execution_count": 1,
   "id": "6885c5b6-942f-4ba4-a371-c42d29ade3da",
   "metadata": {},
   "outputs": [],
   "source": [
    "fruits = ['apple', 'banana', 'cherry', 'date']"
   ]
  },
  {
   "cell_type": "code",
   "execution_count": 2,
   "id": "f638c13d-d65b-4160-b9aa-c32e18de3c11",
   "metadata": {},
   "outputs": [
    {
     "name": "stdout",
     "output_type": "stream",
     "text": [
      "It will add elderberry fruits in the end of the list: ['apple', 'banana', 'cherry', 'date', 'elderberry']\n"
     ]
    }
   ],
   "source": [
    "fruits.append('elderberry')\n",
    "print('It will add elderberry fruits in the end of the list:', fruits)"
   ]
  },
  {
   "cell_type": "code",
   "execution_count": 3,
   "id": "40749861-2732-44fd-8239-1cd9a9f30b8b",
   "metadata": {},
   "outputs": [
    {
     "name": "stdout",
     "output_type": "stream",
     "text": [
      "This method will remove banana from the list ['apple', 'cherry', 'date', 'elderberry']\n"
     ]
    }
   ],
   "source": [
    "fruits.remove('banana')\n",
    "print('This method will remove banana from the list', fruits)"
   ]
  },
  {
   "cell_type": "code",
   "execution_count": 4,
   "id": "7c78c106-0ff1-4923-b4f9-a1c1b220402b",
   "metadata": {},
   "outputs": [
    {
     "data": {
      "text/plain": [
       "'date'"
      ]
     },
     "execution_count": 4,
     "metadata": {},
     "output_type": "execute_result"
    }
   ],
   "source": [
    "#it will remove the fruit present at second index. \n",
    "fruits.pop(2)"
   ]
  },
  {
   "cell_type": "raw",
   "id": "9225e9dc-9fc2-4e1c-a215-10cc4fa584ff",
   "metadata": {},
   "source": [
    "2- Write a Python script that asks the user for their name and age, stores them in variables,\n",
    "and then prints a message saying \"Hello [name], you are [age] years old\"\n"
   ]
  },
  {
   "cell_type": "code",
   "execution_count": 5,
   "id": "fe48f48b-0d36-421d-9a1d-592b315dda92",
   "metadata": {},
   "outputs": [
    {
     "name": "stdin",
     "output_type": "stream",
     "text": [
      "Write your Name Sidra Yamin\n",
      "Write your age 32\n"
     ]
    },
    {
     "name": "stdout",
     "output_type": "stream",
     "text": [
      "hello Sidra Yamin you are 32 Years old\n"
     ]
    }
   ],
   "source": [
    "Name=input('Write your Name')\n",
    "Age=input('Write your age')\n",
    "print(\"hello\", Name, \"you are\", Age, \"Years old\")\n"
   ]
  },
  {
   "cell_type": "raw",
   "id": "0fd352b1-eca1-420a-9e1c-bf0a1f18ff0f",
   "metadata": {},
   "source": [
    "3- Write a Python script that checks if a number entered in a variable num by a user is\n",
    "positive, negative, or zero,or check if a user enter any invalid character and prints an\n",
    "appropriate message for each case.\n"
   ]
  },
  {
   "cell_type": "code",
   "execution_count": 20,
   "id": "9745b7b5-0687-4d63-96a7-03caef5415d2",
   "metadata": {},
   "outputs": [
    {
     "name": "stdin",
     "output_type": "stream",
     "text": [
      "num 98\n"
     ]
    },
    {
     "name": "stdout",
     "output_type": "stream",
     "text": [
      "is a positive number.\n"
     ]
    }
   ],
   "source": [
    "num = (input('num'))  \n",
    "if num.replace(\".\",\"\").replace(\"-\",\"\").replace(\"+\",\"\").isdigit():\n",
    "    num=float(num)\n",
    "    if num>0:\n",
    "        print(\"is a positive number.\")  \n",
    "    elif num <0:\n",
    "        print(\"is a negative number.\")\n",
    "    elif num==0:\n",
    "        print(\"The number is zero.\")\n",
    "    else:\n",
    "        print(\"Number Enter is Invalid\")\n",
    "       \n",
    "    \n"
   ]
  },
  {
   "cell_type": "raw",
   "id": "7cae602c-caaf-4b17-a567-7b599c6eb868",
   "metadata": {},
   "source": [
    "The diameter of a circle is 15 meters.\n",
    "i-Calculate the area of a circle and assign the value to a variable name of area_of_circle\n",
    "ii- Calculate the circumference of a circle and assign the value to a variable name of\n",
    "circum_of_circle\n",
    "iii- Take diameter as user input and calculate the area.\n"
   ]
  },
  {
   "cell_type": "code",
   "execution_count": 28,
   "id": "f899b871-ae18-4a04-8894-96250942c4fa",
   "metadata": {},
   "outputs": [
    {
     "name": "stdout",
     "output_type": "stream",
     "text": [
      "7.5\n"
     ]
    }
   ],
   "source": [
    "diameter= 15\n",
    "Radius = diameter/2\n",
    "print(Radius)\n"
   ]
  },
  {
   "cell_type": "code",
   "execution_count": 31,
   "id": "5f820dda-867b-49a7-84d2-4b8e23644ea5",
   "metadata": {},
   "outputs": [
    {
     "name": "stdout",
     "output_type": "stream",
     "text": [
      "601.3582809811807\n"
     ]
    }
   ],
   "source": [
    "area_of_circle= 2*2.14**Radius\n",
    "print(area_of_circle)"
   ]
  },
  {
   "cell_type": "code",
   "execution_count": 32,
   "id": "9f43e5cb-3513-47f2-9dfc-fb828e93b821",
   "metadata": {},
   "outputs": [
    {
     "name": "stdout",
     "output_type": "stream",
     "text": [
      "32.1\n"
     ]
    }
   ],
   "source": [
    "area_of_circumference_of_circle=2*2.14*Radius\n",
    "print(area_of_circumference_of_circle)"
   ]
  },
  {
   "cell_type": "code",
   "execution_count": 35,
   "id": "9cb46adb-6dd9-4ccd-b89a-c82469127564",
   "metadata": {},
   "outputs": [
    {
     "name": "stdin",
     "output_type": "stream",
     "text": [
      "Enter Diameter 20\n"
     ]
    },
    {
     "name": "stdout",
     "output_type": "stream",
     "text": [
      "42.800000000000004\n"
     ]
    }
   ],
   "source": [
    "Diameter=int(input('Enter Diameter'))\n",
    "Radius = Diameter/2\n",
    "area_of_circle= 2*2.14**Radius\n",
    "area_of_circumference_of_circle=2*2.14*Radius\n",
    "print(area_of_circumference_of_circle)"
   ]
  },
  {
   "cell_type": "raw",
   "id": "bc8c96a7-ae7b-4820-9a23-bd5dc2ddf39c",
   "metadata": {},
   "source": [
    "6-A travel company wants to fly a plane to the Bahamas. Flying the plane costs 5000\n",
    "dollars. So far, 29 people have signed up for the trip. If the company charges 200 dollars\n",
    "per ticket, what is the profit made by the company? Create variables for each numeric\n",
    "quantity and use appropriate arithmetic operations.\n"
   ]
  },
  {
   "cell_type": "code",
   "execution_count": 36,
   "id": "f84bf122-23a6-482f-a913-9da32d954bdd",
   "metadata": {},
   "outputs": [
    {
     "name": "stdout",
     "output_type": "stream",
     "text": [
      "800\n"
     ]
    }
   ],
   "source": [
    "Flying_cost= 5000\n",
    "number_of_people= 29\n",
    "individual_charges= 200\n",
    "Total_income = individual_charges*number_of_people\n",
    "Profit = Total_income-Flying_cost\n",
    "print(Profit)\n"
   ]
  },
  {
   "cell_type": "raw",
   "id": "f14b78c0-43d7-4c97-97b5-1508c2fe0899",
   "metadata": {},
   "source": [
    "8- Write a Python program that performs the following steps:\n",
    "1. Email Format Validation:\n",
    "o Ask the user to enter their email address.\n",
    "o Verify if the email address is in a valid format (e.g., username@domain.com).\n",
    "You can use a regular expression to check the validity of the email format.\n",
    "\n",
    "2. Credentials Check:\n",
    "o If the email format is valid, prompt the user to enter their username and\n",
    "password.\n",
    "o Check if the entered username and password match the stored credentials\n",
    "(hardcode a username and password for the purpose of this task).\n",
    "o If the credentials are correct, display a welcome message.\n",
    "3. Retry on Incorrect Password:\n",
    "o If the password entered is incorrect, give the user one more chance to enter\n",
    "the correct password.\n",
    "o If the second attempt also fails, display a message indicating that the login\n",
    "has failed.\n",
    "Username: ahmed@gmail.com\n",
    "Password:ahmed@321"
   ]
  },
  {
   "cell_type": "code",
   "execution_count": 49,
   "id": "c616ec9a-0674-46b2-b787-53a3c5b765fb",
   "metadata": {},
   "outputs": [
    {
     "name": "stdin",
     "output_type": "stream",
     "text": [
      "Type your username:  ahmed@gmail.com\n"
     ]
    },
    {
     "name": "stdout",
     "output_type": "stream",
     "text": [
      "Your Email is Valid\n"
     ]
    },
    {
     "name": "stdin",
     "output_type": "stream",
     "text": [
      "Enter password ahmed@321\n"
     ]
    },
    {
     "name": "stdout",
     "output_type": "stream",
     "text": [
      "Welcome to Gmail\n"
     ]
    }
   ],
   "source": [
    "correct_username=\"ahmed@gmail.com\"\n",
    "correct_password=\"ahmed@321\"\n",
    "\n",
    "username=input('Type your username: ')\n",
    "if \"@\" not in username or \".\" not in username:\n",
    "    print (\"Error username @ or . is missing\")\n",
    "else:\n",
    "    print(\"Your Email is Valid\")\n",
    "    password=input('Enter password')\n",
    "    \n",
    "if username==correct_username and password != correct_password:\n",
    "    print('Incorrect password. Try Again')\n",
    "    password==input('Enter password again')\n",
    "    if password=='ahmed@321' :\n",
    "        print(\"Now welcome after one attempt\")\n",
    "    else:\n",
    "        print(\"Login has Failed\")\n",
    "      \n",
    "else:\n",
    "    print('Welcome to Gmail')"
   ]
  },
  {
   "cell_type": "raw",
   "id": "0f016614-db42-48cc-aac5-0d95a4e00d14",
   "metadata": {},
   "source": [
    "9- (a) Working with Tuples:\n",
    "Consider the following tuple:\n",
    "coordinates = (12.5, 45.8, 33.1)\n",
    "i. Write a Python code snippet to unpack the values of the coordinates tuple into three\n",
    "variables: x, y, and z.\n",
    "ii. Explain why tuples are generally preferred over lists for storing fixed sets of data.\n",
    "(b) Working with Dictionaries:\n",
    "student_scores = {'Ali':85,'Saima': 90, 'Kabeer': 78}\n",
    "i. Write a Python code snippet to add a new student Ahmed with a score of 92 to the\n",
    "student_scores dictionary.\n",
    "ii. Write a Python code snippet to update Kabeer&#39;s score to 82 in the student_scores\n",
    "dictionary.\n"
   ]
  },
  {
   "cell_type": "code",
   "execution_count": 55,
   "id": "75d63512-1647-4a22-a15f-8929a91a9cab",
   "metadata": {},
   "outputs": [
    {
     "name": "stdout",
     "output_type": "stream",
     "text": [
      "x = 12.5\n",
      "y = 45.8\n",
      "z = 33.1\n"
     ]
    }
   ],
   "source": [
    "coordinates = (12.5, 45.8, 33.1)\n",
    "x,y,z = coordinates\n",
    "print(\"x =\", x)\n",
    "print(\"y =\", y)\n",
    "print(\"z =\", z)"
   ]
  },
  {
   "cell_type": "code",
   "execution_count": 56,
   "id": "1564e793-fdd2-4a7d-ac30-dd07951156ed",
   "metadata": {},
   "outputs": [
    {
     "name": "stdout",
     "output_type": "stream",
     "text": [
      "{'Ali': 85, 'Saima': 90, 'Kabeer': 78, 'Ahmed': 92}\n"
     ]
    }
   ],
   "source": [
    "student_scores = {'Ali':85,'Saima': 90, 'Kabeer': 78}\n",
    "student_scores ['Ahmed'] = 92\n",
    "print (student_scores)"
   ]
  },
  {
   "cell_type": "code",
   "execution_count": 57,
   "id": "d5713efe-a41f-4353-a761-70fc6c80c24e",
   "metadata": {},
   "outputs": [
    {
     "name": "stdout",
     "output_type": "stream",
     "text": [
      "{'Ali': 85, 'Saima': 90, 'Kabeer': 82, 'Ahmed': 92}\n"
     ]
    }
   ],
   "source": [
    "student_scores ['Kabeer'] = 82\n",
    "print(student_scores)"
   ]
  },
  {
   "cell_type": "raw",
   "id": "6ed94b62-127a-40b4-8d22-108771829281",
   "metadata": {},
   "source": [
    "4-operators like / and * take precedence over other operators like + and - as per\n",
    "mathematical conventions. You can use parentheses, i.e. ( and ), to specify the order in\n",
    "which operations are performed\n",
    "2 ? 5 ? 17 ? 3 ? 4 ? 3\n",
    "Answer : 1.53125\n"
   ]
  },
  {
   "cell_type": "code",
   "execution_count": 97,
   "id": "8e6fdadd-1a12-4b7a-9ed2-e181a54d03f9",
   "metadata": {},
   "outputs": [
    {
     "data": {
      "text/plain": [
       "1.333333333333333"
      ]
     },
     "execution_count": 97,
     "metadata": {},
     "output_type": "execute_result"
    }
   ],
   "source": [
    "(2+5)-(17/3)/(4-3)"
   ]
  },
  {
   "cell_type": "code",
   "execution_count": null,
   "id": "c3021fb0-9f27-401e-b6e9-8a1117a32afa",
   "metadata": {},
   "outputs": [],
   "source": []
  }
 ],
 "metadata": {
  "kernelspec": {
   "display_name": "Python 3 (ipykernel)",
   "language": "python",
   "name": "python3"
  },
  "language_info": {
   "codemirror_mode": {
    "name": "ipython",
    "version": 3
   },
   "file_extension": ".py",
   "mimetype": "text/x-python",
   "name": "python",
   "nbconvert_exporter": "python",
   "pygments_lexer": "ipython3",
   "version": "3.13.0"
  }
 },
 "nbformat": 4,
 "nbformat_minor": 5
}
