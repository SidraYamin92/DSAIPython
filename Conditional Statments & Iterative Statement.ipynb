{
 "cells": [
  {
   "cell_type": "code",
   "execution_count": 1,
   "id": "09899ebe-129d-46c3-938f-6faf752c9104",
   "metadata": {},
   "outputs": [
    {
     "name": "stdout",
     "output_type": "stream",
     "text": [
      "You are 18 years old\n",
      "I am outisde if block\n"
     ]
    }
   ],
   "source": [
    "# Conditional Statement, colon is mandatory\n",
    "\n",
    "# if, else\n",
    "age = 18\n",
    "if age>18:\n",
    "    print(\"You can cast a Vote\")\n",
    "elif age ==18:\n",
    "    print(\"You are 18 years old\")\n",
    "else:\n",
    "    print(\"You can not cast a Vote\")\n",
    "print(\"I am outisde if block\")"
   ]
  },
  {
   "cell_type": "code",
   "execution_count": 2,
   "id": "b1caacdd-9ca3-4545-a13a-2cf639ef6330",
   "metadata": {},
   "outputs": [
    {
     "name": "stdin",
     "output_type": "stream",
     "text": [
      "Enter Your Age 89\n"
     ]
    },
    {
     "name": "stdout",
     "output_type": "stream",
     "text": [
      "You can cast a Vote\n",
      "I am outisde if block\n"
     ]
    }
   ],
   "source": [
    "age = int(input(\"Enter Your Age\"))\n",
    "if age>18:\n",
    "    print(\"You can cast a Vote\")\n",
    "elif age ==18:\n",
    "    print(\"You are 18 years old\")\n",
    "else:\n",
    "    print(\"You can not cast a Vote\")\n",
    "print(\"I am outisde if block\")"
   ]
  },
  {
   "cell_type": "code",
   "execution_count": 3,
   "id": "f47fbe33-aa3c-44b6-9b44-42c0a9bf40f2",
   "metadata": {},
   "outputs": [
    {
     "name": "stdin",
     "output_type": "stream",
     "text": [
      "Enter your Name: sidra\n"
     ]
    },
    {
     "name": "stdout",
     "output_type": "stream",
     "text": [
      "username is Good\n"
     ]
    }
   ],
   "source": [
    "user_name= input(\"Enter your Name:\")\n",
    "if len(user_name) >10:\n",
    "    print(\"User name too Big\")\n",
    "elif len(user_name) ==8:\n",
    "    print(\"Username length is Good\")\n",
    "else:\n",
    "    print(\"username is Good\")"
   ]
  },
  {
   "cell_type": "code",
   "execution_count": 4,
   "id": "21dde523-cbc5-4e15-87db-cffcc53d490c",
   "metadata": {},
   "outputs": [
    {
     "name": "stdin",
     "output_type": "stream",
     "text": [
      "Enter your Number1: 12\n",
      "Enter your Number2: 23\n",
      "Enter your Number3: 34\n"
     ]
    },
    {
     "name": "stdout",
     "output_type": "stream",
     "text": [
      "number 3 is largest 34\n"
     ]
    }
   ],
   "source": [
    "numbers1=int(input(\"Enter your Number1:\"))\n",
    "numbers2=int(input(\"Enter your Number2:\"))\n",
    "numbers3=int(input(\"Enter your Number3:\"))\n",
    "if numbers1>numbers2 and numbers1>numbers3 :\n",
    "    print(\"number 1 is largest\", numbers1)\n",
    "elif numbers2>numbers3 :\n",
    "    print(\"number 2 is largest\", numbers2)\n",
    "else:\n",
    "    print(\"number 3 is largest\", numbers3)\n",
    "\n",
    "\n",
    "    "
   ]
  },
  {
   "cell_type": "code",
   "execution_count": 5,
   "id": "dea94d62-f4b9-4ff6-a2c2-92c3f2eddb83",
   "metadata": {},
   "outputs": [
    {
     "name": "stdin",
     "output_type": "stream",
     "text": [
      "Enter a number:  23\n"
     ]
    },
    {
     "name": "stdout",
     "output_type": "stream",
     "text": [
      "The number is positive.\n"
     ]
    }
   ],
   "source": [
    "user_input = input(\"Enter a number: \")\n",
    "\n",
    "if user_input.replace(\".\",\"\").replace(\"-\",\"\").replace(\"+\",\"\").isdigit():\n",
    "  # Check if input is a digit\n",
    "    num = float(user_input)\n",
    "    if num > 0:\n",
    "        print(\"The number is positive.\")\n",
    "    elif num == 0:\n",
    "        print(\"The number is zero.\")\n",
    "    else:\n",
    "        print(\"The number is negative.\")\n",
    "else:\n",
    "    print(\"Enter a valid number.\")"
   ]
  },
  {
   "cell_type": "code",
   "execution_count": 6,
   "id": "a328a401-71c0-4b27-9f48-46c7d00e5be9",
   "metadata": {},
   "outputs": [
    {
     "name": "stdin",
     "output_type": "stream",
     "text": [
      "Enter Your User Name:  sidra\n",
      "Enter Your password:  yami\n"
     ]
    },
    {
     "name": "stdout",
     "output_type": "stream",
     "text": [
      "Invalid Credentials\n"
     ]
    }
   ],
   "source": [
    "user_input1 = input(\"Enter Your User Name: \")\n",
    "user_input2 = input(\"Enter Your password: \")\n",
    "\n",
    "if user_input1=='sidrayamin' and user_input2=='12345' :\n",
    "    print(\"Welcome to Your Mail\")\n",
    "else :\n",
    "    print(\"Invalid Credentials\")"
   ]
  },
  {
   "cell_type": "code",
   "execution_count": 19,
   "id": "a4541e3a-6386-4f70-a025-b3ffe95994ff",
   "metadata": {},
   "outputs": [
    {
     "name": "stdin",
     "output_type": "stream",
     "text": [
      "Type your username:  sidra\n",
      "Enter your Password:  12345\n"
     ]
    },
    {
     "name": "stdout",
     "output_type": "stream",
     "text": [
      "Incorrect password. Try Again\n"
     ]
    },
    {
     "name": "stdin",
     "output_type": "stream",
     "text": [
      "Enter password again 12345\n"
     ]
    },
    {
     "name": "stdout",
     "output_type": "stream",
     "text": [
      "Now welcome after one attempt\n"
     ]
    }
   ],
   "source": [
    "#if password is wrong and ask password input again. and if the correct welcome and if wrong then ask to write again username and password.\n",
    "#nested if phenomenon\n",
    "\n",
    "correct_username=\"SidraYamin\"\n",
    "correct_password=\"12345\"\n",
    "\n",
    "username=input('Type your username: ')\n",
    "password=input('Enter your Password: ')\n",
    "\n",
    "if username==correct_username and password != correct_password:\n",
    "    print('Incorrect username. Try Again')\n",
    "    \n",
    "elif username!=correct_username and password == correct_password:\n",
    "    print('Incorrect password. Try Again')\n",
    "    password==input('Enter password again')\n",
    "    if password=='12345' :\n",
    "        print(\"Now welcome after one attempt\")\n",
    "    else:\n",
    "        print(\"your password is incorrect\")\n",
    "      \n",
    "else:\n",
    "    print('incorrect username or password')\n",
    "          \n",
    "    "
   ]
  },
  {
   "cell_type": "code",
   "execution_count": 23,
   "id": "88b37984-6967-47e7-8077-b152fc4e3d7b",
   "metadata": {},
   "outputs": [
    {
     "name": "stdin",
     "output_type": "stream",
     "text": [
      "Type your username:  SidraYamin\n"
     ]
    },
    {
     "name": "stdout",
     "output_type": "stream",
     "text": [
      "Error username @ or . is missing\n",
      "incorrect username or password\n"
     ]
    }
   ],
   "source": [
    "correct_username=\"SidraYamin@gmail.com\"\n",
    "correct_password=\"12345\"\n",
    "\n",
    "username=input('Type your username: ')\n",
    "if \"@\" not in username or \".\" not in username:\n",
    "    print (\"Error username @ or . is missing\")\n",
    "else:\n",
    "    print(\"Your Valid Email\")\n",
    "    \n",
    "if username!=correct_username and password == correct_password:\n",
    "    print('Incorrect password. Try Again')\n",
    "    password==input('Enter password again')\n",
    "    if password=='12345' :\n",
    "        print(\"Now welcome after one attempt\")\n",
    "    else:\n",
    "        print(\"your password is incorrect\")\n",
    "      \n",
    "else:\n",
    "    print('incorrect username or password')\n",
    "\n"
   ]
  },
  {
   "cell_type": "code",
   "execution_count": 27,
   "id": "96bc494f-b722-41df-9d68-0cf7ecea04fc",
   "metadata": {},
   "outputs": [
    {
     "name": "stdin",
     "output_type": "stream",
     "text": [
      "Enter Your Electricity Unit 250\n"
     ]
    },
    {
     "name": "stdout",
     "output_type": "stream",
     "text": [
      "totalbill 6600\n"
     ]
    }
   ],
   "source": [
    "#takes no of unit from a consumer\n",
    "#if no of unit less then 150, perunit charge = 15, fix charges 250\n",
    "#if no of unit greater then 150 and less then 250, perunit charge = 25, fix charges 350\n",
    "#if no of unit greater then 250 and less then 350, perunit charge = 35, fix charges 450\n",
    "#if no of unit greater then 350,  perunit charge = 45, fix charges 1000\n",
    "#total bill = amount pay(no of unit consumed * cost of a unit)\" fix charges\n",
    "\n",
    "\n",
    "units=int(input('Enter Your Electricity Unit'))\n",
    "if units <150:\n",
    "    puc = 15\n",
    "    fc = 250\n",
    "elif units <= 250:\n",
    "    puc = 25\n",
    "    fc = 350\n",
    "elif units <= 350:\n",
    "    puc = 35\n",
    "    fc = 450\n",
    "else:\n",
    "    puc = 45\n",
    "    fc =1000\n",
    "\n",
    "totalbill = (units*puc) + fc\n",
    "print('totalbill', totalbill)\n",
    "\n",
    "\n",
    "\n"
   ]
  },
  {
   "cell_type": "code",
   "execution_count": 39,
   "id": "7b1db259-63cb-4b47-890b-49567f1fbd23",
   "metadata": {},
   "outputs": [
    {
     "name": "stdin",
     "output_type": "stream",
     "text": [
      " 1\n",
      "Enter Your desired number:  23\n",
      "Enter Your desired number:  55\n"
     ]
    },
    {
     "name": "stdout",
     "output_type": "stream",
     "text": [
      "Addition of 23.0 and 55.0 is 78.0\n"
     ]
    }
   ],
   "source": [
    "#addition, subtraction, multiplication and division\n",
    "('''1==multiplication,\n",
    "2==subtraction,\n",
    "4== Division\n",
    "3==Multiplication\n",
    "''')\n",
    "option=input(\"\")\n",
    "\n",
    "number1=float(input(\"Enter Your desired number: \"))\n",
    "number2=float(input(\"Enter Your desired number: \"))\n",
    "if option =='1' :\n",
    "    print(\"Addition of\",number1, \"and\", number2, \"is\", number1+number2)\n",
    "elif option =='2' :\n",
    "    print(\"Subtraction of\",number1, \"and\", number2, \"is\", number1-number2)\n",
    "elif option =='3' :\n",
    "    print(\"multiplication of\",number1, \"and\", number2, \"is\", number1*number2)\n",
    "elif option =='4' :\n",
    "    print(\"Division of\",number1, \"and\", number2, \"is\", number1/number2)\n",
    "else:\n",
    "    print(\"Select number from a given option list.\")\n"
   ]
  },
  {
   "cell_type": "markdown",
   "id": "cb450578-b39c-459f-b50f-7ebac228abd6",
   "metadata": {},
   "source": [
    "## Iterative Statement\n"
   ]
  },
  {
   "cell_type": "code",
   "execution_count": 48,
   "id": "3e54139f-7bd2-4372-8d12-ade4dffa8434",
   "metadata": {},
   "outputs": [
    {
     "name": "stdout",
     "output_type": "stream",
     "text": [
      "hello world\n",
      "2\n",
      "hello world\n",
      "3\n",
      "hello world\n",
      "4\n",
      "hello world\n",
      "5\n",
      "I am out of loop\n"
     ]
    }
   ],
   "source": [
    "# While #for \n",
    "i=1\n",
    "while i<5:\n",
    "    print('hello world')\n",
    "    i+=1\n",
    "    print(i)\n",
    "print(\"I am out of loop\")\n",
    "\n",
    "      "
   ]
  },
  {
   "cell_type": "code",
   "execution_count": 53,
   "id": "4cb55cf4-3200-4f6d-917a-bc84d7617806",
   "metadata": {},
   "outputs": [
    {
     "name": "stdin",
     "output_type": "stream",
     "text": [
      "Enter your number 9\n"
     ]
    },
    {
     "name": "stdout",
     "output_type": "stream",
     "text": [
      "9 * 1 = 9\n",
      "9 * 2 = 18\n",
      "9 * 3 = 27\n",
      "9 * 4 = 36\n",
      "9 * 5 = 45\n",
      "9 * 6 = 54\n",
      "9 * 7 = 63\n",
      "9 * 8 = 72\n",
      "9 * 9 = 81\n",
      "9 * 10 = 90\n"
     ]
    }
   ],
   "source": [
    "number=int(input(\"Enter your number\"))\n",
    "i=1\n",
    "while i <11:\n",
    "    print(number, \"*\",i, \"=\",number*i)\n",
    "    i+=1\n",
    "    "
   ]
  },
  {
   "cell_type": "code",
   "execution_count": 54,
   "id": "9d18bbf7-fb55-40b2-afd6-b226b50d34bd",
   "metadata": {},
   "outputs": [
    {
     "name": "stdout",
     "output_type": "stream",
     "text": [
      "1\n",
      "2\n",
      "3\n",
      "4\n",
      "5\n",
      "6\n",
      "7\n"
     ]
    }
   ],
   "source": [
    "i=1\n",
    "while i <10:\n",
    "    print(i)\n",
    "    if i==7:\n",
    "        break\n",
    "    i +=1"
   ]
  },
  {
   "cell_type": "code",
   "execution_count": 55,
   "id": "d2d62a5c-60c3-403c-a0d8-fda5d65059ac",
   "metadata": {},
   "outputs": [
    {
     "name": "stdout",
     "output_type": "stream",
     "text": [
      "We are learning Python 1\n",
      "We are learning Python 2\n",
      "We are learning Python 3\n",
      "We are learning Python 4\n",
      "We are learning Python 5\n",
      "We are learning Python 6\n"
     ]
    }
   ],
   "source": [
    "i=1\n",
    "while (i<50 and i!=7):\n",
    "    print(\"We are learning Python\",i)\n",
    "    i+=1"
   ]
  },
  {
   "cell_type": "code",
   "execution_count": 56,
   "id": "985dd9ef-c7eb-47d5-862e-f48010582e5d",
   "metadata": {},
   "outputs": [
    {
     "name": "stdout",
     "output_type": "stream",
     "text": [
      "We are learning Python 1\n",
      "We are learning Python 2\n",
      "We are learning Python 3\n",
      "We are learning Python 4\n",
      "We are learning Python 5\n",
      "We are learning Python 6\n",
      "We are learning Python 8\n",
      "We are learning Python 9\n",
      "We are learning Python 10\n",
      "We are learning Python 11\n",
      "We are learning Python 12\n",
      "We are learning Python 13\n",
      "We are learning Python 14\n",
      "We are learning Python 15\n",
      "We are learning Python 16\n",
      "We are learning Python 17\n",
      "We are learning Python 18\n",
      "We are learning Python 19\n",
      "We are learning Python 20\n",
      "We are learning Python 21\n",
      "We are learning Python 22\n",
      "We are learning Python 23\n",
      "We are learning Python 24\n",
      "We are learning Python 25\n",
      "We are learning Python 26\n",
      "We are learning Python 27\n",
      "We are learning Python 28\n",
      "We are learning Python 29\n",
      "We are learning Python 30\n",
      "We are learning Python 31\n",
      "We are learning Python 32\n",
      "We are learning Python 33\n",
      "We are learning Python 34\n",
      "We are learning Python 35\n",
      "We are learning Python 36\n",
      "We are learning Python 37\n",
      "We are learning Python 38\n",
      "We are learning Python 39\n",
      "We are learning Python 40\n",
      "We are learning Python 41\n",
      "We are learning Python 42\n",
      "We are learning Python 43\n",
      "We are learning Python 44\n",
      "We are learning Python 45\n",
      "We are learning Python 46\n",
      "We are learning Python 47\n",
      "We are learning Python 48\n",
      "We are learning Python 49\n"
     ]
    }
   ],
   "source": [
    "i=1\n",
    "while (i<50):\n",
    "    if ( i != 7):\n",
    "        print(\"We are learning Python\",i)\n",
    "    i+=1"
   ]
  },
  {
   "cell_type": "code",
   "execution_count": 63,
   "id": "b6dcdf00-d7d8-4916-bbfc-3516244079f3",
   "metadata": {},
   "outputs": [
    {
     "name": "stdout",
     "output_type": "stream",
     "text": [
      "20\n",
      "30\n",
      "40\n",
      "60\n",
      "70\n",
      "80\n"
     ]
    }
   ],
   "source": [
    "#usage of break and continue\n",
    "\n",
    "num = 10\n",
    "while num <100:\n",
    "    num=num+10\n",
    "    if num==50:\n",
    "        continue\n",
    "    if num==90:\n",
    "        break\n",
    "    print(num)"
   ]
  },
  {
   "cell_type": "code",
   "execution_count": null,
   "id": "3af5af05-7426-4aff-bb72-0a753b5de7a0",
   "metadata": {},
   "outputs": [],
   "source": [
    "#while loop is quick, for loop is long \n",
    "\n",
    "\n"
   ]
  }
 ],
 "metadata": {
  "kernelspec": {
   "display_name": "Python 3 (ipykernel)",
   "language": "python",
   "name": "python3"
  },
  "language_info": {
   "codemirror_mode": {
    "name": "ipython",
    "version": 3
   },
   "file_extension": ".py",
   "mimetype": "text/x-python",
   "name": "python",
   "nbconvert_exporter": "python",
   "pygments_lexer": "ipython3",
   "version": "3.13.0"
  }
 },
 "nbformat": 4,
 "nbformat_minor": 5
}
